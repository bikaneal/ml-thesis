{
  "nbformat": 4,
  "nbformat_minor": 0,
  "metadata": {
    "colab": {
      "provenance": [],
      "mount_file_id": "1NTuJPKFlEQdd1mFusIiCiKd9NcG-Zppu",
      "authorship_tag": "ABX9TyNS6sRrFb1QFVhZHsNebK4j",
      "include_colab_link": true
    },
    "kernelspec": {
      "name": "python3",
      "display_name": "Python 3"
    },
    "language_info": {
      "name": "python"
    }
  },
  "cells": [
    {
      "cell_type": "markdown",
      "metadata": {
        "id": "view-in-github",
        "colab_type": "text"
      },
      "source": [
        "<a href=\"https://colab.research.google.com/github/bikaneal/ml-thesis/blob/main/classification.ipynb\" target=\"_parent\"><img src=\"https://colab.research.google.com/assets/colab-badge.svg\" alt=\"Open In Colab\"/></a>"
      ]
    },
    {
      "cell_type": "markdown",
      "source": [
        "**Применение алгоритма классификации на репликах участников групповых работ**"
      ],
      "metadata": {
        "id": "XlRV1BOWCKzC"
      }
    },
    {
      "cell_type": "code",
      "source": [
        "from google.colab import drive\n",
        "drive.mount('/content/drive')"
      ],
      "metadata": {
        "colab": {
          "base_uri": "https://localhost:8080/"
        },
        "id": "Zn2Hh23f067N",
        "outputId": "e921892a-0030-4be3-de4e-30af0ce5fdbd"
      },
      "execution_count": null,
      "outputs": [
        {
          "output_type": "stream",
          "name": "stdout",
          "text": [
            "Drive already mounted at /content/drive; to attempt to forcibly remount, call drive.mount(\"/content/drive\", force_remount=True).\n"
          ]
        }
      ]
    },
    {
      "cell_type": "markdown",
      "source": [
        "# С использованием логистической регрессии и мешка слов\n",
        "\n",
        "Более простой вариант"
      ],
      "metadata": {
        "id": "UfrPL8W2CpQQ"
      }
    },
    {
      "cell_type": "code",
      "source": [
        "!pip install pymorphy3"
      ],
      "metadata": {
        "colab": {
          "base_uri": "https://localhost:8080/"
        },
        "id": "w6mL8Jr6CtSY",
        "outputId": "fc746149-4278-4e96-d8d1-01ac820dab5c"
      },
      "execution_count": null,
      "outputs": [
        {
          "output_type": "stream",
          "name": "stdout",
          "text": [
            "Collecting pymorphy3\n",
            "  Downloading pymorphy3-2.0.1-py3-none-any.whl (53 kB)\n",
            "\u001b[2K     \u001b[90m━━━━━━━━━━━━━━━━━━━━━━━━━━━━━━━━━━━━━━━━\u001b[0m \u001b[32m53.2/53.2 kB\u001b[0m \u001b[31m1.0 MB/s\u001b[0m eta \u001b[36m0:00:00\u001b[0m\n",
            "\u001b[?25hCollecting dawg-python>=0.7.1 (from pymorphy3)\n",
            "  Downloading DAWG_Python-0.7.2-py2.py3-none-any.whl (11 kB)\n",
            "Collecting pymorphy3-dicts-ru (from pymorphy3)\n",
            "  Downloading pymorphy3_dicts_ru-2.4.417150.4580142-py2.py3-none-any.whl (8.4 MB)\n",
            "\u001b[2K     \u001b[90m━━━━━━━━━━━━━━━━━━━━━━━━━━━━━━━━━━━━━━━━\u001b[0m \u001b[32m8.4/8.4 MB\u001b[0m \u001b[31m43.7 MB/s\u001b[0m eta \u001b[36m0:00:00\u001b[0m\n",
            "\u001b[?25hInstalling collected packages: pymorphy3-dicts-ru, dawg-python, pymorphy3\n",
            "Successfully installed dawg-python-0.7.2 pymorphy3-2.0.1 pymorphy3-dicts-ru-2.4.417150.4580142\n"
          ]
        }
      ]
    },
    {
      "cell_type": "code",
      "source": [
        "import pandas as pd\n",
        "import numpy as np\n",
        "\n",
        "import pymorphy3\n",
        "import nltk\n",
        "from nltk.tokenize import word_tokenize\n",
        "from nltk.corpus import stopwords\n",
        "from sklearn.linear_model import LogisticRegression\n",
        "from sklearn.model_selection import train_test_split\n",
        "\n",
        "from collections import Counter"
      ],
      "metadata": {
        "id": "36WhmiwACvPo"
      },
      "execution_count": null,
      "outputs": []
    },
    {
      "cell_type": "code",
      "source": [
        "nltk.download('stopwords')\n",
        "nltk.download('punkt')"
      ],
      "metadata": {
        "colab": {
          "base_uri": "https://localhost:8080/"
        },
        "id": "Qt5Ds5DMC3lQ",
        "outputId": "94601326-8934-4e77-a904-8d45d9eb9011"
      },
      "execution_count": null,
      "outputs": [
        {
          "output_type": "stream",
          "name": "stderr",
          "text": [
            "[nltk_data] Downloading package stopwords to /root/nltk_data...\n",
            "[nltk_data]   Unzipping corpora/stopwords.zip.\n",
            "[nltk_data] Downloading package punkt to /root/nltk_data...\n",
            "[nltk_data]   Unzipping tokenizers/punkt.zip.\n"
          ]
        },
        {
          "output_type": "execute_result",
          "data": {
            "text/plain": [
              "True"
            ]
          },
          "metadata": {},
          "execution_count": 4
        }
      ]
    },
    {
      "cell_type": "markdown",
      "source": [
        "## Загружаем и обрабатываем датасет\n",
        "\n"
      ],
      "metadata": {
        "id": "OUS6W86RD1nv"
      }
    },
    {
      "cell_type": "code",
      "source": [
        "df = pd.read_csv('/content/drive/MyDrive/Colab_Notebooks/Classes/file_upd.csv')\n",
        "df.drop('Unnamed: 0', inplace=True, axis=1)"
      ],
      "metadata": {
        "id": "gSU3Vk69DmHw"
      },
      "execution_count": null,
      "outputs": []
    },
    {
      "cell_type": "code",
      "source": [
        "df"
      ],
      "metadata": {
        "id": "u0VTatlFEtKd"
      },
      "execution_count": null,
      "outputs": []
    },
    {
      "cell_type": "code",
      "source": [
        "def preprocess(text):\n",
        "    tokens = word_tokenize(text.lower())\n",
        "    preprocessed_text = []\n",
        "    for token in tokens:\n",
        "        if token not in punctuation_marks:\n",
        "            lemma = morph.parse(token)[0].normal_form\n",
        "            if lemma not in stop_words:\n",
        "                preprocessed_text.append(lemma)\n",
        "    return preprocessed_text"
      ],
      "metadata": {
        "id": "JcUH8FuTFgf6"
      },
      "execution_count": null,
      "outputs": []
    },
    {
      "cell_type": "code",
      "source": [
        "morph = pymorphy3.MorphAnalyzer()\n",
        "stop_words = stopwords.words('russian')\n",
        "punctuation_marks = ['!', ',', '(', ')', ':', '-', '?', '.', '..', '...', '«', '»']"
      ],
      "metadata": {
        "id": "50QSfnFQFk0i"
      },
      "execution_count": null,
      "outputs": []
    },
    {
      "cell_type": "code",
      "source": [
        "df['preprocessed_text'] = df.apply(lambda row: preprocess(row['text']), axis=1)"
      ],
      "metadata": {
        "id": "KXL5xiRxFtQq"
      },
      "execution_count": null,
      "outputs": []
    },
    {
      "cell_type": "code",
      "source": [
        "df"
      ],
      "metadata": {
        "colab": {
          "base_uri": "https://localhost:8080/",
          "height": 423
        },
        "id": "bgQ0w5EZGCZr",
        "outputId": "d739edac-846a-4633-fc77-df66bf94574a"
      },
      "execution_count": null,
      "outputs": [
        {
          "output_type": "execute_result",
          "data": {
            "text/plain": [
              "                                                  text     category  \\\n",
              "0                                      Давайте двойку.  предложение   \n",
              "1                                              Ставлю.  предложение   \n",
              "2                             Нам надо пять поставить.  предложение   \n",
              "3                               Ребят, 2 надо ставить.  предложение   \n",
              "4                  2 надо ставить, у нас ресурсов нет.  предложение   \n",
              "..                                                 ...          ...   \n",
              "261  Смотрим их, да, и наблюдаем за стратегией других.       другое   \n",
              "262  Так, а мне, Варвара, мне надо каждый раз отпра...       другое   \n",
              "263                                              Давай       другое   \n",
              "264                                   Давай, согласна.       другое   \n",
              "265                    Прости, я тебя вообще не слышу.       другое   \n",
              "\n",
              "                                     preprocessed_text  \n",
              "0                                     [давать, двойка]  \n",
              "1                                            [ставить]  \n",
              "2                                    [пять, поставить]  \n",
              "3                                 [ребята, 2, ставить]  \n",
              "4                                 [2, ставить, ресурс]  \n",
              "..                                                 ...  \n",
              "261                   [смотреть, наблюдать, стратегия]  \n",
              "262  [варвар, каждый, отправить, ещё, ответ, следую...  \n",
              "263                                           [давать]  \n",
              "264                                [давать, согласный]  \n",
              "265                        [простить, вообще, слышать]  \n",
              "\n",
              "[266 rows x 3 columns]"
            ],
            "text/html": [
              "\n",
              "  <div id=\"df-63b23ff0-4a45-42ca-b608-c3826b3b4490\" class=\"colab-df-container\">\n",
              "    <div>\n",
              "<style scoped>\n",
              "    .dataframe tbody tr th:only-of-type {\n",
              "        vertical-align: middle;\n",
              "    }\n",
              "\n",
              "    .dataframe tbody tr th {\n",
              "        vertical-align: top;\n",
              "    }\n",
              "\n",
              "    .dataframe thead th {\n",
              "        text-align: right;\n",
              "    }\n",
              "</style>\n",
              "<table border=\"1\" class=\"dataframe\">\n",
              "  <thead>\n",
              "    <tr style=\"text-align: right;\">\n",
              "      <th></th>\n",
              "      <th>text</th>\n",
              "      <th>category</th>\n",
              "      <th>preprocessed_text</th>\n",
              "    </tr>\n",
              "  </thead>\n",
              "  <tbody>\n",
              "    <tr>\n",
              "      <th>0</th>\n",
              "      <td>Давайте двойку.</td>\n",
              "      <td>предложение</td>\n",
              "      <td>[давать, двойка]</td>\n",
              "    </tr>\n",
              "    <tr>\n",
              "      <th>1</th>\n",
              "      <td>Ставлю.</td>\n",
              "      <td>предложение</td>\n",
              "      <td>[ставить]</td>\n",
              "    </tr>\n",
              "    <tr>\n",
              "      <th>2</th>\n",
              "      <td>Нам надо пять поставить.</td>\n",
              "      <td>предложение</td>\n",
              "      <td>[пять, поставить]</td>\n",
              "    </tr>\n",
              "    <tr>\n",
              "      <th>3</th>\n",
              "      <td>Ребят, 2 надо ставить.</td>\n",
              "      <td>предложение</td>\n",
              "      <td>[ребята, 2, ставить]</td>\n",
              "    </tr>\n",
              "    <tr>\n",
              "      <th>4</th>\n",
              "      <td>2 надо ставить, у нас ресурсов нет.</td>\n",
              "      <td>предложение</td>\n",
              "      <td>[2, ставить, ресурс]</td>\n",
              "    </tr>\n",
              "    <tr>\n",
              "      <th>...</th>\n",
              "      <td>...</td>\n",
              "      <td>...</td>\n",
              "      <td>...</td>\n",
              "    </tr>\n",
              "    <tr>\n",
              "      <th>261</th>\n",
              "      <td>Смотрим их, да, и наблюдаем за стратегией других.</td>\n",
              "      <td>другое</td>\n",
              "      <td>[смотреть, наблюдать, стратегия]</td>\n",
              "    </tr>\n",
              "    <tr>\n",
              "      <th>262</th>\n",
              "      <td>Так, а мне, Варвара, мне надо каждый раз отпра...</td>\n",
              "      <td>другое</td>\n",
              "      <td>[варвар, каждый, отправить, ещё, ответ, следую...</td>\n",
              "    </tr>\n",
              "    <tr>\n",
              "      <th>263</th>\n",
              "      <td>Давай</td>\n",
              "      <td>другое</td>\n",
              "      <td>[давать]</td>\n",
              "    </tr>\n",
              "    <tr>\n",
              "      <th>264</th>\n",
              "      <td>Давай, согласна.</td>\n",
              "      <td>другое</td>\n",
              "      <td>[давать, согласный]</td>\n",
              "    </tr>\n",
              "    <tr>\n",
              "      <th>265</th>\n",
              "      <td>Прости, я тебя вообще не слышу.</td>\n",
              "      <td>другое</td>\n",
              "      <td>[простить, вообще, слышать]</td>\n",
              "    </tr>\n",
              "  </tbody>\n",
              "</table>\n",
              "<p>266 rows × 3 columns</p>\n",
              "</div>\n",
              "    <div class=\"colab-df-buttons\">\n",
              "\n",
              "  <div class=\"colab-df-container\">\n",
              "    <button class=\"colab-df-convert\" onclick=\"convertToInteractive('df-63b23ff0-4a45-42ca-b608-c3826b3b4490')\"\n",
              "            title=\"Convert this dataframe to an interactive table.\"\n",
              "            style=\"display:none;\">\n",
              "\n",
              "  <svg xmlns=\"http://www.w3.org/2000/svg\" height=\"24px\" viewBox=\"0 -960 960 960\">\n",
              "    <path d=\"M120-120v-720h720v720H120Zm60-500h600v-160H180v160Zm220 220h160v-160H400v160Zm0 220h160v-160H400v160ZM180-400h160v-160H180v160Zm440 0h160v-160H620v160ZM180-180h160v-160H180v160Zm440 0h160v-160H620v160Z\"/>\n",
              "  </svg>\n",
              "    </button>\n",
              "\n",
              "  <style>\n",
              "    .colab-df-container {\n",
              "      display:flex;\n",
              "      gap: 12px;\n",
              "    }\n",
              "\n",
              "    .colab-df-convert {\n",
              "      background-color: #E8F0FE;\n",
              "      border: none;\n",
              "      border-radius: 50%;\n",
              "      cursor: pointer;\n",
              "      display: none;\n",
              "      fill: #1967D2;\n",
              "      height: 32px;\n",
              "      padding: 0 0 0 0;\n",
              "      width: 32px;\n",
              "    }\n",
              "\n",
              "    .colab-df-convert:hover {\n",
              "      background-color: #E2EBFA;\n",
              "      box-shadow: 0px 1px 2px rgba(60, 64, 67, 0.3), 0px 1px 3px 1px rgba(60, 64, 67, 0.15);\n",
              "      fill: #174EA6;\n",
              "    }\n",
              "\n",
              "    .colab-df-buttons div {\n",
              "      margin-bottom: 4px;\n",
              "    }\n",
              "\n",
              "    [theme=dark] .colab-df-convert {\n",
              "      background-color: #3B4455;\n",
              "      fill: #D2E3FC;\n",
              "    }\n",
              "\n",
              "    [theme=dark] .colab-df-convert:hover {\n",
              "      background-color: #434B5C;\n",
              "      box-shadow: 0px 1px 3px 1px rgba(0, 0, 0, 0.15);\n",
              "      filter: drop-shadow(0px 1px 2px rgba(0, 0, 0, 0.3));\n",
              "      fill: #FFFFFF;\n",
              "    }\n",
              "  </style>\n",
              "\n",
              "    <script>\n",
              "      const buttonEl =\n",
              "        document.querySelector('#df-63b23ff0-4a45-42ca-b608-c3826b3b4490 button.colab-df-convert');\n",
              "      buttonEl.style.display =\n",
              "        google.colab.kernel.accessAllowed ? 'block' : 'none';\n",
              "\n",
              "      async function convertToInteractive(key) {\n",
              "        const element = document.querySelector('#df-63b23ff0-4a45-42ca-b608-c3826b3b4490');\n",
              "        const dataTable =\n",
              "          await google.colab.kernel.invokeFunction('convertToInteractive',\n",
              "                                                    [key], {});\n",
              "        if (!dataTable) return;\n",
              "\n",
              "        const docLinkHtml = 'Like what you see? Visit the ' +\n",
              "          '<a target=\"_blank\" href=https://colab.research.google.com/notebooks/data_table.ipynb>data table notebook</a>'\n",
              "          + ' to learn more about interactive tables.';\n",
              "        element.innerHTML = '';\n",
              "        dataTable['output_type'] = 'display_data';\n",
              "        await google.colab.output.renderOutput(dataTable, element);\n",
              "        const docLink = document.createElement('div');\n",
              "        docLink.innerHTML = docLinkHtml;\n",
              "        element.appendChild(docLink);\n",
              "      }\n",
              "    </script>\n",
              "  </div>\n",
              "\n",
              "\n",
              "<div id=\"df-275ad66e-6c06-4355-9262-01afa081edb0\">\n",
              "  <button class=\"colab-df-quickchart\" onclick=\"quickchart('df-275ad66e-6c06-4355-9262-01afa081edb0')\"\n",
              "            title=\"Suggest charts\"\n",
              "            style=\"display:none;\">\n",
              "\n",
              "<svg xmlns=\"http://www.w3.org/2000/svg\" height=\"24px\"viewBox=\"0 0 24 24\"\n",
              "     width=\"24px\">\n",
              "    <g>\n",
              "        <path d=\"M19 3H5c-1.1 0-2 .9-2 2v14c0 1.1.9 2 2 2h14c1.1 0 2-.9 2-2V5c0-1.1-.9-2-2-2zM9 17H7v-7h2v7zm4 0h-2V7h2v10zm4 0h-2v-4h2v4z\"/>\n",
              "    </g>\n",
              "</svg>\n",
              "  </button>\n",
              "\n",
              "<style>\n",
              "  .colab-df-quickchart {\n",
              "      --bg-color: #E8F0FE;\n",
              "      --fill-color: #1967D2;\n",
              "      --hover-bg-color: #E2EBFA;\n",
              "      --hover-fill-color: #174EA6;\n",
              "      --disabled-fill-color: #AAA;\n",
              "      --disabled-bg-color: #DDD;\n",
              "  }\n",
              "\n",
              "  [theme=dark] .colab-df-quickchart {\n",
              "      --bg-color: #3B4455;\n",
              "      --fill-color: #D2E3FC;\n",
              "      --hover-bg-color: #434B5C;\n",
              "      --hover-fill-color: #FFFFFF;\n",
              "      --disabled-bg-color: #3B4455;\n",
              "      --disabled-fill-color: #666;\n",
              "  }\n",
              "\n",
              "  .colab-df-quickchart {\n",
              "    background-color: var(--bg-color);\n",
              "    border: none;\n",
              "    border-radius: 50%;\n",
              "    cursor: pointer;\n",
              "    display: none;\n",
              "    fill: var(--fill-color);\n",
              "    height: 32px;\n",
              "    padding: 0;\n",
              "    width: 32px;\n",
              "  }\n",
              "\n",
              "  .colab-df-quickchart:hover {\n",
              "    background-color: var(--hover-bg-color);\n",
              "    box-shadow: 0 1px 2px rgba(60, 64, 67, 0.3), 0 1px 3px 1px rgba(60, 64, 67, 0.15);\n",
              "    fill: var(--button-hover-fill-color);\n",
              "  }\n",
              "\n",
              "  .colab-df-quickchart-complete:disabled,\n",
              "  .colab-df-quickchart-complete:disabled:hover {\n",
              "    background-color: var(--disabled-bg-color);\n",
              "    fill: var(--disabled-fill-color);\n",
              "    box-shadow: none;\n",
              "  }\n",
              "\n",
              "  .colab-df-spinner {\n",
              "    border: 2px solid var(--fill-color);\n",
              "    border-color: transparent;\n",
              "    border-bottom-color: var(--fill-color);\n",
              "    animation:\n",
              "      spin 1s steps(1) infinite;\n",
              "  }\n",
              "\n",
              "  @keyframes spin {\n",
              "    0% {\n",
              "      border-color: transparent;\n",
              "      border-bottom-color: var(--fill-color);\n",
              "      border-left-color: var(--fill-color);\n",
              "    }\n",
              "    20% {\n",
              "      border-color: transparent;\n",
              "      border-left-color: var(--fill-color);\n",
              "      border-top-color: var(--fill-color);\n",
              "    }\n",
              "    30% {\n",
              "      border-color: transparent;\n",
              "      border-left-color: var(--fill-color);\n",
              "      border-top-color: var(--fill-color);\n",
              "      border-right-color: var(--fill-color);\n",
              "    }\n",
              "    40% {\n",
              "      border-color: transparent;\n",
              "      border-right-color: var(--fill-color);\n",
              "      border-top-color: var(--fill-color);\n",
              "    }\n",
              "    60% {\n",
              "      border-color: transparent;\n",
              "      border-right-color: var(--fill-color);\n",
              "    }\n",
              "    80% {\n",
              "      border-color: transparent;\n",
              "      border-right-color: var(--fill-color);\n",
              "      border-bottom-color: var(--fill-color);\n",
              "    }\n",
              "    90% {\n",
              "      border-color: transparent;\n",
              "      border-bottom-color: var(--fill-color);\n",
              "    }\n",
              "  }\n",
              "</style>\n",
              "\n",
              "  <script>\n",
              "    async function quickchart(key) {\n",
              "      const quickchartButtonEl =\n",
              "        document.querySelector('#' + key + ' button');\n",
              "      quickchartButtonEl.disabled = true;  // To prevent multiple clicks.\n",
              "      quickchartButtonEl.classList.add('colab-df-spinner');\n",
              "      try {\n",
              "        const charts = await google.colab.kernel.invokeFunction(\n",
              "            'suggestCharts', [key], {});\n",
              "      } catch (error) {\n",
              "        console.error('Error during call to suggestCharts:', error);\n",
              "      }\n",
              "      quickchartButtonEl.classList.remove('colab-df-spinner');\n",
              "      quickchartButtonEl.classList.add('colab-df-quickchart-complete');\n",
              "    }\n",
              "    (() => {\n",
              "      let quickchartButtonEl =\n",
              "        document.querySelector('#df-275ad66e-6c06-4355-9262-01afa081edb0 button');\n",
              "      quickchartButtonEl.style.display =\n",
              "        google.colab.kernel.accessAllowed ? 'block' : 'none';\n",
              "    })();\n",
              "  </script>\n",
              "</div>\n",
              "    </div>\n",
              "  </div>\n"
            ],
            "application/vnd.google.colaboratory.intrinsic+json": {
              "type": "dataframe",
              "variable_name": "df",
              "summary": "{\n  \"name\": \"df\",\n  \"rows\": 266,\n  \"fields\": [\n    {\n      \"column\": \"text\",\n      \"properties\": {\n        \"dtype\": \"string\",\n        \"num_unique_values\": 264,\n        \"samples\": [\n          \"\\u041d\\u0438\\u0447\\u0435\\u0433\\u043e, \\u043c\\u043e\\u0436\\u043d\\u043e \\u043d\\u0430 \\u0435\\u0435 \\u043d\\u0430\\u0431\\u043e\\u0440\\u043a\\u0443 \\u0432\\u043e\\u0437\\u0432\\u0440\\u0430\\u0449\\u0430\\u0442\\u044c\\u0441\\u044f.\",\n          \"\\u041d\\u043e \\u043e\\u043d\\u0438 \\u043c\\u043e\\u0433\\u0443\\u0442 \\u0441\\u0435\\u0439\\u0447\\u0430\\u0441 \\u0441\\u0442\\u0440\\u0430\\u0442\\u0435\\u0433\\u0438\\u044e \\u043f\\u043e\\u043c\\u0435\\u043d\\u044f\\u0442\\u044c.\",\n          \"\\u0414\\u0430, \\u0434\\u0430\\u0432\\u0430\\u0439\\u0442\\u0435 \\u043f\\u043e\\u0441\\u0442\\u0430\\u0432\\u0438\\u043c. \\u041d\\u043e \\u043e\\u043d\\u0438 \\u0432\\u044b\\u0438\\u0433\\u0440\\u0430\\u044e\\u0442. \\u041e\\u043d\\u0438 \\u043c\\u043e\\u0433\\u0443\\u0442 \\u0432\\u044b\\u0438\\u0433\\u0440\\u0430\\u0442\\u044c.\"\n        ],\n        \"semantic_type\": \"\",\n        \"description\": \"\"\n      }\n    },\n    {\n      \"column\": \"category\",\n      \"properties\": {\n        \"dtype\": \"category\",\n        \"num_unique_values\": 2,\n        \"samples\": [\n          \"\\u0434\\u0440\\u0443\\u0433\\u043e\\u0435\",\n          \"\\u043f\\u0440\\u0435\\u0434\\u043b\\u043e\\u0436\\u0435\\u043d\\u0438\\u0435\"\n        ],\n        \"semantic_type\": \"\",\n        \"description\": \"\"\n      }\n    },\n    {\n      \"column\": \"preprocessed_text\",\n      \"properties\": {\n        \"dtype\": \"object\",\n        \"semantic_type\": \"\",\n        \"description\": \"\"\n      }\n    }\n  ]\n}"
            }
          },
          "metadata": {},
          "execution_count": 12
        }
      ]
    },
    {
      "cell_type": "markdown",
      "source": [
        "### Подсчет частоты слов во всех репликах"
      ],
      "metadata": {
        "id": "3ttHqvN5GGQa"
      }
    },
    {
      "cell_type": "code",
      "source": [
        "words = Counter()"
      ],
      "metadata": {
        "id": "E33Zs9ITGJry"
      },
      "execution_count": null,
      "outputs": []
    },
    {
      "cell_type": "code",
      "source": [
        "for phrase in df['preprocessed_text']:\n",
        "  words.update(phrase)"
      ],
      "metadata": {
        "id": "yOsI_h4vGXtK"
      },
      "execution_count": null,
      "outputs": []
    },
    {
      "cell_type": "code",
      "source": [
        "words.most_common(10)"
      ],
      "metadata": {
        "colab": {
          "base_uri": "https://localhost:8080/"
        },
        "id": "D9Z7kv0cVEgy",
        "outputId": "8a1866a1-9bd9-4afe-d74d-74113c3dff8f"
      },
      "execution_count": null,
      "outputs": [
        {
          "output_type": "execute_result",
          "data": {
            "text/plain": [
              "[('давать', 49),\n",
              " ('поставить', 43),\n",
              " ('ставить', 28),\n",
              " ('мочь', 27),\n",
              " ('остаться', 20),\n",
              " ('всё', 20),\n",
              " ('команда', 19),\n",
              " ('это', 18),\n",
              " ('выиграть', 12),\n",
              " ('просто', 12)]"
            ]
          },
          "metadata": {},
          "execution_count": 15
        }
      ]
    },
    {
      "cell_type": "markdown",
      "source": [
        "###Создаем словарь, упорядоченный по частоте"
      ],
      "metadata": {
        "id": "jbcY8BZlGibY"
      }
    },
    {
      "cell_type": "markdown",
      "source": [
        "В словаре будем использовать 2 специальных кода:\n",
        "\n",
        "* Код заполнитель: 0\n",
        "\n",
        "* Неизвестное слово: 1\n",
        "\n",
        "Нумерация в словаре начинается с 2."
      ],
      "metadata": {
        "id": "gfT4mhONGieA"
      }
    },
    {
      "cell_type": "code",
      "source": [
        "# Словарь, отображающий слова в коды\n",
        "word_to_index = dict()\n",
        "\n",
        "# Словарь, отображающий коды в слова\n",
        "index_to_word = dict()"
      ],
      "metadata": {
        "id": "uvU95emDGl8Z"
      },
      "execution_count": null,
      "outputs": []
    },
    {
      "cell_type": "markdown",
      "source": [
        "###Заполняем константы:"
      ],
      "metadata": {
        "id": "Kuw2_7IxGrSQ"
      }
    },
    {
      "cell_type": "code",
      "source": [
        "max_words = len(words)\n",
        "random_state = 42"
      ],
      "metadata": {
        "id": "HSzfHs1TGp8A"
      },
      "execution_count": null,
      "outputs": []
    },
    {
      "cell_type": "markdown",
      "source": [
        "###Создаем словари"
      ],
      "metadata": {
        "id": "zYO85H4AGyGY"
      }
    },
    {
      "cell_type": "code",
      "source": [
        "for i, word in enumerate(words.most_common(max_words - 2)):\n",
        "  word_to_index[word[0]] = i+2\n",
        "  index_to_word[i+2] = word[0]"
      ],
      "metadata": {
        "id": "ODX3ACAWGuuo"
      },
      "execution_count": null,
      "outputs": []
    },
    {
      "cell_type": "markdown",
      "source": [
        "###Функция для преобразования список слов в список кодов"
      ],
      "metadata": {
        "id": "Z5z4YGZCG1Ag"
      }
    },
    {
      "cell_type": "code",
      "source": [
        "def text_to_sequence(txt, word_to_index):\n",
        "  seq = []\n",
        "  for word in txt:\n",
        "    index = word_to_index.get(word, 1)\n",
        "    if index != 1:\n",
        "      seq.append(index)\n",
        "  return seq"
      ],
      "metadata": {
        "id": "PGclwRlgG3d5"
      },
      "execution_count": null,
      "outputs": []
    },
    {
      "cell_type": "markdown",
      "source": [
        "###Преобразуем все реплики в последовательность кодов"
      ],
      "metadata": {
        "id": "a-q08LsUHK74"
      }
    },
    {
      "cell_type": "code",
      "source": [
        "df['sequences'] = df.apply(lambda row: text_to_sequence(row['preprocessed_text'], word_to_index), axis=1)"
      ],
      "metadata": {
        "id": "z08mpfbVHNbo"
      },
      "execution_count": null,
      "outputs": []
    },
    {
      "cell_type": "code",
      "source": [
        "df"
      ],
      "metadata": {
        "colab": {
          "base_uri": "https://localhost:8080/",
          "height": 423
        },
        "id": "iOU2kipkHRG3",
        "outputId": "84292e55-7fd4-4e2e-b2e3-855ec6ae608d"
      },
      "execution_count": null,
      "outputs": [
        {
          "output_type": "execute_result",
          "data": {
            "text/plain": [
              "                                                  text     category  \\\n",
              "0                                      Давайте двойку.  предложение   \n",
              "1                                              Ставлю.  предложение   \n",
              "2                             Нам надо пять поставить.  предложение   \n",
              "3                               Ребят, 2 надо ставить.  предложение   \n",
              "4                  2 надо ставить, у нас ресурсов нет.  предложение   \n",
              "..                                                 ...          ...   \n",
              "261  Смотрим их, да, и наблюдаем за стратегией других.       другое   \n",
              "262  Так, а мне, Варвара, мне надо каждый раз отпра...       другое   \n",
              "263                                              Давай       другое   \n",
              "264                                   Давай, согласна.       другое   \n",
              "265                    Прости, я тебя вообще не слышу.       другое   \n",
              "\n",
              "                                     preprocessed_text               sequences  \n",
              "0                                     [давать, двойка]                 [2, 32]  \n",
              "1                                            [ставить]                     [4]  \n",
              "2                                    [пять, поставить]                 [45, 3]  \n",
              "3                                 [ребята, 2, ставить]            [114, 26, 4]  \n",
              "4                                 [2, ставить, ресурс]             [26, 4, 27]  \n",
              "..                                                 ...                     ...  \n",
              "261                   [смотреть, наблюдать, стратегия]           [12, 409, 33]  \n",
              "262  [варвар, каждый, отправить, ещё, ответ, следую...  [198, 410, 78, 16, 43]  \n",
              "263                                           [давать]                     [2]  \n",
              "264                                [давать, согласный]                 [2, 18]  \n",
              "265                        [простить, вообще, слышать]               [34, 125]  \n",
              "\n",
              "[266 rows x 4 columns]"
            ],
            "text/html": [
              "\n",
              "  <div id=\"df-9a5a6b23-3912-4cc3-8d9e-8ba3336a7076\" class=\"colab-df-container\">\n",
              "    <div>\n",
              "<style scoped>\n",
              "    .dataframe tbody tr th:only-of-type {\n",
              "        vertical-align: middle;\n",
              "    }\n",
              "\n",
              "    .dataframe tbody tr th {\n",
              "        vertical-align: top;\n",
              "    }\n",
              "\n",
              "    .dataframe thead th {\n",
              "        text-align: right;\n",
              "    }\n",
              "</style>\n",
              "<table border=\"1\" class=\"dataframe\">\n",
              "  <thead>\n",
              "    <tr style=\"text-align: right;\">\n",
              "      <th></th>\n",
              "      <th>text</th>\n",
              "      <th>category</th>\n",
              "      <th>preprocessed_text</th>\n",
              "      <th>sequences</th>\n",
              "    </tr>\n",
              "  </thead>\n",
              "  <tbody>\n",
              "    <tr>\n",
              "      <th>0</th>\n",
              "      <td>Давайте двойку.</td>\n",
              "      <td>предложение</td>\n",
              "      <td>[давать, двойка]</td>\n",
              "      <td>[2, 32]</td>\n",
              "    </tr>\n",
              "    <tr>\n",
              "      <th>1</th>\n",
              "      <td>Ставлю.</td>\n",
              "      <td>предложение</td>\n",
              "      <td>[ставить]</td>\n",
              "      <td>[4]</td>\n",
              "    </tr>\n",
              "    <tr>\n",
              "      <th>2</th>\n",
              "      <td>Нам надо пять поставить.</td>\n",
              "      <td>предложение</td>\n",
              "      <td>[пять, поставить]</td>\n",
              "      <td>[45, 3]</td>\n",
              "    </tr>\n",
              "    <tr>\n",
              "      <th>3</th>\n",
              "      <td>Ребят, 2 надо ставить.</td>\n",
              "      <td>предложение</td>\n",
              "      <td>[ребята, 2, ставить]</td>\n",
              "      <td>[114, 26, 4]</td>\n",
              "    </tr>\n",
              "    <tr>\n",
              "      <th>4</th>\n",
              "      <td>2 надо ставить, у нас ресурсов нет.</td>\n",
              "      <td>предложение</td>\n",
              "      <td>[2, ставить, ресурс]</td>\n",
              "      <td>[26, 4, 27]</td>\n",
              "    </tr>\n",
              "    <tr>\n",
              "      <th>...</th>\n",
              "      <td>...</td>\n",
              "      <td>...</td>\n",
              "      <td>...</td>\n",
              "      <td>...</td>\n",
              "    </tr>\n",
              "    <tr>\n",
              "      <th>261</th>\n",
              "      <td>Смотрим их, да, и наблюдаем за стратегией других.</td>\n",
              "      <td>другое</td>\n",
              "      <td>[смотреть, наблюдать, стратегия]</td>\n",
              "      <td>[12, 409, 33]</td>\n",
              "    </tr>\n",
              "    <tr>\n",
              "      <th>262</th>\n",
              "      <td>Так, а мне, Варвара, мне надо каждый раз отпра...</td>\n",
              "      <td>другое</td>\n",
              "      <td>[варвар, каждый, отправить, ещё, ответ, следую...</td>\n",
              "      <td>[198, 410, 78, 16, 43]</td>\n",
              "    </tr>\n",
              "    <tr>\n",
              "      <th>263</th>\n",
              "      <td>Давай</td>\n",
              "      <td>другое</td>\n",
              "      <td>[давать]</td>\n",
              "      <td>[2]</td>\n",
              "    </tr>\n",
              "    <tr>\n",
              "      <th>264</th>\n",
              "      <td>Давай, согласна.</td>\n",
              "      <td>другое</td>\n",
              "      <td>[давать, согласный]</td>\n",
              "      <td>[2, 18]</td>\n",
              "    </tr>\n",
              "    <tr>\n",
              "      <th>265</th>\n",
              "      <td>Прости, я тебя вообще не слышу.</td>\n",
              "      <td>другое</td>\n",
              "      <td>[простить, вообще, слышать]</td>\n",
              "      <td>[34, 125]</td>\n",
              "    </tr>\n",
              "  </tbody>\n",
              "</table>\n",
              "<p>266 rows × 4 columns</p>\n",
              "</div>\n",
              "    <div class=\"colab-df-buttons\">\n",
              "\n",
              "  <div class=\"colab-df-container\">\n",
              "    <button class=\"colab-df-convert\" onclick=\"convertToInteractive('df-9a5a6b23-3912-4cc3-8d9e-8ba3336a7076')\"\n",
              "            title=\"Convert this dataframe to an interactive table.\"\n",
              "            style=\"display:none;\">\n",
              "\n",
              "  <svg xmlns=\"http://www.w3.org/2000/svg\" height=\"24px\" viewBox=\"0 -960 960 960\">\n",
              "    <path d=\"M120-120v-720h720v720H120Zm60-500h600v-160H180v160Zm220 220h160v-160H400v160Zm0 220h160v-160H400v160ZM180-400h160v-160H180v160Zm440 0h160v-160H620v160ZM180-180h160v-160H180v160Zm440 0h160v-160H620v160Z\"/>\n",
              "  </svg>\n",
              "    </button>\n",
              "\n",
              "  <style>\n",
              "    .colab-df-container {\n",
              "      display:flex;\n",
              "      gap: 12px;\n",
              "    }\n",
              "\n",
              "    .colab-df-convert {\n",
              "      background-color: #E8F0FE;\n",
              "      border: none;\n",
              "      border-radius: 50%;\n",
              "      cursor: pointer;\n",
              "      display: none;\n",
              "      fill: #1967D2;\n",
              "      height: 32px;\n",
              "      padding: 0 0 0 0;\n",
              "      width: 32px;\n",
              "    }\n",
              "\n",
              "    .colab-df-convert:hover {\n",
              "      background-color: #E2EBFA;\n",
              "      box-shadow: 0px 1px 2px rgba(60, 64, 67, 0.3), 0px 1px 3px 1px rgba(60, 64, 67, 0.15);\n",
              "      fill: #174EA6;\n",
              "    }\n",
              "\n",
              "    .colab-df-buttons div {\n",
              "      margin-bottom: 4px;\n",
              "    }\n",
              "\n",
              "    [theme=dark] .colab-df-convert {\n",
              "      background-color: #3B4455;\n",
              "      fill: #D2E3FC;\n",
              "    }\n",
              "\n",
              "    [theme=dark] .colab-df-convert:hover {\n",
              "      background-color: #434B5C;\n",
              "      box-shadow: 0px 1px 3px 1px rgba(0, 0, 0, 0.15);\n",
              "      filter: drop-shadow(0px 1px 2px rgba(0, 0, 0, 0.3));\n",
              "      fill: #FFFFFF;\n",
              "    }\n",
              "  </style>\n",
              "\n",
              "    <script>\n",
              "      const buttonEl =\n",
              "        document.querySelector('#df-9a5a6b23-3912-4cc3-8d9e-8ba3336a7076 button.colab-df-convert');\n",
              "      buttonEl.style.display =\n",
              "        google.colab.kernel.accessAllowed ? 'block' : 'none';\n",
              "\n",
              "      async function convertToInteractive(key) {\n",
              "        const element = document.querySelector('#df-9a5a6b23-3912-4cc3-8d9e-8ba3336a7076');\n",
              "        const dataTable =\n",
              "          await google.colab.kernel.invokeFunction('convertToInteractive',\n",
              "                                                    [key], {});\n",
              "        if (!dataTable) return;\n",
              "\n",
              "        const docLinkHtml = 'Like what you see? Visit the ' +\n",
              "          '<a target=\"_blank\" href=https://colab.research.google.com/notebooks/data_table.ipynb>data table notebook</a>'\n",
              "          + ' to learn more about interactive tables.';\n",
              "        element.innerHTML = '';\n",
              "        dataTable['output_type'] = 'display_data';\n",
              "        await google.colab.output.renderOutput(dataTable, element);\n",
              "        const docLink = document.createElement('div');\n",
              "        docLink.innerHTML = docLinkHtml;\n",
              "        element.appendChild(docLink);\n",
              "      }\n",
              "    </script>\n",
              "  </div>\n",
              "\n",
              "\n",
              "<div id=\"df-a6f858ac-1448-430a-8410-650adc3133ce\">\n",
              "  <button class=\"colab-df-quickchart\" onclick=\"quickchart('df-a6f858ac-1448-430a-8410-650adc3133ce')\"\n",
              "            title=\"Suggest charts\"\n",
              "            style=\"display:none;\">\n",
              "\n",
              "<svg xmlns=\"http://www.w3.org/2000/svg\" height=\"24px\"viewBox=\"0 0 24 24\"\n",
              "     width=\"24px\">\n",
              "    <g>\n",
              "        <path d=\"M19 3H5c-1.1 0-2 .9-2 2v14c0 1.1.9 2 2 2h14c1.1 0 2-.9 2-2V5c0-1.1-.9-2-2-2zM9 17H7v-7h2v7zm4 0h-2V7h2v10zm4 0h-2v-4h2v4z\"/>\n",
              "    </g>\n",
              "</svg>\n",
              "  </button>\n",
              "\n",
              "<style>\n",
              "  .colab-df-quickchart {\n",
              "      --bg-color: #E8F0FE;\n",
              "      --fill-color: #1967D2;\n",
              "      --hover-bg-color: #E2EBFA;\n",
              "      --hover-fill-color: #174EA6;\n",
              "      --disabled-fill-color: #AAA;\n",
              "      --disabled-bg-color: #DDD;\n",
              "  }\n",
              "\n",
              "  [theme=dark] .colab-df-quickchart {\n",
              "      --bg-color: #3B4455;\n",
              "      --fill-color: #D2E3FC;\n",
              "      --hover-bg-color: #434B5C;\n",
              "      --hover-fill-color: #FFFFFF;\n",
              "      --disabled-bg-color: #3B4455;\n",
              "      --disabled-fill-color: #666;\n",
              "  }\n",
              "\n",
              "  .colab-df-quickchart {\n",
              "    background-color: var(--bg-color);\n",
              "    border: none;\n",
              "    border-radius: 50%;\n",
              "    cursor: pointer;\n",
              "    display: none;\n",
              "    fill: var(--fill-color);\n",
              "    height: 32px;\n",
              "    padding: 0;\n",
              "    width: 32px;\n",
              "  }\n",
              "\n",
              "  .colab-df-quickchart:hover {\n",
              "    background-color: var(--hover-bg-color);\n",
              "    box-shadow: 0 1px 2px rgba(60, 64, 67, 0.3), 0 1px 3px 1px rgba(60, 64, 67, 0.15);\n",
              "    fill: var(--button-hover-fill-color);\n",
              "  }\n",
              "\n",
              "  .colab-df-quickchart-complete:disabled,\n",
              "  .colab-df-quickchart-complete:disabled:hover {\n",
              "    background-color: var(--disabled-bg-color);\n",
              "    fill: var(--disabled-fill-color);\n",
              "    box-shadow: none;\n",
              "  }\n",
              "\n",
              "  .colab-df-spinner {\n",
              "    border: 2px solid var(--fill-color);\n",
              "    border-color: transparent;\n",
              "    border-bottom-color: var(--fill-color);\n",
              "    animation:\n",
              "      spin 1s steps(1) infinite;\n",
              "  }\n",
              "\n",
              "  @keyframes spin {\n",
              "    0% {\n",
              "      border-color: transparent;\n",
              "      border-bottom-color: var(--fill-color);\n",
              "      border-left-color: var(--fill-color);\n",
              "    }\n",
              "    20% {\n",
              "      border-color: transparent;\n",
              "      border-left-color: var(--fill-color);\n",
              "      border-top-color: var(--fill-color);\n",
              "    }\n",
              "    30% {\n",
              "      border-color: transparent;\n",
              "      border-left-color: var(--fill-color);\n",
              "      border-top-color: var(--fill-color);\n",
              "      border-right-color: var(--fill-color);\n",
              "    }\n",
              "    40% {\n",
              "      border-color: transparent;\n",
              "      border-right-color: var(--fill-color);\n",
              "      border-top-color: var(--fill-color);\n",
              "    }\n",
              "    60% {\n",
              "      border-color: transparent;\n",
              "      border-right-color: var(--fill-color);\n",
              "    }\n",
              "    80% {\n",
              "      border-color: transparent;\n",
              "      border-right-color: var(--fill-color);\n",
              "      border-bottom-color: var(--fill-color);\n",
              "    }\n",
              "    90% {\n",
              "      border-color: transparent;\n",
              "      border-bottom-color: var(--fill-color);\n",
              "    }\n",
              "  }\n",
              "</style>\n",
              "\n",
              "  <script>\n",
              "    async function quickchart(key) {\n",
              "      const quickchartButtonEl =\n",
              "        document.querySelector('#' + key + ' button');\n",
              "      quickchartButtonEl.disabled = true;  // To prevent multiple clicks.\n",
              "      quickchartButtonEl.classList.add('colab-df-spinner');\n",
              "      try {\n",
              "        const charts = await google.colab.kernel.invokeFunction(\n",
              "            'suggestCharts', [key], {});\n",
              "      } catch (error) {\n",
              "        console.error('Error during call to suggestCharts:', error);\n",
              "      }\n",
              "      quickchartButtonEl.classList.remove('colab-df-spinner');\n",
              "      quickchartButtonEl.classList.add('colab-df-quickchart-complete');\n",
              "    }\n",
              "    (() => {\n",
              "      let quickchartButtonEl =\n",
              "        document.querySelector('#df-a6f858ac-1448-430a-8410-650adc3133ce button');\n",
              "      quickchartButtonEl.style.display =\n",
              "        google.colab.kernel.accessAllowed ? 'block' : 'none';\n",
              "    })();\n",
              "  </script>\n",
              "</div>\n",
              "    </div>\n",
              "  </div>\n"
            ],
            "application/vnd.google.colaboratory.intrinsic+json": {
              "type": "dataframe",
              "variable_name": "df",
              "summary": "{\n  \"name\": \"df\",\n  \"rows\": 266,\n  \"fields\": [\n    {\n      \"column\": \"text\",\n      \"properties\": {\n        \"dtype\": \"string\",\n        \"num_unique_values\": 264,\n        \"samples\": [\n          \"\\u041d\\u0438\\u0447\\u0435\\u0433\\u043e, \\u043c\\u043e\\u0436\\u043d\\u043e \\u043d\\u0430 \\u0435\\u0435 \\u043d\\u0430\\u0431\\u043e\\u0440\\u043a\\u0443 \\u0432\\u043e\\u0437\\u0432\\u0440\\u0430\\u0449\\u0430\\u0442\\u044c\\u0441\\u044f.\",\n          \"\\u041d\\u043e \\u043e\\u043d\\u0438 \\u043c\\u043e\\u0433\\u0443\\u0442 \\u0441\\u0435\\u0439\\u0447\\u0430\\u0441 \\u0441\\u0442\\u0440\\u0430\\u0442\\u0435\\u0433\\u0438\\u044e \\u043f\\u043e\\u043c\\u0435\\u043d\\u044f\\u0442\\u044c.\",\n          \"\\u0414\\u0430, \\u0434\\u0430\\u0432\\u0430\\u0439\\u0442\\u0435 \\u043f\\u043e\\u0441\\u0442\\u0430\\u0432\\u0438\\u043c. \\u041d\\u043e \\u043e\\u043d\\u0438 \\u0432\\u044b\\u0438\\u0433\\u0440\\u0430\\u044e\\u0442. \\u041e\\u043d\\u0438 \\u043c\\u043e\\u0433\\u0443\\u0442 \\u0432\\u044b\\u0438\\u0433\\u0440\\u0430\\u0442\\u044c.\"\n        ],\n        \"semantic_type\": \"\",\n        \"description\": \"\"\n      }\n    },\n    {\n      \"column\": \"category\",\n      \"properties\": {\n        \"dtype\": \"category\",\n        \"num_unique_values\": 2,\n        \"samples\": [\n          \"\\u0434\\u0440\\u0443\\u0433\\u043e\\u0435\",\n          \"\\u043f\\u0440\\u0435\\u0434\\u043b\\u043e\\u0436\\u0435\\u043d\\u0438\\u0435\"\n        ],\n        \"semantic_type\": \"\",\n        \"description\": \"\"\n      }\n    },\n    {\n      \"column\": \"preprocessed_text\",\n      \"properties\": {\n        \"dtype\": \"object\",\n        \"semantic_type\": \"\",\n        \"description\": \"\"\n      }\n    },\n    {\n      \"column\": \"sequences\",\n      \"properties\": {\n        \"dtype\": \"object\",\n        \"semantic_type\": \"\",\n        \"description\": \"\"\n      }\n    }\n  ]\n}"
            }
          },
          "metadata": {},
          "execution_count": 21
        }
      ]
    },
    {
      "cell_type": "markdown",
      "source": [
        "## Готовим данные для обучения"
      ],
      "metadata": {
        "id": "-A3yq3dRHc9n"
      }
    },
    {
      "cell_type": "markdown",
      "source": [
        "###Преобразуем текстовые метрки данных в числовые"
      ],
      "metadata": {
        "id": "LuNUD0tHIJil"
      }
    },
    {
      "cell_type": "code",
      "source": [
        "mapping = {'предложение': 1, 'другое': 0}"
      ],
      "metadata": {
        "id": "9UAYkfwzHfYm"
      },
      "execution_count": null,
      "outputs": []
    },
    {
      "cell_type": "code",
      "source": [
        "df.replace({'category': mapping}, inplace=True)"
      ],
      "metadata": {
        "id": "1XLKoDe6ISUG"
      },
      "execution_count": null,
      "outputs": []
    },
    {
      "cell_type": "code",
      "source": [
        "df"
      ],
      "metadata": {
        "colab": {
          "base_uri": "https://localhost:8080/",
          "height": 423
        },
        "id": "HGbMOfYzIhDN",
        "outputId": "b847c3a0-451c-48dc-b7e7-5c30f41fcc43"
      },
      "execution_count": null,
      "outputs": [
        {
          "output_type": "execute_result",
          "data": {
            "text/plain": [
              "                                                  text  category  \\\n",
              "0                                      Давайте двойку.         1   \n",
              "1                                              Ставлю.         1   \n",
              "2                             Нам надо пять поставить.         1   \n",
              "3                               Ребят, 2 надо ставить.         1   \n",
              "4                  2 надо ставить, у нас ресурсов нет.         1   \n",
              "..                                                 ...       ...   \n",
              "261  Смотрим их, да, и наблюдаем за стратегией других.         0   \n",
              "262  Так, а мне, Варвара, мне надо каждый раз отпра...         0   \n",
              "263                                              Давай         0   \n",
              "264                                   Давай, согласна.         0   \n",
              "265                    Прости, я тебя вообще не слышу.         0   \n",
              "\n",
              "                                     preprocessed_text               sequences  \n",
              "0                                     [давать, двойка]                 [2, 32]  \n",
              "1                                            [ставить]                     [4]  \n",
              "2                                    [пять, поставить]                 [45, 3]  \n",
              "3                                 [ребята, 2, ставить]            [114, 26, 4]  \n",
              "4                                 [2, ставить, ресурс]             [26, 4, 27]  \n",
              "..                                                 ...                     ...  \n",
              "261                   [смотреть, наблюдать, стратегия]           [12, 409, 33]  \n",
              "262  [варвар, каждый, отправить, ещё, ответ, следую...  [198, 410, 78, 16, 43]  \n",
              "263                                           [давать]                     [2]  \n",
              "264                                [давать, согласный]                 [2, 18]  \n",
              "265                        [простить, вообще, слышать]               [34, 125]  \n",
              "\n",
              "[266 rows x 4 columns]"
            ],
            "text/html": [
              "\n",
              "  <div id=\"df-abffe40c-daa9-4fbc-b158-a049ce705743\" class=\"colab-df-container\">\n",
              "    <div>\n",
              "<style scoped>\n",
              "    .dataframe tbody tr th:only-of-type {\n",
              "        vertical-align: middle;\n",
              "    }\n",
              "\n",
              "    .dataframe tbody tr th {\n",
              "        vertical-align: top;\n",
              "    }\n",
              "\n",
              "    .dataframe thead th {\n",
              "        text-align: right;\n",
              "    }\n",
              "</style>\n",
              "<table border=\"1\" class=\"dataframe\">\n",
              "  <thead>\n",
              "    <tr style=\"text-align: right;\">\n",
              "      <th></th>\n",
              "      <th>text</th>\n",
              "      <th>category</th>\n",
              "      <th>preprocessed_text</th>\n",
              "      <th>sequences</th>\n",
              "    </tr>\n",
              "  </thead>\n",
              "  <tbody>\n",
              "    <tr>\n",
              "      <th>0</th>\n",
              "      <td>Давайте двойку.</td>\n",
              "      <td>1</td>\n",
              "      <td>[давать, двойка]</td>\n",
              "      <td>[2, 32]</td>\n",
              "    </tr>\n",
              "    <tr>\n",
              "      <th>1</th>\n",
              "      <td>Ставлю.</td>\n",
              "      <td>1</td>\n",
              "      <td>[ставить]</td>\n",
              "      <td>[4]</td>\n",
              "    </tr>\n",
              "    <tr>\n",
              "      <th>2</th>\n",
              "      <td>Нам надо пять поставить.</td>\n",
              "      <td>1</td>\n",
              "      <td>[пять, поставить]</td>\n",
              "      <td>[45, 3]</td>\n",
              "    </tr>\n",
              "    <tr>\n",
              "      <th>3</th>\n",
              "      <td>Ребят, 2 надо ставить.</td>\n",
              "      <td>1</td>\n",
              "      <td>[ребята, 2, ставить]</td>\n",
              "      <td>[114, 26, 4]</td>\n",
              "    </tr>\n",
              "    <tr>\n",
              "      <th>4</th>\n",
              "      <td>2 надо ставить, у нас ресурсов нет.</td>\n",
              "      <td>1</td>\n",
              "      <td>[2, ставить, ресурс]</td>\n",
              "      <td>[26, 4, 27]</td>\n",
              "    </tr>\n",
              "    <tr>\n",
              "      <th>...</th>\n",
              "      <td>...</td>\n",
              "      <td>...</td>\n",
              "      <td>...</td>\n",
              "      <td>...</td>\n",
              "    </tr>\n",
              "    <tr>\n",
              "      <th>261</th>\n",
              "      <td>Смотрим их, да, и наблюдаем за стратегией других.</td>\n",
              "      <td>0</td>\n",
              "      <td>[смотреть, наблюдать, стратегия]</td>\n",
              "      <td>[12, 409, 33]</td>\n",
              "    </tr>\n",
              "    <tr>\n",
              "      <th>262</th>\n",
              "      <td>Так, а мне, Варвара, мне надо каждый раз отпра...</td>\n",
              "      <td>0</td>\n",
              "      <td>[варвар, каждый, отправить, ещё, ответ, следую...</td>\n",
              "      <td>[198, 410, 78, 16, 43]</td>\n",
              "    </tr>\n",
              "    <tr>\n",
              "      <th>263</th>\n",
              "      <td>Давай</td>\n",
              "      <td>0</td>\n",
              "      <td>[давать]</td>\n",
              "      <td>[2]</td>\n",
              "    </tr>\n",
              "    <tr>\n",
              "      <th>264</th>\n",
              "      <td>Давай, согласна.</td>\n",
              "      <td>0</td>\n",
              "      <td>[давать, согласный]</td>\n",
              "      <td>[2, 18]</td>\n",
              "    </tr>\n",
              "    <tr>\n",
              "      <th>265</th>\n",
              "      <td>Прости, я тебя вообще не слышу.</td>\n",
              "      <td>0</td>\n",
              "      <td>[простить, вообще, слышать]</td>\n",
              "      <td>[34, 125]</td>\n",
              "    </tr>\n",
              "  </tbody>\n",
              "</table>\n",
              "<p>266 rows × 4 columns</p>\n",
              "</div>\n",
              "    <div class=\"colab-df-buttons\">\n",
              "\n",
              "  <div class=\"colab-df-container\">\n",
              "    <button class=\"colab-df-convert\" onclick=\"convertToInteractive('df-abffe40c-daa9-4fbc-b158-a049ce705743')\"\n",
              "            title=\"Convert this dataframe to an interactive table.\"\n",
              "            style=\"display:none;\">\n",
              "\n",
              "  <svg xmlns=\"http://www.w3.org/2000/svg\" height=\"24px\" viewBox=\"0 -960 960 960\">\n",
              "    <path d=\"M120-120v-720h720v720H120Zm60-500h600v-160H180v160Zm220 220h160v-160H400v160Zm0 220h160v-160H400v160ZM180-400h160v-160H180v160Zm440 0h160v-160H620v160ZM180-180h160v-160H180v160Zm440 0h160v-160H620v160Z\"/>\n",
              "  </svg>\n",
              "    </button>\n",
              "\n",
              "  <style>\n",
              "    .colab-df-container {\n",
              "      display:flex;\n",
              "      gap: 12px;\n",
              "    }\n",
              "\n",
              "    .colab-df-convert {\n",
              "      background-color: #E8F0FE;\n",
              "      border: none;\n",
              "      border-radius: 50%;\n",
              "      cursor: pointer;\n",
              "      display: none;\n",
              "      fill: #1967D2;\n",
              "      height: 32px;\n",
              "      padding: 0 0 0 0;\n",
              "      width: 32px;\n",
              "    }\n",
              "\n",
              "    .colab-df-convert:hover {\n",
              "      background-color: #E2EBFA;\n",
              "      box-shadow: 0px 1px 2px rgba(60, 64, 67, 0.3), 0px 1px 3px 1px rgba(60, 64, 67, 0.15);\n",
              "      fill: #174EA6;\n",
              "    }\n",
              "\n",
              "    .colab-df-buttons div {\n",
              "      margin-bottom: 4px;\n",
              "    }\n",
              "\n",
              "    [theme=dark] .colab-df-convert {\n",
              "      background-color: #3B4455;\n",
              "      fill: #D2E3FC;\n",
              "    }\n",
              "\n",
              "    [theme=dark] .colab-df-convert:hover {\n",
              "      background-color: #434B5C;\n",
              "      box-shadow: 0px 1px 3px 1px rgba(0, 0, 0, 0.15);\n",
              "      filter: drop-shadow(0px 1px 2px rgba(0, 0, 0, 0.3));\n",
              "      fill: #FFFFFF;\n",
              "    }\n",
              "  </style>\n",
              "\n",
              "    <script>\n",
              "      const buttonEl =\n",
              "        document.querySelector('#df-abffe40c-daa9-4fbc-b158-a049ce705743 button.colab-df-convert');\n",
              "      buttonEl.style.display =\n",
              "        google.colab.kernel.accessAllowed ? 'block' : 'none';\n",
              "\n",
              "      async function convertToInteractive(key) {\n",
              "        const element = document.querySelector('#df-abffe40c-daa9-4fbc-b158-a049ce705743');\n",
              "        const dataTable =\n",
              "          await google.colab.kernel.invokeFunction('convertToInteractive',\n",
              "                                                    [key], {});\n",
              "        if (!dataTable) return;\n",
              "\n",
              "        const docLinkHtml = 'Like what you see? Visit the ' +\n",
              "          '<a target=\"_blank\" href=https://colab.research.google.com/notebooks/data_table.ipynb>data table notebook</a>'\n",
              "          + ' to learn more about interactive tables.';\n",
              "        element.innerHTML = '';\n",
              "        dataTable['output_type'] = 'display_data';\n",
              "        await google.colab.output.renderOutput(dataTable, element);\n",
              "        const docLink = document.createElement('div');\n",
              "        docLink.innerHTML = docLinkHtml;\n",
              "        element.appendChild(docLink);\n",
              "      }\n",
              "    </script>\n",
              "  </div>\n",
              "\n",
              "\n",
              "<div id=\"df-47fafb1d-bc6b-47b4-8999-637a6a03df6d\">\n",
              "  <button class=\"colab-df-quickchart\" onclick=\"quickchart('df-47fafb1d-bc6b-47b4-8999-637a6a03df6d')\"\n",
              "            title=\"Suggest charts\"\n",
              "            style=\"display:none;\">\n",
              "\n",
              "<svg xmlns=\"http://www.w3.org/2000/svg\" height=\"24px\"viewBox=\"0 0 24 24\"\n",
              "     width=\"24px\">\n",
              "    <g>\n",
              "        <path d=\"M19 3H5c-1.1 0-2 .9-2 2v14c0 1.1.9 2 2 2h14c1.1 0 2-.9 2-2V5c0-1.1-.9-2-2-2zM9 17H7v-7h2v7zm4 0h-2V7h2v10zm4 0h-2v-4h2v4z\"/>\n",
              "    </g>\n",
              "</svg>\n",
              "  </button>\n",
              "\n",
              "<style>\n",
              "  .colab-df-quickchart {\n",
              "      --bg-color: #E8F0FE;\n",
              "      --fill-color: #1967D2;\n",
              "      --hover-bg-color: #E2EBFA;\n",
              "      --hover-fill-color: #174EA6;\n",
              "      --disabled-fill-color: #AAA;\n",
              "      --disabled-bg-color: #DDD;\n",
              "  }\n",
              "\n",
              "  [theme=dark] .colab-df-quickchart {\n",
              "      --bg-color: #3B4455;\n",
              "      --fill-color: #D2E3FC;\n",
              "      --hover-bg-color: #434B5C;\n",
              "      --hover-fill-color: #FFFFFF;\n",
              "      --disabled-bg-color: #3B4455;\n",
              "      --disabled-fill-color: #666;\n",
              "  }\n",
              "\n",
              "  .colab-df-quickchart {\n",
              "    background-color: var(--bg-color);\n",
              "    border: none;\n",
              "    border-radius: 50%;\n",
              "    cursor: pointer;\n",
              "    display: none;\n",
              "    fill: var(--fill-color);\n",
              "    height: 32px;\n",
              "    padding: 0;\n",
              "    width: 32px;\n",
              "  }\n",
              "\n",
              "  .colab-df-quickchart:hover {\n",
              "    background-color: var(--hover-bg-color);\n",
              "    box-shadow: 0 1px 2px rgba(60, 64, 67, 0.3), 0 1px 3px 1px rgba(60, 64, 67, 0.15);\n",
              "    fill: var(--button-hover-fill-color);\n",
              "  }\n",
              "\n",
              "  .colab-df-quickchart-complete:disabled,\n",
              "  .colab-df-quickchart-complete:disabled:hover {\n",
              "    background-color: var(--disabled-bg-color);\n",
              "    fill: var(--disabled-fill-color);\n",
              "    box-shadow: none;\n",
              "  }\n",
              "\n",
              "  .colab-df-spinner {\n",
              "    border: 2px solid var(--fill-color);\n",
              "    border-color: transparent;\n",
              "    border-bottom-color: var(--fill-color);\n",
              "    animation:\n",
              "      spin 1s steps(1) infinite;\n",
              "  }\n",
              "\n",
              "  @keyframes spin {\n",
              "    0% {\n",
              "      border-color: transparent;\n",
              "      border-bottom-color: var(--fill-color);\n",
              "      border-left-color: var(--fill-color);\n",
              "    }\n",
              "    20% {\n",
              "      border-color: transparent;\n",
              "      border-left-color: var(--fill-color);\n",
              "      border-top-color: var(--fill-color);\n",
              "    }\n",
              "    30% {\n",
              "      border-color: transparent;\n",
              "      border-left-color: var(--fill-color);\n",
              "      border-top-color: var(--fill-color);\n",
              "      border-right-color: var(--fill-color);\n",
              "    }\n",
              "    40% {\n",
              "      border-color: transparent;\n",
              "      border-right-color: var(--fill-color);\n",
              "      border-top-color: var(--fill-color);\n",
              "    }\n",
              "    60% {\n",
              "      border-color: transparent;\n",
              "      border-right-color: var(--fill-color);\n",
              "    }\n",
              "    80% {\n",
              "      border-color: transparent;\n",
              "      border-right-color: var(--fill-color);\n",
              "      border-bottom-color: var(--fill-color);\n",
              "    }\n",
              "    90% {\n",
              "      border-color: transparent;\n",
              "      border-bottom-color: var(--fill-color);\n",
              "    }\n",
              "  }\n",
              "</style>\n",
              "\n",
              "  <script>\n",
              "    async function quickchart(key) {\n",
              "      const quickchartButtonEl =\n",
              "        document.querySelector('#' + key + ' button');\n",
              "      quickchartButtonEl.disabled = true;  // To prevent multiple clicks.\n",
              "      quickchartButtonEl.classList.add('colab-df-spinner');\n",
              "      try {\n",
              "        const charts = await google.colab.kernel.invokeFunction(\n",
              "            'suggestCharts', [key], {});\n",
              "      } catch (error) {\n",
              "        console.error('Error during call to suggestCharts:', error);\n",
              "      }\n",
              "      quickchartButtonEl.classList.remove('colab-df-spinner');\n",
              "      quickchartButtonEl.classList.add('colab-df-quickchart-complete');\n",
              "    }\n",
              "    (() => {\n",
              "      let quickchartButtonEl =\n",
              "        document.querySelector('#df-47fafb1d-bc6b-47b4-8999-637a6a03df6d button');\n",
              "      quickchartButtonEl.style.display =\n",
              "        google.colab.kernel.accessAllowed ? 'block' : 'none';\n",
              "    })();\n",
              "  </script>\n",
              "</div>\n",
              "    </div>\n",
              "  </div>\n"
            ],
            "application/vnd.google.colaboratory.intrinsic+json": {
              "type": "dataframe",
              "variable_name": "df",
              "summary": "{\n  \"name\": \"df\",\n  \"rows\": 266,\n  \"fields\": [\n    {\n      \"column\": \"text\",\n      \"properties\": {\n        \"dtype\": \"string\",\n        \"num_unique_values\": 264,\n        \"samples\": [\n          \"\\u041d\\u0438\\u0447\\u0435\\u0433\\u043e, \\u043c\\u043e\\u0436\\u043d\\u043e \\u043d\\u0430 \\u0435\\u0435 \\u043d\\u0430\\u0431\\u043e\\u0440\\u043a\\u0443 \\u0432\\u043e\\u0437\\u0432\\u0440\\u0430\\u0449\\u0430\\u0442\\u044c\\u0441\\u044f.\",\n          \"\\u041d\\u043e \\u043e\\u043d\\u0438 \\u043c\\u043e\\u0433\\u0443\\u0442 \\u0441\\u0435\\u0439\\u0447\\u0430\\u0441 \\u0441\\u0442\\u0440\\u0430\\u0442\\u0435\\u0433\\u0438\\u044e \\u043f\\u043e\\u043c\\u0435\\u043d\\u044f\\u0442\\u044c.\",\n          \"\\u0414\\u0430, \\u0434\\u0430\\u0432\\u0430\\u0439\\u0442\\u0435 \\u043f\\u043e\\u0441\\u0442\\u0430\\u0432\\u0438\\u043c. \\u041d\\u043e \\u043e\\u043d\\u0438 \\u0432\\u044b\\u0438\\u0433\\u0440\\u0430\\u044e\\u0442. \\u041e\\u043d\\u0438 \\u043c\\u043e\\u0433\\u0443\\u0442 \\u0432\\u044b\\u0438\\u0433\\u0440\\u0430\\u0442\\u044c.\"\n        ],\n        \"semantic_type\": \"\",\n        \"description\": \"\"\n      }\n    },\n    {\n      \"column\": \"category\",\n      \"properties\": {\n        \"dtype\": \"number\",\n        \"std\": 0,\n        \"min\": 0,\n        \"max\": 1,\n        \"num_unique_values\": 2,\n        \"samples\": [\n          0,\n          1\n        ],\n        \"semantic_type\": \"\",\n        \"description\": \"\"\n      }\n    },\n    {\n      \"column\": \"preprocessed_text\",\n      \"properties\": {\n        \"dtype\": \"object\",\n        \"semantic_type\": \"\",\n        \"description\": \"\"\n      }\n    },\n    {\n      \"column\": \"sequences\",\n      \"properties\": {\n        \"dtype\": \"object\",\n        \"semantic_type\": \"\",\n        \"description\": \"\"\n      }\n    }\n  ]\n}"
            }
          },
          "metadata": {},
          "execution_count": 104
        }
      ]
    },
    {
      "cell_type": "markdown",
      "source": [
        "###Разделяем метки классов и данные для обучения"
      ],
      "metadata": {
        "id": "UyEuKLqNJg69"
      }
    },
    {
      "cell_type": "code",
      "source": [
        "x_train_seq, y_train = df['sequences'], df['category']"
      ],
      "metadata": {
        "id": "Ikl-s8vSJd0c"
      },
      "execution_count": null,
      "outputs": []
    },
    {
      "cell_type": "markdown",
      "source": [
        "###Создаем мешок слов"
      ],
      "metadata": {
        "id": "ZPUOqR3fJ-s0"
      }
    },
    {
      "cell_type": "code",
      "source": [
        "def vectorize_sequences(sequences, dimension=len(words)):\n",
        "  results = np.zeros((len(sequences), dimension))\n",
        "  for i, sequence in enumerate(sequences):\n",
        "    for index in sequence:\n",
        "      results[i, index] += 1.\n",
        "  return results"
      ],
      "metadata": {
        "id": "2AfB4k_GKOzz"
      },
      "execution_count": null,
      "outputs": []
    },
    {
      "cell_type": "code",
      "source": [
        "x_vectors = vectorize_sequences(x_train_seq, max_words)"
      ],
      "metadata": {
        "id": "vwuC5ifcw9Zc"
      },
      "execution_count": null,
      "outputs": []
    },
    {
      "cell_type": "code",
      "source": [
        "x_vectors.shape"
      ],
      "metadata": {
        "colab": {
          "base_uri": "https://localhost:8080/"
        },
        "id": "GX2Te8jiKqor",
        "outputId": "d1081ad5-1884-4cca-a3be-74fe3621296e"
      },
      "execution_count": null,
      "outputs": [
        {
          "output_type": "execute_result",
          "data": {
            "text/plain": [
              "(266, 411)"
            ]
          },
          "metadata": {},
          "execution_count": 28
        }
      ]
    },
    {
      "cell_type": "markdown",
      "source": [
        "## Создаем модель машинного обучения"
      ],
      "metadata": {
        "id": "nvUy8XumK7Ia"
      }
    },
    {
      "cell_type": "code",
      "source": [
        "from sklearn.linear_model import LogisticRegression\n",
        "from sklearn.model_selection import cross_val_score\n",
        "from sklearn.metrics import f1_score, make_scorer\n",
        "\n",
        "# Инициализация модели логистической регрессии\n",
        "lr = LogisticRegression(random_state = 42)\n",
        "\n",
        "# Создание скорера для f1-score\n",
        "f1_scorer = make_scorer(f1_score)\n",
        "\n",
        "# Выполнение кросс-валидации с вычислением f1-score\n",
        "f1_scores = cross_val_score(lr, x_vectors, y_train, cv=5, scoring=f1_scorer)\n",
        "\n",
        "# Вывод результатов\n",
        "print(\"Средний F1-счет: %0.2f (+/- %0.2f)\" % (f1_scores.mean(), f1_scores.std() * 2))\n"
      ],
      "metadata": {
        "id": "E47JIuYzK-hC",
        "colab": {
          "base_uri": "https://localhost:8080/"
        },
        "outputId": "3d09cc83-1918-4244-c687-131b4952b748"
      },
      "execution_count": null,
      "outputs": [
        {
          "output_type": "stream",
          "name": "stdout",
          "text": [
            "Средний F1-счет: 0.67 (+/- 0.24)\n"
          ]
        }
      ]
    },
    {
      "cell_type": "markdown",
      "source": [
        "###Обучаем модель\n",
        "\n",
        "Для дальнейших предсказаний"
      ],
      "metadata": {
        "id": "U5bfmkmkLINJ"
      }
    },
    {
      "cell_type": "code",
      "source": [
        "lr.fit(x_vectors, y_train)"
      ],
      "metadata": {
        "colab": {
          "base_uri": "https://localhost:8080/",
          "height": 74
        },
        "id": "i5-W37D9LJfC",
        "outputId": "c53b041f-73b1-4052-8aa2-a6a42a571bc7"
      },
      "execution_count": null,
      "outputs": [
        {
          "output_type": "execute_result",
          "data": {
            "text/plain": [
              "LogisticRegression(random_state=42)"
            ],
            "text/html": [
              "<style>#sk-container-id-1 {color: black;background-color: white;}#sk-container-id-1 pre{padding: 0;}#sk-container-id-1 div.sk-toggleable {background-color: white;}#sk-container-id-1 label.sk-toggleable__label {cursor: pointer;display: block;width: 100%;margin-bottom: 0;padding: 0.3em;box-sizing: border-box;text-align: center;}#sk-container-id-1 label.sk-toggleable__label-arrow:before {content: \"▸\";float: left;margin-right: 0.25em;color: #696969;}#sk-container-id-1 label.sk-toggleable__label-arrow:hover:before {color: black;}#sk-container-id-1 div.sk-estimator:hover label.sk-toggleable__label-arrow:before {color: black;}#sk-container-id-1 div.sk-toggleable__content {max-height: 0;max-width: 0;overflow: hidden;text-align: left;background-color: #f0f8ff;}#sk-container-id-1 div.sk-toggleable__content pre {margin: 0.2em;color: black;border-radius: 0.25em;background-color: #f0f8ff;}#sk-container-id-1 input.sk-toggleable__control:checked~div.sk-toggleable__content {max-height: 200px;max-width: 100%;overflow: auto;}#sk-container-id-1 input.sk-toggleable__control:checked~label.sk-toggleable__label-arrow:before {content: \"▾\";}#sk-container-id-1 div.sk-estimator input.sk-toggleable__control:checked~label.sk-toggleable__label {background-color: #d4ebff;}#sk-container-id-1 div.sk-label input.sk-toggleable__control:checked~label.sk-toggleable__label {background-color: #d4ebff;}#sk-container-id-1 input.sk-hidden--visually {border: 0;clip: rect(1px 1px 1px 1px);clip: rect(1px, 1px, 1px, 1px);height: 1px;margin: -1px;overflow: hidden;padding: 0;position: absolute;width: 1px;}#sk-container-id-1 div.sk-estimator {font-family: monospace;background-color: #f0f8ff;border: 1px dotted black;border-radius: 0.25em;box-sizing: border-box;margin-bottom: 0.5em;}#sk-container-id-1 div.sk-estimator:hover {background-color: #d4ebff;}#sk-container-id-1 div.sk-parallel-item::after {content: \"\";width: 100%;border-bottom: 1px solid gray;flex-grow: 1;}#sk-container-id-1 div.sk-label:hover label.sk-toggleable__label {background-color: #d4ebff;}#sk-container-id-1 div.sk-serial::before {content: \"\";position: absolute;border-left: 1px solid gray;box-sizing: border-box;top: 0;bottom: 0;left: 50%;z-index: 0;}#sk-container-id-1 div.sk-serial {display: flex;flex-direction: column;align-items: center;background-color: white;padding-right: 0.2em;padding-left: 0.2em;position: relative;}#sk-container-id-1 div.sk-item {position: relative;z-index: 1;}#sk-container-id-1 div.sk-parallel {display: flex;align-items: stretch;justify-content: center;background-color: white;position: relative;}#sk-container-id-1 div.sk-item::before, #sk-container-id-1 div.sk-parallel-item::before {content: \"\";position: absolute;border-left: 1px solid gray;box-sizing: border-box;top: 0;bottom: 0;left: 50%;z-index: -1;}#sk-container-id-1 div.sk-parallel-item {display: flex;flex-direction: column;z-index: 1;position: relative;background-color: white;}#sk-container-id-1 div.sk-parallel-item:first-child::after {align-self: flex-end;width: 50%;}#sk-container-id-1 div.sk-parallel-item:last-child::after {align-self: flex-start;width: 50%;}#sk-container-id-1 div.sk-parallel-item:only-child::after {width: 0;}#sk-container-id-1 div.sk-dashed-wrapped {border: 1px dashed gray;margin: 0 0.4em 0.5em 0.4em;box-sizing: border-box;padding-bottom: 0.4em;background-color: white;}#sk-container-id-1 div.sk-label label {font-family: monospace;font-weight: bold;display: inline-block;line-height: 1.2em;}#sk-container-id-1 div.sk-label-container {text-align: center;}#sk-container-id-1 div.sk-container {/* jupyter's `normalize.less` sets `[hidden] { display: none; }` but bootstrap.min.css set `[hidden] { display: none !important; }` so we also need the `!important` here to be able to override the default hidden behavior on the sphinx rendered scikit-learn.org. See: https://github.com/scikit-learn/scikit-learn/issues/21755 */display: inline-block !important;position: relative;}#sk-container-id-1 div.sk-text-repr-fallback {display: none;}</style><div id=\"sk-container-id-1\" class=\"sk-top-container\"><div class=\"sk-text-repr-fallback\"><pre>LogisticRegression(random_state=42)</pre><b>In a Jupyter environment, please rerun this cell to show the HTML representation or trust the notebook. <br />On GitHub, the HTML representation is unable to render, please try loading this page with nbviewer.org.</b></div><div class=\"sk-container\" hidden><div class=\"sk-item\"><div class=\"sk-estimator sk-toggleable\"><input class=\"sk-toggleable__control sk-hidden--visually\" id=\"sk-estimator-id-1\" type=\"checkbox\" checked><label for=\"sk-estimator-id-1\" class=\"sk-toggleable__label sk-toggleable__label-arrow\">LogisticRegression</label><div class=\"sk-toggleable__content\"><pre>LogisticRegression(random_state=42)</pre></div></div></div></div></div>"
            ]
          },
          "metadata": {},
          "execution_count": 30
        }
      ]
    },
    {
      "cell_type": "markdown",
      "source": [
        "## Экспериментальное внедрение модели"
      ],
      "metadata": {
        "id": "SKIAZlucN2JI"
      }
    },
    {
      "cell_type": "code",
      "source": [
        "speakers = dict()"
      ],
      "metadata": {
        "id": "AxHCssk5UL5E"
      },
      "execution_count": null,
      "outputs": []
    },
    {
      "cell_type": "code",
      "source": [
        "test = open('/content/drive/MyDrive/Colab_Notebooks/models/word2vec_class/transcript.txt', encoding='utf8').read()\n",
        "test = test[:-1].split('n')"
      ],
      "metadata": {
        "id": "wB4jBlAwMGyA"
      },
      "execution_count": null,
      "outputs": []
    },
    {
      "cell_type": "markdown",
      "source": [
        "### Обработка поступаемой реплики"
      ],
      "metadata": {
        "id": "ME-6gZ07N4_g"
      }
    },
    {
      "cell_type": "code",
      "source": [
        "for i in test:\n",
        "    speaker, utterance = i.split(': ')\n",
        "    speaker = speaker.strip() # 'Speaker A'\n",
        "    utterance = utterance.strip() # '*text*'\n",
        "\n",
        "    # приводим реплику в нормальный вид и веторизуем\n",
        "\n",
        "    utterance_preprocessed = preprocess(utterance)\n",
        "    utterance_seq = text_to_sequence(utterance_preprocessed, word_to_index)\n",
        "    utterance_bow = vectorize_sequences([utterance_seq], max_words)\n",
        "\n",
        "    # предсказываем категорию высказывания\n",
        "\n",
        "    prediction = lr.predict(utterance_bow)\n",
        "\n",
        "    # добавляем спикера в словарь (если его еще нет)\n",
        "\n",
        "    if speaker not in speakers:\n",
        "      speakers[speaker] = []\n",
        "\n",
        "    # если классификатор распознал реплику как предложение, присваиваем ее спикеру\n",
        "\n",
        "    if prediction:\n",
        "      speakers[speaker].append(utterance)"
      ],
      "metadata": {
        "id": "UzxXrB4aOsi-"
      },
      "execution_count": null,
      "outputs": []
    },
    {
      "cell_type": "code",
      "source": [
        "speakers"
      ],
      "metadata": {
        "colab": {
          "base_uri": "https://localhost:8080/"
        },
        "id": "ohuedVUsTMw7",
        "outputId": "45837954-1d0b-46e7-f5ea-97ab328c3034"
      },
      "execution_count": null,
      "outputs": [
        {
          "output_type": "execute_result",
          "data": {
            "text/plain": [
              "{'Speaker A': ['Я, простите, больше не буду без камеры. У нас сейчас важный такт, нам нужно выбрать, кто из нас будет подавать заявки в форуме.',\n",
              "  'А вот тоже я отправила сообщение тут же. А, ну вы пишете 13, предлагаете, а что насчёт 1, 2, что вы думаете по этому поводу?',\n",
              "  'Что, мы тогда ставим 21 или другие варианты есть? Так, ну 2... Юля и Анна пишут 21. Галина? 29? Нет, подождите, у них максимум 20 ставка.',\n",
              "  'Но если они пойдут во банку, у них 20, а мы 21 поставим Ну.',\n",
              "  'Что команда 2 всегда ставит 20, 22, такие. Мне кажется, надо меньше 10 тоже, я согласна. Это хорошо работает, когда они жгут ресурсы, и потом мы с ними работаем. Мне кажется, или 2, или... Я, конечно, за 2, чтобы они осторожны. Но вторая в начале у них была 23 ставка.',\n",
              "  'Мне кажется, они пойдут в лобанк, а нужно столько, чтобы перекрыть их.',\n",
              "  'Давайте сорок пять тогда, да?',\n",
              "  'Ну тогда давайте единицу.'],\n",
              " 'Speaker B': ['Да, нужно точно Галина, вы поставите? Спасибо Супер Да, точно.',\n",
              "  'Мы... Поздравляю в одном шаге от победы. Так, я предлагаю поставить семь.',\n",
              "  'Да, мы таким же составом. Что, мы снова ставим один?'],\n",
              " 'Speaker C': ['Я предлагаю начать с минимальных ставок для того, чтобы раскрутить своих оппонентов на более высокие ставки. Предлагаю сделать синие яички, чтобы у нас осталось больше денег, у нас будет больше потом ставок перейти.',\n",
              "  'Давайте, все, отправляю единицу. Ставку сделали.',\n",
              "  'Так. Ну что, как и так, я предлагаю поставить Либо 13, либо 17, потому.',\n",
              "  'Я не могу найти ссылку, куда ставку ставить.',\n",
              "  'Я в какой-то момент подумала о том, что если они сейчас поставят 48 и всё, то интересно, рискнут они или нет.',\n",
              "  'В прошлый раз вообще... Я заметила, что вот если начинать примерно там... Либо с мерянки вставки, либо начинать с тринадцати и потом ставить поменьше. Ну, то есть как бы... Либо начинать вот надо с какой-то там с пяти или с трёх. А потом десятые прибавляется. Либо вот наоборот. Сначала с десятых больше десяти ставить. Например, одиннадцать или тринадцать. А потом уменьшать инициум. То есть вот тут надо практику.',\n",
              "  'Я предлагаю ставить единицу и как бы оставить... Ну то есть ставьте единицу уже.'],\n",
              " 'Speaker D': [],\n",
              " 'Speaker E': ['Предлагаю поставить полностью ставку. Сколько у нас осталось. И мы их выиграем. Они не поставят полностью.',\n",
              "  'Да, давайте три, чтобы больше ресурсов осталось.']}"
            ]
          },
          "metadata": {},
          "execution_count": 101
        }
      ]
    },
    {
      "cell_type": "code",
      "source": [
        "for key, values in speakers.items():\n",
        "  print(len(values))"
      ],
      "metadata": {
        "colab": {
          "base_uri": "https://localhost:8080/"
        },
        "id": "RdBVRtZqTXFy",
        "outputId": "83800435-d9d3-4293-9c07-d15b678f78f5"
      },
      "execution_count": null,
      "outputs": [
        {
          "output_type": "stream",
          "name": "stdout",
          "text": [
            "8\n",
            "3\n",
            "7\n",
            "0\n",
            "2\n"
          ]
        }
      ]
    },
    {
      "cell_type": "markdown",
      "source": [
        "# С помощью векторных представлений слов на обученных моделях"
      ],
      "metadata": {
        "id": "NlyI7aCWhLJN"
      }
    },
    {
      "cell_type": "markdown",
      "source": [
        "Используем логистическую регрессию и векторные представления Navec."
      ],
      "metadata": {
        "id": "aNyoDqYehjhN"
      }
    },
    {
      "cell_type": "markdown",
      "source": [
        "### Установка и загрузка библиотек"
      ],
      "metadata": {
        "id": "zGwkhM7cjjtN"
      }
    },
    {
      "cell_type": "code",
      "source": [
        "!pip install pymorphy3\n",
        "!pip install navec"
      ],
      "metadata": {
        "colab": {
          "base_uri": "https://localhost:8080/"
        },
        "id": "5_0a7VH-hUrf",
        "outputId": "cf0e30bd-4154-4501-b210-15f5b50b4459"
      },
      "execution_count": null,
      "outputs": [
        {
          "output_type": "stream",
          "name": "stdout",
          "text": [
            "Requirement already satisfied: pymorphy3 in /usr/local/lib/python3.10/dist-packages (2.0.1)\n",
            "Requirement already satisfied: dawg-python>=0.7.1 in /usr/local/lib/python3.10/dist-packages (from pymorphy3) (0.7.2)\n",
            "Requirement already satisfied: pymorphy3-dicts-ru in /usr/local/lib/python3.10/dist-packages (from pymorphy3) (2.4.417150.4580142)\n",
            "Collecting navec\n",
            "  Downloading navec-0.10.0-py3-none-any.whl (23 kB)\n",
            "Requirement already satisfied: numpy in /usr/local/lib/python3.10/dist-packages (from navec) (1.25.2)\n",
            "Installing collected packages: navec\n",
            "Successfully installed navec-0.10.0\n"
          ]
        }
      ]
    },
    {
      "cell_type": "code",
      "source": [
        "import pandas as pd\n",
        "import numpy as np\n",
        "import pymorphy3\n",
        "import nltk\n",
        "from nltk.tokenize import word_tokenize\n",
        "from nltk.corpus import stopwords\n",
        "from sklearn.linear_model import LogisticRegression\n",
        "from sklearn.model_selection import train_test_split\n",
        "from navec import Navec"
      ],
      "metadata": {
        "id": "c-kP5_I1hno8"
      },
      "execution_count": null,
      "outputs": []
    },
    {
      "cell_type": "code",
      "source": [
        "nltk.download('punkt')\n",
        "nltk.download('stopwords')"
      ],
      "metadata": {
        "colab": {
          "base_uri": "https://localhost:8080/"
        },
        "id": "5QNwGRhThx80",
        "outputId": "d9e780c3-20ab-42dd-a686-91b1e441cf68"
      },
      "execution_count": null,
      "outputs": [
        {
          "output_type": "stream",
          "name": "stderr",
          "text": [
            "[nltk_data] Downloading package punkt to /root/nltk_data...\n",
            "[nltk_data]   Package punkt is already up-to-date!\n",
            "[nltk_data] Downloading package stopwords to /root/nltk_data...\n",
            "[nltk_data]   Package stopwords is already up-to-date!\n"
          ]
        },
        {
          "output_type": "execute_result",
          "data": {
            "text/plain": [
              "True"
            ]
          },
          "metadata": {},
          "execution_count": 100
        }
      ]
    },
    {
      "cell_type": "markdown",
      "source": [
        "Константы"
      ],
      "metadata": {
        "id": "Q5gtU_uuh89-"
      }
    },
    {
      "cell_type": "code",
      "source": [
        "random_state = 42\n",
        "max_review_len = 50\n",
        "vector_size = 300"
      ],
      "metadata": {
        "id": "5Ogmm2g_hy8N"
      },
      "execution_count": null,
      "outputs": []
    },
    {
      "cell_type": "markdown",
      "source": [
        "## Загружаем и готовим набор данных"
      ],
      "metadata": {
        "id": "WQacaeGriKzd"
      }
    },
    {
      "cell_type": "code",
      "source": [
        "dataframe = pd.read_csv('/content/drive/MyDrive/Colab_Notebooks/Classes/file_upd.csv')\n",
        "dataframe.drop('Unnamed: 0', inplace=True, axis=1)"
      ],
      "metadata": {
        "id": "ENoKKT5oiJx1"
      },
      "execution_count": null,
      "outputs": []
    },
    {
      "cell_type": "code",
      "source": [
        "dataframe"
      ],
      "metadata": {
        "colab": {
          "base_uri": "https://localhost:8080/",
          "height": 423
        },
        "id": "mKDKCcVmiVmF",
        "outputId": "e133d2aa-57f3-4c5b-e071-989401722ee5"
      },
      "execution_count": null,
      "outputs": [
        {
          "output_type": "execute_result",
          "data": {
            "text/plain": [
              "                                                  text     category\n",
              "0                                      Давайте двойку.  предложение\n",
              "1                                              Ставлю.  предложение\n",
              "2                             Нам надо пять поставить.  предложение\n",
              "3                               Ребят, 2 надо ставить.  предложение\n",
              "4                  2 надо ставить, у нас ресурсов нет.  предложение\n",
              "..                                                 ...          ...\n",
              "261  Смотрим их, да, и наблюдаем за стратегией других.       другое\n",
              "262  Так, а мне, Варвара, мне надо каждый раз отпра...       другое\n",
              "263                                              Давай       другое\n",
              "264                                   Давай, согласна.       другое\n",
              "265                    Прости, я тебя вообще не слышу.       другое\n",
              "\n",
              "[266 rows x 2 columns]"
            ],
            "text/html": [
              "\n",
              "  <div id=\"df-a1d9a2fe-8438-45ab-881b-733ceb4d99f3\" class=\"colab-df-container\">\n",
              "    <div>\n",
              "<style scoped>\n",
              "    .dataframe tbody tr th:only-of-type {\n",
              "        vertical-align: middle;\n",
              "    }\n",
              "\n",
              "    .dataframe tbody tr th {\n",
              "        vertical-align: top;\n",
              "    }\n",
              "\n",
              "    .dataframe thead th {\n",
              "        text-align: right;\n",
              "    }\n",
              "</style>\n",
              "<table border=\"1\" class=\"dataframe\">\n",
              "  <thead>\n",
              "    <tr style=\"text-align: right;\">\n",
              "      <th></th>\n",
              "      <th>text</th>\n",
              "      <th>category</th>\n",
              "    </tr>\n",
              "  </thead>\n",
              "  <tbody>\n",
              "    <tr>\n",
              "      <th>0</th>\n",
              "      <td>Давайте двойку.</td>\n",
              "      <td>предложение</td>\n",
              "    </tr>\n",
              "    <tr>\n",
              "      <th>1</th>\n",
              "      <td>Ставлю.</td>\n",
              "      <td>предложение</td>\n",
              "    </tr>\n",
              "    <tr>\n",
              "      <th>2</th>\n",
              "      <td>Нам надо пять поставить.</td>\n",
              "      <td>предложение</td>\n",
              "    </tr>\n",
              "    <tr>\n",
              "      <th>3</th>\n",
              "      <td>Ребят, 2 надо ставить.</td>\n",
              "      <td>предложение</td>\n",
              "    </tr>\n",
              "    <tr>\n",
              "      <th>4</th>\n",
              "      <td>2 надо ставить, у нас ресурсов нет.</td>\n",
              "      <td>предложение</td>\n",
              "    </tr>\n",
              "    <tr>\n",
              "      <th>...</th>\n",
              "      <td>...</td>\n",
              "      <td>...</td>\n",
              "    </tr>\n",
              "    <tr>\n",
              "      <th>261</th>\n",
              "      <td>Смотрим их, да, и наблюдаем за стратегией других.</td>\n",
              "      <td>другое</td>\n",
              "    </tr>\n",
              "    <tr>\n",
              "      <th>262</th>\n",
              "      <td>Так, а мне, Варвара, мне надо каждый раз отпра...</td>\n",
              "      <td>другое</td>\n",
              "    </tr>\n",
              "    <tr>\n",
              "      <th>263</th>\n",
              "      <td>Давай</td>\n",
              "      <td>другое</td>\n",
              "    </tr>\n",
              "    <tr>\n",
              "      <th>264</th>\n",
              "      <td>Давай, согласна.</td>\n",
              "      <td>другое</td>\n",
              "    </tr>\n",
              "    <tr>\n",
              "      <th>265</th>\n",
              "      <td>Прости, я тебя вообще не слышу.</td>\n",
              "      <td>другое</td>\n",
              "    </tr>\n",
              "  </tbody>\n",
              "</table>\n",
              "<p>266 rows × 2 columns</p>\n",
              "</div>\n",
              "    <div class=\"colab-df-buttons\">\n",
              "\n",
              "  <div class=\"colab-df-container\">\n",
              "    <button class=\"colab-df-convert\" onclick=\"convertToInteractive('df-a1d9a2fe-8438-45ab-881b-733ceb4d99f3')\"\n",
              "            title=\"Convert this dataframe to an interactive table.\"\n",
              "            style=\"display:none;\">\n",
              "\n",
              "  <svg xmlns=\"http://www.w3.org/2000/svg\" height=\"24px\" viewBox=\"0 -960 960 960\">\n",
              "    <path d=\"M120-120v-720h720v720H120Zm60-500h600v-160H180v160Zm220 220h160v-160H400v160Zm0 220h160v-160H400v160ZM180-400h160v-160H180v160Zm440 0h160v-160H620v160ZM180-180h160v-160H180v160Zm440 0h160v-160H620v160Z\"/>\n",
              "  </svg>\n",
              "    </button>\n",
              "\n",
              "  <style>\n",
              "    .colab-df-container {\n",
              "      display:flex;\n",
              "      gap: 12px;\n",
              "    }\n",
              "\n",
              "    .colab-df-convert {\n",
              "      background-color: #E8F0FE;\n",
              "      border: none;\n",
              "      border-radius: 50%;\n",
              "      cursor: pointer;\n",
              "      display: none;\n",
              "      fill: #1967D2;\n",
              "      height: 32px;\n",
              "      padding: 0 0 0 0;\n",
              "      width: 32px;\n",
              "    }\n",
              "\n",
              "    .colab-df-convert:hover {\n",
              "      background-color: #E2EBFA;\n",
              "      box-shadow: 0px 1px 2px rgba(60, 64, 67, 0.3), 0px 1px 3px 1px rgba(60, 64, 67, 0.15);\n",
              "      fill: #174EA6;\n",
              "    }\n",
              "\n",
              "    .colab-df-buttons div {\n",
              "      margin-bottom: 4px;\n",
              "    }\n",
              "\n",
              "    [theme=dark] .colab-df-convert {\n",
              "      background-color: #3B4455;\n",
              "      fill: #D2E3FC;\n",
              "    }\n",
              "\n",
              "    [theme=dark] .colab-df-convert:hover {\n",
              "      background-color: #434B5C;\n",
              "      box-shadow: 0px 1px 3px 1px rgba(0, 0, 0, 0.15);\n",
              "      filter: drop-shadow(0px 1px 2px rgba(0, 0, 0, 0.3));\n",
              "      fill: #FFFFFF;\n",
              "    }\n",
              "  </style>\n",
              "\n",
              "    <script>\n",
              "      const buttonEl =\n",
              "        document.querySelector('#df-a1d9a2fe-8438-45ab-881b-733ceb4d99f3 button.colab-df-convert');\n",
              "      buttonEl.style.display =\n",
              "        google.colab.kernel.accessAllowed ? 'block' : 'none';\n",
              "\n",
              "      async function convertToInteractive(key) {\n",
              "        const element = document.querySelector('#df-a1d9a2fe-8438-45ab-881b-733ceb4d99f3');\n",
              "        const dataTable =\n",
              "          await google.colab.kernel.invokeFunction('convertToInteractive',\n",
              "                                                    [key], {});\n",
              "        if (!dataTable) return;\n",
              "\n",
              "        const docLinkHtml = 'Like what you see? Visit the ' +\n",
              "          '<a target=\"_blank\" href=https://colab.research.google.com/notebooks/data_table.ipynb>data table notebook</a>'\n",
              "          + ' to learn more about interactive tables.';\n",
              "        element.innerHTML = '';\n",
              "        dataTable['output_type'] = 'display_data';\n",
              "        await google.colab.output.renderOutput(dataTable, element);\n",
              "        const docLink = document.createElement('div');\n",
              "        docLink.innerHTML = docLinkHtml;\n",
              "        element.appendChild(docLink);\n",
              "      }\n",
              "    </script>\n",
              "  </div>\n",
              "\n",
              "\n",
              "<div id=\"df-56a6f11f-3a8a-4ca7-bce8-02ed9b8373a3\">\n",
              "  <button class=\"colab-df-quickchart\" onclick=\"quickchart('df-56a6f11f-3a8a-4ca7-bce8-02ed9b8373a3')\"\n",
              "            title=\"Suggest charts\"\n",
              "            style=\"display:none;\">\n",
              "\n",
              "<svg xmlns=\"http://www.w3.org/2000/svg\" height=\"24px\"viewBox=\"0 0 24 24\"\n",
              "     width=\"24px\">\n",
              "    <g>\n",
              "        <path d=\"M19 3H5c-1.1 0-2 .9-2 2v14c0 1.1.9 2 2 2h14c1.1 0 2-.9 2-2V5c0-1.1-.9-2-2-2zM9 17H7v-7h2v7zm4 0h-2V7h2v10zm4 0h-2v-4h2v4z\"/>\n",
              "    </g>\n",
              "</svg>\n",
              "  </button>\n",
              "\n",
              "<style>\n",
              "  .colab-df-quickchart {\n",
              "      --bg-color: #E8F0FE;\n",
              "      --fill-color: #1967D2;\n",
              "      --hover-bg-color: #E2EBFA;\n",
              "      --hover-fill-color: #174EA6;\n",
              "      --disabled-fill-color: #AAA;\n",
              "      --disabled-bg-color: #DDD;\n",
              "  }\n",
              "\n",
              "  [theme=dark] .colab-df-quickchart {\n",
              "      --bg-color: #3B4455;\n",
              "      --fill-color: #D2E3FC;\n",
              "      --hover-bg-color: #434B5C;\n",
              "      --hover-fill-color: #FFFFFF;\n",
              "      --disabled-bg-color: #3B4455;\n",
              "      --disabled-fill-color: #666;\n",
              "  }\n",
              "\n",
              "  .colab-df-quickchart {\n",
              "    background-color: var(--bg-color);\n",
              "    border: none;\n",
              "    border-radius: 50%;\n",
              "    cursor: pointer;\n",
              "    display: none;\n",
              "    fill: var(--fill-color);\n",
              "    height: 32px;\n",
              "    padding: 0;\n",
              "    width: 32px;\n",
              "  }\n",
              "\n",
              "  .colab-df-quickchart:hover {\n",
              "    background-color: var(--hover-bg-color);\n",
              "    box-shadow: 0 1px 2px rgba(60, 64, 67, 0.3), 0 1px 3px 1px rgba(60, 64, 67, 0.15);\n",
              "    fill: var(--button-hover-fill-color);\n",
              "  }\n",
              "\n",
              "  .colab-df-quickchart-complete:disabled,\n",
              "  .colab-df-quickchart-complete:disabled:hover {\n",
              "    background-color: var(--disabled-bg-color);\n",
              "    fill: var(--disabled-fill-color);\n",
              "    box-shadow: none;\n",
              "  }\n",
              "\n",
              "  .colab-df-spinner {\n",
              "    border: 2px solid var(--fill-color);\n",
              "    border-color: transparent;\n",
              "    border-bottom-color: var(--fill-color);\n",
              "    animation:\n",
              "      spin 1s steps(1) infinite;\n",
              "  }\n",
              "\n",
              "  @keyframes spin {\n",
              "    0% {\n",
              "      border-color: transparent;\n",
              "      border-bottom-color: var(--fill-color);\n",
              "      border-left-color: var(--fill-color);\n",
              "    }\n",
              "    20% {\n",
              "      border-color: transparent;\n",
              "      border-left-color: var(--fill-color);\n",
              "      border-top-color: var(--fill-color);\n",
              "    }\n",
              "    30% {\n",
              "      border-color: transparent;\n",
              "      border-left-color: var(--fill-color);\n",
              "      border-top-color: var(--fill-color);\n",
              "      border-right-color: var(--fill-color);\n",
              "    }\n",
              "    40% {\n",
              "      border-color: transparent;\n",
              "      border-right-color: var(--fill-color);\n",
              "      border-top-color: var(--fill-color);\n",
              "    }\n",
              "    60% {\n",
              "      border-color: transparent;\n",
              "      border-right-color: var(--fill-color);\n",
              "    }\n",
              "    80% {\n",
              "      border-color: transparent;\n",
              "      border-right-color: var(--fill-color);\n",
              "      border-bottom-color: var(--fill-color);\n",
              "    }\n",
              "    90% {\n",
              "      border-color: transparent;\n",
              "      border-bottom-color: var(--fill-color);\n",
              "    }\n",
              "  }\n",
              "</style>\n",
              "\n",
              "  <script>\n",
              "    async function quickchart(key) {\n",
              "      const quickchartButtonEl =\n",
              "        document.querySelector('#' + key + ' button');\n",
              "      quickchartButtonEl.disabled = true;  // To prevent multiple clicks.\n",
              "      quickchartButtonEl.classList.add('colab-df-spinner');\n",
              "      try {\n",
              "        const charts = await google.colab.kernel.invokeFunction(\n",
              "            'suggestCharts', [key], {});\n",
              "      } catch (error) {\n",
              "        console.error('Error during call to suggestCharts:', error);\n",
              "      }\n",
              "      quickchartButtonEl.classList.remove('colab-df-spinner');\n",
              "      quickchartButtonEl.classList.add('colab-df-quickchart-complete');\n",
              "    }\n",
              "    (() => {\n",
              "      let quickchartButtonEl =\n",
              "        document.querySelector('#df-56a6f11f-3a8a-4ca7-bce8-02ed9b8373a3 button');\n",
              "      quickchartButtonEl.style.display =\n",
              "        google.colab.kernel.accessAllowed ? 'block' : 'none';\n",
              "    })();\n",
              "  </script>\n",
              "</div>\n",
              "    </div>\n",
              "  </div>\n"
            ],
            "application/vnd.google.colaboratory.intrinsic+json": {
              "type": "dataframe",
              "variable_name": "dataframe",
              "summary": "{\n  \"name\": \"dataframe\",\n  \"rows\": 266,\n  \"fields\": [\n    {\n      \"column\": \"text\",\n      \"properties\": {\n        \"dtype\": \"string\",\n        \"num_unique_values\": 264,\n        \"samples\": [\n          \"\\u041d\\u0438\\u0447\\u0435\\u0433\\u043e, \\u043c\\u043e\\u0436\\u043d\\u043e \\u043d\\u0430 \\u0435\\u0435 \\u043d\\u0430\\u0431\\u043e\\u0440\\u043a\\u0443 \\u0432\\u043e\\u0437\\u0432\\u0440\\u0430\\u0449\\u0430\\u0442\\u044c\\u0441\\u044f.\",\n          \"\\u041d\\u043e \\u043e\\u043d\\u0438 \\u043c\\u043e\\u0433\\u0443\\u0442 \\u0441\\u0435\\u0439\\u0447\\u0430\\u0441 \\u0441\\u0442\\u0440\\u0430\\u0442\\u0435\\u0433\\u0438\\u044e \\u043f\\u043e\\u043c\\u0435\\u043d\\u044f\\u0442\\u044c.\",\n          \"\\u0414\\u0430, \\u0434\\u0430\\u0432\\u0430\\u0439\\u0442\\u0435 \\u043f\\u043e\\u0441\\u0442\\u0430\\u0432\\u0438\\u043c. \\u041d\\u043e \\u043e\\u043d\\u0438 \\u0432\\u044b\\u0438\\u0433\\u0440\\u0430\\u044e\\u0442. \\u041e\\u043d\\u0438 \\u043c\\u043e\\u0433\\u0443\\u0442 \\u0432\\u044b\\u0438\\u0433\\u0440\\u0430\\u0442\\u044c.\"\n        ],\n        \"semantic_type\": \"\",\n        \"description\": \"\"\n      }\n    },\n    {\n      \"column\": \"category\",\n      \"properties\": {\n        \"dtype\": \"category\",\n        \"num_unique_values\": 2,\n        \"samples\": [\n          \"\\u0434\\u0440\\u0443\\u0433\\u043e\\u0435\",\n          \"\\u043f\\u0440\\u0435\\u0434\\u043b\\u043e\\u0436\\u0435\\u043d\\u0438\\u0435\"\n        ],\n        \"semantic_type\": \"\",\n        \"description\": \"\"\n      }\n    }\n  ]\n}"
            }
          },
          "metadata": {},
          "execution_count": 117
        }
      ]
    },
    {
      "cell_type": "code",
      "source": [
        "dataframe['preprocessed_text'] = dataframe.apply(lambda row: preprocess(row['text']), axis=1)"
      ],
      "metadata": {
        "id": "OzdfyOOMiXkt"
      },
      "execution_count": null,
      "outputs": []
    },
    {
      "cell_type": "code",
      "source": [
        "dataframe"
      ],
      "metadata": {
        "colab": {
          "base_uri": "https://localhost:8080/",
          "height": 423
        },
        "id": "5deBvFzgirqN",
        "outputId": "d070e354-3b93-490f-bbde-fb9f72be60e7"
      },
      "execution_count": null,
      "outputs": [
        {
          "output_type": "execute_result",
          "data": {
            "text/plain": [
              "                                                  text     category  \\\n",
              "0                                      Давайте двойку.  предложение   \n",
              "1                                              Ставлю.  предложение   \n",
              "2                             Нам надо пять поставить.  предложение   \n",
              "3                               Ребят, 2 надо ставить.  предложение   \n",
              "4                  2 надо ставить, у нас ресурсов нет.  предложение   \n",
              "..                                                 ...          ...   \n",
              "261  Смотрим их, да, и наблюдаем за стратегией других.       другое   \n",
              "262  Так, а мне, Варвара, мне надо каждый раз отпра...       другое   \n",
              "263                                              Давай       другое   \n",
              "264                                   Давай, согласна.       другое   \n",
              "265                    Прости, я тебя вообще не слышу.       другое   \n",
              "\n",
              "                                     preprocessed_text  \n",
              "0                                     [давать, двойка]  \n",
              "1                                            [ставить]  \n",
              "2                                    [пять, поставить]  \n",
              "3                                 [ребята, 2, ставить]  \n",
              "4                                 [2, ставить, ресурс]  \n",
              "..                                                 ...  \n",
              "261                   [смотреть, наблюдать, стратегия]  \n",
              "262  [варвар, каждый, отправить, ещё, ответ, следую...  \n",
              "263                                           [давать]  \n",
              "264                                [давать, согласный]  \n",
              "265                        [простить, вообще, слышать]  \n",
              "\n",
              "[266 rows x 3 columns]"
            ],
            "text/html": [
              "\n",
              "  <div id=\"df-24458a3b-0983-440b-af21-ff4a7f95de8b\" class=\"colab-df-container\">\n",
              "    <div>\n",
              "<style scoped>\n",
              "    .dataframe tbody tr th:only-of-type {\n",
              "        vertical-align: middle;\n",
              "    }\n",
              "\n",
              "    .dataframe tbody tr th {\n",
              "        vertical-align: top;\n",
              "    }\n",
              "\n",
              "    .dataframe thead th {\n",
              "        text-align: right;\n",
              "    }\n",
              "</style>\n",
              "<table border=\"1\" class=\"dataframe\">\n",
              "  <thead>\n",
              "    <tr style=\"text-align: right;\">\n",
              "      <th></th>\n",
              "      <th>text</th>\n",
              "      <th>category</th>\n",
              "      <th>preprocessed_text</th>\n",
              "    </tr>\n",
              "  </thead>\n",
              "  <tbody>\n",
              "    <tr>\n",
              "      <th>0</th>\n",
              "      <td>Давайте двойку.</td>\n",
              "      <td>предложение</td>\n",
              "      <td>[давать, двойка]</td>\n",
              "    </tr>\n",
              "    <tr>\n",
              "      <th>1</th>\n",
              "      <td>Ставлю.</td>\n",
              "      <td>предложение</td>\n",
              "      <td>[ставить]</td>\n",
              "    </tr>\n",
              "    <tr>\n",
              "      <th>2</th>\n",
              "      <td>Нам надо пять поставить.</td>\n",
              "      <td>предложение</td>\n",
              "      <td>[пять, поставить]</td>\n",
              "    </tr>\n",
              "    <tr>\n",
              "      <th>3</th>\n",
              "      <td>Ребят, 2 надо ставить.</td>\n",
              "      <td>предложение</td>\n",
              "      <td>[ребята, 2, ставить]</td>\n",
              "    </tr>\n",
              "    <tr>\n",
              "      <th>4</th>\n",
              "      <td>2 надо ставить, у нас ресурсов нет.</td>\n",
              "      <td>предложение</td>\n",
              "      <td>[2, ставить, ресурс]</td>\n",
              "    </tr>\n",
              "    <tr>\n",
              "      <th>...</th>\n",
              "      <td>...</td>\n",
              "      <td>...</td>\n",
              "      <td>...</td>\n",
              "    </tr>\n",
              "    <tr>\n",
              "      <th>261</th>\n",
              "      <td>Смотрим их, да, и наблюдаем за стратегией других.</td>\n",
              "      <td>другое</td>\n",
              "      <td>[смотреть, наблюдать, стратегия]</td>\n",
              "    </tr>\n",
              "    <tr>\n",
              "      <th>262</th>\n",
              "      <td>Так, а мне, Варвара, мне надо каждый раз отпра...</td>\n",
              "      <td>другое</td>\n",
              "      <td>[варвар, каждый, отправить, ещё, ответ, следую...</td>\n",
              "    </tr>\n",
              "    <tr>\n",
              "      <th>263</th>\n",
              "      <td>Давай</td>\n",
              "      <td>другое</td>\n",
              "      <td>[давать]</td>\n",
              "    </tr>\n",
              "    <tr>\n",
              "      <th>264</th>\n",
              "      <td>Давай, согласна.</td>\n",
              "      <td>другое</td>\n",
              "      <td>[давать, согласный]</td>\n",
              "    </tr>\n",
              "    <tr>\n",
              "      <th>265</th>\n",
              "      <td>Прости, я тебя вообще не слышу.</td>\n",
              "      <td>другое</td>\n",
              "      <td>[простить, вообще, слышать]</td>\n",
              "    </tr>\n",
              "  </tbody>\n",
              "</table>\n",
              "<p>266 rows × 3 columns</p>\n",
              "</div>\n",
              "    <div class=\"colab-df-buttons\">\n",
              "\n",
              "  <div class=\"colab-df-container\">\n",
              "    <button class=\"colab-df-convert\" onclick=\"convertToInteractive('df-24458a3b-0983-440b-af21-ff4a7f95de8b')\"\n",
              "            title=\"Convert this dataframe to an interactive table.\"\n",
              "            style=\"display:none;\">\n",
              "\n",
              "  <svg xmlns=\"http://www.w3.org/2000/svg\" height=\"24px\" viewBox=\"0 -960 960 960\">\n",
              "    <path d=\"M120-120v-720h720v720H120Zm60-500h600v-160H180v160Zm220 220h160v-160H400v160Zm0 220h160v-160H400v160ZM180-400h160v-160H180v160Zm440 0h160v-160H620v160ZM180-180h160v-160H180v160Zm440 0h160v-160H620v160Z\"/>\n",
              "  </svg>\n",
              "    </button>\n",
              "\n",
              "  <style>\n",
              "    .colab-df-container {\n",
              "      display:flex;\n",
              "      gap: 12px;\n",
              "    }\n",
              "\n",
              "    .colab-df-convert {\n",
              "      background-color: #E8F0FE;\n",
              "      border: none;\n",
              "      border-radius: 50%;\n",
              "      cursor: pointer;\n",
              "      display: none;\n",
              "      fill: #1967D2;\n",
              "      height: 32px;\n",
              "      padding: 0 0 0 0;\n",
              "      width: 32px;\n",
              "    }\n",
              "\n",
              "    .colab-df-convert:hover {\n",
              "      background-color: #E2EBFA;\n",
              "      box-shadow: 0px 1px 2px rgba(60, 64, 67, 0.3), 0px 1px 3px 1px rgba(60, 64, 67, 0.15);\n",
              "      fill: #174EA6;\n",
              "    }\n",
              "\n",
              "    .colab-df-buttons div {\n",
              "      margin-bottom: 4px;\n",
              "    }\n",
              "\n",
              "    [theme=dark] .colab-df-convert {\n",
              "      background-color: #3B4455;\n",
              "      fill: #D2E3FC;\n",
              "    }\n",
              "\n",
              "    [theme=dark] .colab-df-convert:hover {\n",
              "      background-color: #434B5C;\n",
              "      box-shadow: 0px 1px 3px 1px rgba(0, 0, 0, 0.15);\n",
              "      filter: drop-shadow(0px 1px 2px rgba(0, 0, 0, 0.3));\n",
              "      fill: #FFFFFF;\n",
              "    }\n",
              "  </style>\n",
              "\n",
              "    <script>\n",
              "      const buttonEl =\n",
              "        document.querySelector('#df-24458a3b-0983-440b-af21-ff4a7f95de8b button.colab-df-convert');\n",
              "      buttonEl.style.display =\n",
              "        google.colab.kernel.accessAllowed ? 'block' : 'none';\n",
              "\n",
              "      async function convertToInteractive(key) {\n",
              "        const element = document.querySelector('#df-24458a3b-0983-440b-af21-ff4a7f95de8b');\n",
              "        const dataTable =\n",
              "          await google.colab.kernel.invokeFunction('convertToInteractive',\n",
              "                                                    [key], {});\n",
              "        if (!dataTable) return;\n",
              "\n",
              "        const docLinkHtml = 'Like what you see? Visit the ' +\n",
              "          '<a target=\"_blank\" href=https://colab.research.google.com/notebooks/data_table.ipynb>data table notebook</a>'\n",
              "          + ' to learn more about interactive tables.';\n",
              "        element.innerHTML = '';\n",
              "        dataTable['output_type'] = 'display_data';\n",
              "        await google.colab.output.renderOutput(dataTable, element);\n",
              "        const docLink = document.createElement('div');\n",
              "        docLink.innerHTML = docLinkHtml;\n",
              "        element.appendChild(docLink);\n",
              "      }\n",
              "    </script>\n",
              "  </div>\n",
              "\n",
              "\n",
              "<div id=\"df-33aaa4c2-bb33-465e-970d-e9c28e4c4842\">\n",
              "  <button class=\"colab-df-quickchart\" onclick=\"quickchart('df-33aaa4c2-bb33-465e-970d-e9c28e4c4842')\"\n",
              "            title=\"Suggest charts\"\n",
              "            style=\"display:none;\">\n",
              "\n",
              "<svg xmlns=\"http://www.w3.org/2000/svg\" height=\"24px\"viewBox=\"0 0 24 24\"\n",
              "     width=\"24px\">\n",
              "    <g>\n",
              "        <path d=\"M19 3H5c-1.1 0-2 .9-2 2v14c0 1.1.9 2 2 2h14c1.1 0 2-.9 2-2V5c0-1.1-.9-2-2-2zM9 17H7v-7h2v7zm4 0h-2V7h2v10zm4 0h-2v-4h2v4z\"/>\n",
              "    </g>\n",
              "</svg>\n",
              "  </button>\n",
              "\n",
              "<style>\n",
              "  .colab-df-quickchart {\n",
              "      --bg-color: #E8F0FE;\n",
              "      --fill-color: #1967D2;\n",
              "      --hover-bg-color: #E2EBFA;\n",
              "      --hover-fill-color: #174EA6;\n",
              "      --disabled-fill-color: #AAA;\n",
              "      --disabled-bg-color: #DDD;\n",
              "  }\n",
              "\n",
              "  [theme=dark] .colab-df-quickchart {\n",
              "      --bg-color: #3B4455;\n",
              "      --fill-color: #D2E3FC;\n",
              "      --hover-bg-color: #434B5C;\n",
              "      --hover-fill-color: #FFFFFF;\n",
              "      --disabled-bg-color: #3B4455;\n",
              "      --disabled-fill-color: #666;\n",
              "  }\n",
              "\n",
              "  .colab-df-quickchart {\n",
              "    background-color: var(--bg-color);\n",
              "    border: none;\n",
              "    border-radius: 50%;\n",
              "    cursor: pointer;\n",
              "    display: none;\n",
              "    fill: var(--fill-color);\n",
              "    height: 32px;\n",
              "    padding: 0;\n",
              "    width: 32px;\n",
              "  }\n",
              "\n",
              "  .colab-df-quickchart:hover {\n",
              "    background-color: var(--hover-bg-color);\n",
              "    box-shadow: 0 1px 2px rgba(60, 64, 67, 0.3), 0 1px 3px 1px rgba(60, 64, 67, 0.15);\n",
              "    fill: var(--button-hover-fill-color);\n",
              "  }\n",
              "\n",
              "  .colab-df-quickchart-complete:disabled,\n",
              "  .colab-df-quickchart-complete:disabled:hover {\n",
              "    background-color: var(--disabled-bg-color);\n",
              "    fill: var(--disabled-fill-color);\n",
              "    box-shadow: none;\n",
              "  }\n",
              "\n",
              "  .colab-df-spinner {\n",
              "    border: 2px solid var(--fill-color);\n",
              "    border-color: transparent;\n",
              "    border-bottom-color: var(--fill-color);\n",
              "    animation:\n",
              "      spin 1s steps(1) infinite;\n",
              "  }\n",
              "\n",
              "  @keyframes spin {\n",
              "    0% {\n",
              "      border-color: transparent;\n",
              "      border-bottom-color: var(--fill-color);\n",
              "      border-left-color: var(--fill-color);\n",
              "    }\n",
              "    20% {\n",
              "      border-color: transparent;\n",
              "      border-left-color: var(--fill-color);\n",
              "      border-top-color: var(--fill-color);\n",
              "    }\n",
              "    30% {\n",
              "      border-color: transparent;\n",
              "      border-left-color: var(--fill-color);\n",
              "      border-top-color: var(--fill-color);\n",
              "      border-right-color: var(--fill-color);\n",
              "    }\n",
              "    40% {\n",
              "      border-color: transparent;\n",
              "      border-right-color: var(--fill-color);\n",
              "      border-top-color: var(--fill-color);\n",
              "    }\n",
              "    60% {\n",
              "      border-color: transparent;\n",
              "      border-right-color: var(--fill-color);\n",
              "    }\n",
              "    80% {\n",
              "      border-color: transparent;\n",
              "      border-right-color: var(--fill-color);\n",
              "      border-bottom-color: var(--fill-color);\n",
              "    }\n",
              "    90% {\n",
              "      border-color: transparent;\n",
              "      border-bottom-color: var(--fill-color);\n",
              "    }\n",
              "  }\n",
              "</style>\n",
              "\n",
              "  <script>\n",
              "    async function quickchart(key) {\n",
              "      const quickchartButtonEl =\n",
              "        document.querySelector('#' + key + ' button');\n",
              "      quickchartButtonEl.disabled = true;  // To prevent multiple clicks.\n",
              "      quickchartButtonEl.classList.add('colab-df-spinner');\n",
              "      try {\n",
              "        const charts = await google.colab.kernel.invokeFunction(\n",
              "            'suggestCharts', [key], {});\n",
              "      } catch (error) {\n",
              "        console.error('Error during call to suggestCharts:', error);\n",
              "      }\n",
              "      quickchartButtonEl.classList.remove('colab-df-spinner');\n",
              "      quickchartButtonEl.classList.add('colab-df-quickchart-complete');\n",
              "    }\n",
              "    (() => {\n",
              "      let quickchartButtonEl =\n",
              "        document.querySelector('#df-33aaa4c2-bb33-465e-970d-e9c28e4c4842 button');\n",
              "      quickchartButtonEl.style.display =\n",
              "        google.colab.kernel.accessAllowed ? 'block' : 'none';\n",
              "    })();\n",
              "  </script>\n",
              "</div>\n",
              "    </div>\n",
              "  </div>\n"
            ],
            "application/vnd.google.colaboratory.intrinsic+json": {
              "type": "dataframe",
              "variable_name": "dataframe",
              "summary": "{\n  \"name\": \"dataframe\",\n  \"rows\": 266,\n  \"fields\": [\n    {\n      \"column\": \"text\",\n      \"properties\": {\n        \"dtype\": \"string\",\n        \"num_unique_values\": 264,\n        \"samples\": [\n          \"\\u041d\\u0438\\u0447\\u0435\\u0433\\u043e, \\u043c\\u043e\\u0436\\u043d\\u043e \\u043d\\u0430 \\u0435\\u0435 \\u043d\\u0430\\u0431\\u043e\\u0440\\u043a\\u0443 \\u0432\\u043e\\u0437\\u0432\\u0440\\u0430\\u0449\\u0430\\u0442\\u044c\\u0441\\u044f.\",\n          \"\\u041d\\u043e \\u043e\\u043d\\u0438 \\u043c\\u043e\\u0433\\u0443\\u0442 \\u0441\\u0435\\u0439\\u0447\\u0430\\u0441 \\u0441\\u0442\\u0440\\u0430\\u0442\\u0435\\u0433\\u0438\\u044e \\u043f\\u043e\\u043c\\u0435\\u043d\\u044f\\u0442\\u044c.\",\n          \"\\u0414\\u0430, \\u0434\\u0430\\u0432\\u0430\\u0439\\u0442\\u0435 \\u043f\\u043e\\u0441\\u0442\\u0430\\u0432\\u0438\\u043c. \\u041d\\u043e \\u043e\\u043d\\u0438 \\u0432\\u044b\\u0438\\u0433\\u0440\\u0430\\u044e\\u0442. \\u041e\\u043d\\u0438 \\u043c\\u043e\\u0433\\u0443\\u0442 \\u0432\\u044b\\u0438\\u0433\\u0440\\u0430\\u0442\\u044c.\"\n        ],\n        \"semantic_type\": \"\",\n        \"description\": \"\"\n      }\n    },\n    {\n      \"column\": \"category\",\n      \"properties\": {\n        \"dtype\": \"category\",\n        \"num_unique_values\": 2,\n        \"samples\": [\n          \"\\u0434\\u0440\\u0443\\u0433\\u043e\\u0435\",\n          \"\\u043f\\u0440\\u0435\\u0434\\u043b\\u043e\\u0436\\u0435\\u043d\\u0438\\u0435\"\n        ],\n        \"semantic_type\": \"\",\n        \"description\": \"\"\n      }\n    },\n    {\n      \"column\": \"preprocessed_text\",\n      \"properties\": {\n        \"dtype\": \"object\",\n        \"semantic_type\": \"\",\n        \"description\": \"\"\n      }\n    }\n  ]\n}"
            }
          },
          "metadata": {},
          "execution_count": 120
        }
      ]
    },
    {
      "cell_type": "markdown",
      "source": [
        "## Загружаем предварительно обученные векторы Navec"
      ],
      "metadata": {
        "id": "m3oXmvVviv4V"
      }
    },
    {
      "cell_type": "code",
      "source": [
        "!wget https://storage.yandexcloud.net/natasha-navec/packs/navec_hudlit_v1_12B_500K_300d_100q.tar -O navec_hudlit_v1_12B_500K_300d_100q.tar"
      ],
      "metadata": {
        "colab": {
          "base_uri": "https://localhost:8080/"
        },
        "id": "1aJktqt9iucl",
        "outputId": "a1343244-d12c-4e18-a111-47c46893540f"
      },
      "execution_count": null,
      "outputs": [
        {
          "output_type": "stream",
          "name": "stdout",
          "text": [
            "--2024-06-07 13:56:31--  https://storage.yandexcloud.net/natasha-navec/packs/navec_hudlit_v1_12B_500K_300d_100q.tar\n",
            "Resolving storage.yandexcloud.net (storage.yandexcloud.net)... 213.180.193.243, 2a02:6b8::1d9\n",
            "Connecting to storage.yandexcloud.net (storage.yandexcloud.net)|213.180.193.243|:443... connected.\n",
            "HTTP request sent, awaiting response... 200 OK\n",
            "Length: 53012480 (51M) [application/x-tar]\n",
            "Saving to: ‘navec_hudlit_v1_12B_500K_300d_100q.tar’\n",
            "\n",
            "navec_hudlit_v1_12B 100%[===================>]  50.56M  19.3MB/s    in 2.6s    \n",
            "\n",
            "2024-06-07 13:56:35 (19.3 MB/s) - ‘navec_hudlit_v1_12B_500K_300d_100q.tar’ saved [53012480/53012480]\n",
            "\n"
          ]
        }
      ]
    },
    {
      "cell_type": "code",
      "source": [
        "navec = Navec.load('navec_hudlit_v1_12B_500K_300d_100q.tar')"
      ],
      "metadata": {
        "id": "mLlVi4J9i2pl"
      },
      "execution_count": null,
      "outputs": []
    },
    {
      "cell_type": "markdown",
      "source": [
        "### Векторизуем текст"
      ],
      "metadata": {
        "id": "jlP3J4ysi32V"
      }
    },
    {
      "cell_type": "markdown",
      "source": [
        "Функция для векторизации текста"
      ],
      "metadata": {
        "id": "Y9miw9mTi9kd"
      }
    },
    {
      "cell_type": "code",
      "source": [
        "def vectorize_text(txt, navec, max_review_len):\n",
        "    unk = navec['<unk>']\n",
        "    text_embeddings = []\n",
        "    for tocken in txt:\n",
        "        embedding = navec.get(tocken, unk)\n",
        "        text_embeddings.append(embedding)\n",
        "    # Дополняем или обрезаем реплики для фиксированной длины max_review_len\n",
        "    l = len(text_embeddings)\n",
        "    if l > max_review_len:\n",
        "        text_embeddings = text_embeddings[:max_review_len]\n",
        "    else:\n",
        "        text_embeddings.extend([navec['<pad>']] * (max_review_len - l))\n",
        "    return text_embeddings"
      ],
      "metadata": {
        "id": "QWaPhD5Qi683"
      },
      "execution_count": null,
      "outputs": []
    },
    {
      "cell_type": "markdown",
      "source": [
        "Применяем функцию векторизации текста к набору данных"
      ],
      "metadata": {
        "id": "HAMY9UmAjEls"
      }
    },
    {
      "cell_type": "code",
      "source": [
        "dataframe['embeddings'] = dataframe.apply(lambda row: vectorize_text(row['preprocessed_text'], navec, max_review_len), axis=1)"
      ],
      "metadata": {
        "id": "nz9kEssxjCx1"
      },
      "execution_count": null,
      "outputs": []
    },
    {
      "cell_type": "code",
      "source": [
        "dataframe"
      ],
      "metadata": {
        "colab": {
          "base_uri": "https://localhost:8080/",
          "height": 597
        },
        "id": "_Xtzx5VejXL9",
        "outputId": "6bd665d8-b682-4a81-d7bd-f893e1eac309"
      },
      "execution_count": null,
      "outputs": [
        {
          "output_type": "execute_result",
          "data": {
            "text/plain": [
              "                                                  text     category  \\\n",
              "0                                      Давайте двойку.  предложение   \n",
              "1                                              Ставлю.  предложение   \n",
              "2                             Нам надо пять поставить.  предложение   \n",
              "3                               Ребят, 2 надо ставить.  предложение   \n",
              "4                  2 надо ставить, у нас ресурсов нет.  предложение   \n",
              "..                                                 ...          ...   \n",
              "261  Смотрим их, да, и наблюдаем за стратегией других.       другое   \n",
              "262  Так, а мне, Варвара, мне надо каждый раз отпра...       другое   \n",
              "263                                              Давай       другое   \n",
              "264                                   Давай, согласна.       другое   \n",
              "265                    Прости, я тебя вообще не слышу.       другое   \n",
              "\n",
              "                                     preprocessed_text  \\\n",
              "0                                     [давать, двойка]   \n",
              "1                                            [ставить]   \n",
              "2                                    [пять, поставить]   \n",
              "3                                 [ребята, 2, ставить]   \n",
              "4                                 [2, ставить, ресурс]   \n",
              "..                                                 ...   \n",
              "261                   [смотреть, наблюдать, стратегия]   \n",
              "262  [варвар, каждый, отправить, ещё, ответ, следую...   \n",
              "263                                           [давать]   \n",
              "264                                [давать, согласный]   \n",
              "265                        [простить, вообще, слышать]   \n",
              "\n",
              "                                            embeddings  \n",
              "0    [[-0.20394225, -0.5428032, 0.17268088, -0.5472...  \n",
              "1    [[-0.56923324, -0.3954833, -0.06762549, 0.0721...  \n",
              "2    [[0.1683296, -0.4029474, -0.67731494, 0.000809...  \n",
              "3    [[0.56820583, 0.046246283, -0.28193244, 0.5412...  \n",
              "4    [[0.21431214, 0.37028718, 0.13679631, -0.18653...  \n",
              "..                                                 ...  \n",
              "261  [[0.36390617, -0.5678413, -0.24011786, 0.23606...  \n",
              "262  [[-0.55413014, -0.12571354, 0.102926634, 0.271...  \n",
              "263  [[-0.20394225, -0.5428032, 0.17268088, -0.5472...  \n",
              "264  [[-0.20394225, -0.5428032, 0.17268088, -0.5472...  \n",
              "265  [[-0.027328521, -0.1946206, -0.1695102, -0.384...  \n",
              "\n",
              "[266 rows x 4 columns]"
            ],
            "text/html": [
              "\n",
              "  <div id=\"df-6dd68bd6-df15-496d-b7c7-cd0a3e378b09\" class=\"colab-df-container\">\n",
              "    <div>\n",
              "<style scoped>\n",
              "    .dataframe tbody tr th:only-of-type {\n",
              "        vertical-align: middle;\n",
              "    }\n",
              "\n",
              "    .dataframe tbody tr th {\n",
              "        vertical-align: top;\n",
              "    }\n",
              "\n",
              "    .dataframe thead th {\n",
              "        text-align: right;\n",
              "    }\n",
              "</style>\n",
              "<table border=\"1\" class=\"dataframe\">\n",
              "  <thead>\n",
              "    <tr style=\"text-align: right;\">\n",
              "      <th></th>\n",
              "      <th>text</th>\n",
              "      <th>category</th>\n",
              "      <th>preprocessed_text</th>\n",
              "      <th>embeddings</th>\n",
              "    </tr>\n",
              "  </thead>\n",
              "  <tbody>\n",
              "    <tr>\n",
              "      <th>0</th>\n",
              "      <td>Давайте двойку.</td>\n",
              "      <td>предложение</td>\n",
              "      <td>[давать, двойка]</td>\n",
              "      <td>[[-0.20394225, -0.5428032, 0.17268088, -0.5472...</td>\n",
              "    </tr>\n",
              "    <tr>\n",
              "      <th>1</th>\n",
              "      <td>Ставлю.</td>\n",
              "      <td>предложение</td>\n",
              "      <td>[ставить]</td>\n",
              "      <td>[[-0.56923324, -0.3954833, -0.06762549, 0.0721...</td>\n",
              "    </tr>\n",
              "    <tr>\n",
              "      <th>2</th>\n",
              "      <td>Нам надо пять поставить.</td>\n",
              "      <td>предложение</td>\n",
              "      <td>[пять, поставить]</td>\n",
              "      <td>[[0.1683296, -0.4029474, -0.67731494, 0.000809...</td>\n",
              "    </tr>\n",
              "    <tr>\n",
              "      <th>3</th>\n",
              "      <td>Ребят, 2 надо ставить.</td>\n",
              "      <td>предложение</td>\n",
              "      <td>[ребята, 2, ставить]</td>\n",
              "      <td>[[0.56820583, 0.046246283, -0.28193244, 0.5412...</td>\n",
              "    </tr>\n",
              "    <tr>\n",
              "      <th>4</th>\n",
              "      <td>2 надо ставить, у нас ресурсов нет.</td>\n",
              "      <td>предложение</td>\n",
              "      <td>[2, ставить, ресурс]</td>\n",
              "      <td>[[0.21431214, 0.37028718, 0.13679631, -0.18653...</td>\n",
              "    </tr>\n",
              "    <tr>\n",
              "      <th>...</th>\n",
              "      <td>...</td>\n",
              "      <td>...</td>\n",
              "      <td>...</td>\n",
              "      <td>...</td>\n",
              "    </tr>\n",
              "    <tr>\n",
              "      <th>261</th>\n",
              "      <td>Смотрим их, да, и наблюдаем за стратегией других.</td>\n",
              "      <td>другое</td>\n",
              "      <td>[смотреть, наблюдать, стратегия]</td>\n",
              "      <td>[[0.36390617, -0.5678413, -0.24011786, 0.23606...</td>\n",
              "    </tr>\n",
              "    <tr>\n",
              "      <th>262</th>\n",
              "      <td>Так, а мне, Варвара, мне надо каждый раз отпра...</td>\n",
              "      <td>другое</td>\n",
              "      <td>[варвар, каждый, отправить, ещё, ответ, следую...</td>\n",
              "      <td>[[-0.55413014, -0.12571354, 0.102926634, 0.271...</td>\n",
              "    </tr>\n",
              "    <tr>\n",
              "      <th>263</th>\n",
              "      <td>Давай</td>\n",
              "      <td>другое</td>\n",
              "      <td>[давать]</td>\n",
              "      <td>[[-0.20394225, -0.5428032, 0.17268088, -0.5472...</td>\n",
              "    </tr>\n",
              "    <tr>\n",
              "      <th>264</th>\n",
              "      <td>Давай, согласна.</td>\n",
              "      <td>другое</td>\n",
              "      <td>[давать, согласный]</td>\n",
              "      <td>[[-0.20394225, -0.5428032, 0.17268088, -0.5472...</td>\n",
              "    </tr>\n",
              "    <tr>\n",
              "      <th>265</th>\n",
              "      <td>Прости, я тебя вообще не слышу.</td>\n",
              "      <td>другое</td>\n",
              "      <td>[простить, вообще, слышать]</td>\n",
              "      <td>[[-0.027328521, -0.1946206, -0.1695102, -0.384...</td>\n",
              "    </tr>\n",
              "  </tbody>\n",
              "</table>\n",
              "<p>266 rows × 4 columns</p>\n",
              "</div>\n",
              "    <div class=\"colab-df-buttons\">\n",
              "\n",
              "  <div class=\"colab-df-container\">\n",
              "    <button class=\"colab-df-convert\" onclick=\"convertToInteractive('df-6dd68bd6-df15-496d-b7c7-cd0a3e378b09')\"\n",
              "            title=\"Convert this dataframe to an interactive table.\"\n",
              "            style=\"display:none;\">\n",
              "\n",
              "  <svg xmlns=\"http://www.w3.org/2000/svg\" height=\"24px\" viewBox=\"0 -960 960 960\">\n",
              "    <path d=\"M120-120v-720h720v720H120Zm60-500h600v-160H180v160Zm220 220h160v-160H400v160Zm0 220h160v-160H400v160ZM180-400h160v-160H180v160Zm440 0h160v-160H620v160ZM180-180h160v-160H180v160Zm440 0h160v-160H620v160Z\"/>\n",
              "  </svg>\n",
              "    </button>\n",
              "\n",
              "  <style>\n",
              "    .colab-df-container {\n",
              "      display:flex;\n",
              "      gap: 12px;\n",
              "    }\n",
              "\n",
              "    .colab-df-convert {\n",
              "      background-color: #E8F0FE;\n",
              "      border: none;\n",
              "      border-radius: 50%;\n",
              "      cursor: pointer;\n",
              "      display: none;\n",
              "      fill: #1967D2;\n",
              "      height: 32px;\n",
              "      padding: 0 0 0 0;\n",
              "      width: 32px;\n",
              "    }\n",
              "\n",
              "    .colab-df-convert:hover {\n",
              "      background-color: #E2EBFA;\n",
              "      box-shadow: 0px 1px 2px rgba(60, 64, 67, 0.3), 0px 1px 3px 1px rgba(60, 64, 67, 0.15);\n",
              "      fill: #174EA6;\n",
              "    }\n",
              "\n",
              "    .colab-df-buttons div {\n",
              "      margin-bottom: 4px;\n",
              "    }\n",
              "\n",
              "    [theme=dark] .colab-df-convert {\n",
              "      background-color: #3B4455;\n",
              "      fill: #D2E3FC;\n",
              "    }\n",
              "\n",
              "    [theme=dark] .colab-df-convert:hover {\n",
              "      background-color: #434B5C;\n",
              "      box-shadow: 0px 1px 3px 1px rgba(0, 0, 0, 0.15);\n",
              "      filter: drop-shadow(0px 1px 2px rgba(0, 0, 0, 0.3));\n",
              "      fill: #FFFFFF;\n",
              "    }\n",
              "  </style>\n",
              "\n",
              "    <script>\n",
              "      const buttonEl =\n",
              "        document.querySelector('#df-6dd68bd6-df15-496d-b7c7-cd0a3e378b09 button.colab-df-convert');\n",
              "      buttonEl.style.display =\n",
              "        google.colab.kernel.accessAllowed ? 'block' : 'none';\n",
              "\n",
              "      async function convertToInteractive(key) {\n",
              "        const element = document.querySelector('#df-6dd68bd6-df15-496d-b7c7-cd0a3e378b09');\n",
              "        const dataTable =\n",
              "          await google.colab.kernel.invokeFunction('convertToInteractive',\n",
              "                                                    [key], {});\n",
              "        if (!dataTable) return;\n",
              "\n",
              "        const docLinkHtml = 'Like what you see? Visit the ' +\n",
              "          '<a target=\"_blank\" href=https://colab.research.google.com/notebooks/data_table.ipynb>data table notebook</a>'\n",
              "          + ' to learn more about interactive tables.';\n",
              "        element.innerHTML = '';\n",
              "        dataTable['output_type'] = 'display_data';\n",
              "        await google.colab.output.renderOutput(dataTable, element);\n",
              "        const docLink = document.createElement('div');\n",
              "        docLink.innerHTML = docLinkHtml;\n",
              "        element.appendChild(docLink);\n",
              "      }\n",
              "    </script>\n",
              "  </div>\n",
              "\n",
              "\n",
              "<div id=\"df-24103b30-23a3-4200-a002-00cd527f7c32\">\n",
              "  <button class=\"colab-df-quickchart\" onclick=\"quickchart('df-24103b30-23a3-4200-a002-00cd527f7c32')\"\n",
              "            title=\"Suggest charts\"\n",
              "            style=\"display:none;\">\n",
              "\n",
              "<svg xmlns=\"http://www.w3.org/2000/svg\" height=\"24px\"viewBox=\"0 0 24 24\"\n",
              "     width=\"24px\">\n",
              "    <g>\n",
              "        <path d=\"M19 3H5c-1.1 0-2 .9-2 2v14c0 1.1.9 2 2 2h14c1.1 0 2-.9 2-2V5c0-1.1-.9-2-2-2zM9 17H7v-7h2v7zm4 0h-2V7h2v10zm4 0h-2v-4h2v4z\"/>\n",
              "    </g>\n",
              "</svg>\n",
              "  </button>\n",
              "\n",
              "<style>\n",
              "  .colab-df-quickchart {\n",
              "      --bg-color: #E8F0FE;\n",
              "      --fill-color: #1967D2;\n",
              "      --hover-bg-color: #E2EBFA;\n",
              "      --hover-fill-color: #174EA6;\n",
              "      --disabled-fill-color: #AAA;\n",
              "      --disabled-bg-color: #DDD;\n",
              "  }\n",
              "\n",
              "  [theme=dark] .colab-df-quickchart {\n",
              "      --bg-color: #3B4455;\n",
              "      --fill-color: #D2E3FC;\n",
              "      --hover-bg-color: #434B5C;\n",
              "      --hover-fill-color: #FFFFFF;\n",
              "      --disabled-bg-color: #3B4455;\n",
              "      --disabled-fill-color: #666;\n",
              "  }\n",
              "\n",
              "  .colab-df-quickchart {\n",
              "    background-color: var(--bg-color);\n",
              "    border: none;\n",
              "    border-radius: 50%;\n",
              "    cursor: pointer;\n",
              "    display: none;\n",
              "    fill: var(--fill-color);\n",
              "    height: 32px;\n",
              "    padding: 0;\n",
              "    width: 32px;\n",
              "  }\n",
              "\n",
              "  .colab-df-quickchart:hover {\n",
              "    background-color: var(--hover-bg-color);\n",
              "    box-shadow: 0 1px 2px rgba(60, 64, 67, 0.3), 0 1px 3px 1px rgba(60, 64, 67, 0.15);\n",
              "    fill: var(--button-hover-fill-color);\n",
              "  }\n",
              "\n",
              "  .colab-df-quickchart-complete:disabled,\n",
              "  .colab-df-quickchart-complete:disabled:hover {\n",
              "    background-color: var(--disabled-bg-color);\n",
              "    fill: var(--disabled-fill-color);\n",
              "    box-shadow: none;\n",
              "  }\n",
              "\n",
              "  .colab-df-spinner {\n",
              "    border: 2px solid var(--fill-color);\n",
              "    border-color: transparent;\n",
              "    border-bottom-color: var(--fill-color);\n",
              "    animation:\n",
              "      spin 1s steps(1) infinite;\n",
              "  }\n",
              "\n",
              "  @keyframes spin {\n",
              "    0% {\n",
              "      border-color: transparent;\n",
              "      border-bottom-color: var(--fill-color);\n",
              "      border-left-color: var(--fill-color);\n",
              "    }\n",
              "    20% {\n",
              "      border-color: transparent;\n",
              "      border-left-color: var(--fill-color);\n",
              "      border-top-color: var(--fill-color);\n",
              "    }\n",
              "    30% {\n",
              "      border-color: transparent;\n",
              "      border-left-color: var(--fill-color);\n",
              "      border-top-color: var(--fill-color);\n",
              "      border-right-color: var(--fill-color);\n",
              "    }\n",
              "    40% {\n",
              "      border-color: transparent;\n",
              "      border-right-color: var(--fill-color);\n",
              "      border-top-color: var(--fill-color);\n",
              "    }\n",
              "    60% {\n",
              "      border-color: transparent;\n",
              "      border-right-color: var(--fill-color);\n",
              "    }\n",
              "    80% {\n",
              "      border-color: transparent;\n",
              "      border-right-color: var(--fill-color);\n",
              "      border-bottom-color: var(--fill-color);\n",
              "    }\n",
              "    90% {\n",
              "      border-color: transparent;\n",
              "      border-bottom-color: var(--fill-color);\n",
              "    }\n",
              "  }\n",
              "</style>\n",
              "\n",
              "  <script>\n",
              "    async function quickchart(key) {\n",
              "      const quickchartButtonEl =\n",
              "        document.querySelector('#' + key + ' button');\n",
              "      quickchartButtonEl.disabled = true;  // To prevent multiple clicks.\n",
              "      quickchartButtonEl.classList.add('colab-df-spinner');\n",
              "      try {\n",
              "        const charts = await google.colab.kernel.invokeFunction(\n",
              "            'suggestCharts', [key], {});\n",
              "      } catch (error) {\n",
              "        console.error('Error during call to suggestCharts:', error);\n",
              "      }\n",
              "      quickchartButtonEl.classList.remove('colab-df-spinner');\n",
              "      quickchartButtonEl.classList.add('colab-df-quickchart-complete');\n",
              "    }\n",
              "    (() => {\n",
              "      let quickchartButtonEl =\n",
              "        document.querySelector('#df-24103b30-23a3-4200-a002-00cd527f7c32 button');\n",
              "      quickchartButtonEl.style.display =\n",
              "        google.colab.kernel.accessAllowed ? 'block' : 'none';\n",
              "    })();\n",
              "  </script>\n",
              "</div>\n",
              "    </div>\n",
              "  </div>\n"
            ],
            "application/vnd.google.colaboratory.intrinsic+json": {
              "type": "dataframe",
              "variable_name": "dataframe",
              "summary": "{\n  \"name\": \"dataframe\",\n  \"rows\": 266,\n  \"fields\": [\n    {\n      \"column\": \"text\",\n      \"properties\": {\n        \"dtype\": \"string\",\n        \"num_unique_values\": 264,\n        \"samples\": [\n          \"\\u041d\\u0438\\u0447\\u0435\\u0433\\u043e, \\u043c\\u043e\\u0436\\u043d\\u043e \\u043d\\u0430 \\u0435\\u0435 \\u043d\\u0430\\u0431\\u043e\\u0440\\u043a\\u0443 \\u0432\\u043e\\u0437\\u0432\\u0440\\u0430\\u0449\\u0430\\u0442\\u044c\\u0441\\u044f.\",\n          \"\\u041d\\u043e \\u043e\\u043d\\u0438 \\u043c\\u043e\\u0433\\u0443\\u0442 \\u0441\\u0435\\u0439\\u0447\\u0430\\u0441 \\u0441\\u0442\\u0440\\u0430\\u0442\\u0435\\u0433\\u0438\\u044e \\u043f\\u043e\\u043c\\u0435\\u043d\\u044f\\u0442\\u044c.\",\n          \"\\u0414\\u0430, \\u0434\\u0430\\u0432\\u0430\\u0439\\u0442\\u0435 \\u043f\\u043e\\u0441\\u0442\\u0430\\u0432\\u0438\\u043c. \\u041d\\u043e \\u043e\\u043d\\u0438 \\u0432\\u044b\\u0438\\u0433\\u0440\\u0430\\u044e\\u0442. \\u041e\\u043d\\u0438 \\u043c\\u043e\\u0433\\u0443\\u0442 \\u0432\\u044b\\u0438\\u0433\\u0440\\u0430\\u0442\\u044c.\"\n        ],\n        \"semantic_type\": \"\",\n        \"description\": \"\"\n      }\n    },\n    {\n      \"column\": \"category\",\n      \"properties\": {\n        \"dtype\": \"category\",\n        \"num_unique_values\": 2,\n        \"samples\": [\n          \"\\u0434\\u0440\\u0443\\u0433\\u043e\\u0435\",\n          \"\\u043f\\u0440\\u0435\\u0434\\u043b\\u043e\\u0436\\u0435\\u043d\\u0438\\u0435\"\n        ],\n        \"semantic_type\": \"\",\n        \"description\": \"\"\n      }\n    },\n    {\n      \"column\": \"preprocessed_text\",\n      \"properties\": {\n        \"dtype\": \"object\",\n        \"semantic_type\": \"\",\n        \"description\": \"\"\n      }\n    },\n    {\n      \"column\": \"embeddings\",\n      \"properties\": {\n        \"dtype\": \"object\",\n        \"semantic_type\": \"\",\n        \"description\": \"\"\n      }\n    }\n  ]\n}"
            }
          },
          "metadata": {},
          "execution_count": 125
        }
      ]
    },
    {
      "cell_type": "markdown",
      "source": [
        "## Готовим данные для обучения"
      ],
      "metadata": {
        "id": "vg8NGd0MjcLt"
      }
    },
    {
      "cell_type": "markdown",
      "source": [
        "Преобразуем текстовые метки классов в числовые"
      ],
      "metadata": {
        "id": "fc-n-9lzjfse"
      }
    },
    {
      "cell_type": "code",
      "source": [
        "labels = {'предложение': 1, 'другое': 0}"
      ],
      "metadata": {
        "id": "lgEHYeyAjgO1"
      },
      "execution_count": null,
      "outputs": []
    },
    {
      "cell_type": "code",
      "source": [
        "dataframe.replace({'category': labels}, inplace=True)"
      ],
      "metadata": {
        "id": "QVtcp8DJjuUV"
      },
      "execution_count": null,
      "outputs": []
    },
    {
      "cell_type": "code",
      "source": [
        "dataframe"
      ],
      "metadata": {
        "colab": {
          "base_uri": "https://localhost:8080/",
          "height": 597
        },
        "id": "IHu773mCj3mk",
        "outputId": "8381faf6-c1b2-4692-8212-fcf1a215e85b"
      },
      "execution_count": null,
      "outputs": [
        {
          "output_type": "execute_result",
          "data": {
            "text/plain": [
              "                                                  text  category  \\\n",
              "0                                      Давайте двойку.         1   \n",
              "1                                              Ставлю.         1   \n",
              "2                             Нам надо пять поставить.         1   \n",
              "3                               Ребят, 2 надо ставить.         1   \n",
              "4                  2 надо ставить, у нас ресурсов нет.         1   \n",
              "..                                                 ...       ...   \n",
              "261  Смотрим их, да, и наблюдаем за стратегией других.         0   \n",
              "262  Так, а мне, Варвара, мне надо каждый раз отпра...         0   \n",
              "263                                              Давай         0   \n",
              "264                                   Давай, согласна.         0   \n",
              "265                    Прости, я тебя вообще не слышу.         0   \n",
              "\n",
              "                                     preprocessed_text  \\\n",
              "0                                     [давать, двойка]   \n",
              "1                                            [ставить]   \n",
              "2                                    [пять, поставить]   \n",
              "3                                 [ребята, 2, ставить]   \n",
              "4                                 [2, ставить, ресурс]   \n",
              "..                                                 ...   \n",
              "261                   [смотреть, наблюдать, стратегия]   \n",
              "262  [варвар, каждый, отправить, ещё, ответ, следую...   \n",
              "263                                           [давать]   \n",
              "264                                [давать, согласный]   \n",
              "265                        [простить, вообще, слышать]   \n",
              "\n",
              "                                            embeddings  \n",
              "0    [[-0.20394225, -0.5428032, 0.17268088, -0.5472...  \n",
              "1    [[-0.56923324, -0.3954833, -0.06762549, 0.0721...  \n",
              "2    [[0.1683296, -0.4029474, -0.67731494, 0.000809...  \n",
              "3    [[0.56820583, 0.046246283, -0.28193244, 0.5412...  \n",
              "4    [[0.21431214, 0.37028718, 0.13679631, -0.18653...  \n",
              "..                                                 ...  \n",
              "261  [[0.36390617, -0.5678413, -0.24011786, 0.23606...  \n",
              "262  [[-0.55413014, -0.12571354, 0.102926634, 0.271...  \n",
              "263  [[-0.20394225, -0.5428032, 0.17268088, -0.5472...  \n",
              "264  [[-0.20394225, -0.5428032, 0.17268088, -0.5472...  \n",
              "265  [[-0.027328521, -0.1946206, -0.1695102, -0.384...  \n",
              "\n",
              "[266 rows x 4 columns]"
            ],
            "text/html": [
              "\n",
              "  <div id=\"df-24b93ec4-1782-4696-b5fe-a1c5b044ed1a\" class=\"colab-df-container\">\n",
              "    <div>\n",
              "<style scoped>\n",
              "    .dataframe tbody tr th:only-of-type {\n",
              "        vertical-align: middle;\n",
              "    }\n",
              "\n",
              "    .dataframe tbody tr th {\n",
              "        vertical-align: top;\n",
              "    }\n",
              "\n",
              "    .dataframe thead th {\n",
              "        text-align: right;\n",
              "    }\n",
              "</style>\n",
              "<table border=\"1\" class=\"dataframe\">\n",
              "  <thead>\n",
              "    <tr style=\"text-align: right;\">\n",
              "      <th></th>\n",
              "      <th>text</th>\n",
              "      <th>category</th>\n",
              "      <th>preprocessed_text</th>\n",
              "      <th>embeddings</th>\n",
              "    </tr>\n",
              "  </thead>\n",
              "  <tbody>\n",
              "    <tr>\n",
              "      <th>0</th>\n",
              "      <td>Давайте двойку.</td>\n",
              "      <td>1</td>\n",
              "      <td>[давать, двойка]</td>\n",
              "      <td>[[-0.20394225, -0.5428032, 0.17268088, -0.5472...</td>\n",
              "    </tr>\n",
              "    <tr>\n",
              "      <th>1</th>\n",
              "      <td>Ставлю.</td>\n",
              "      <td>1</td>\n",
              "      <td>[ставить]</td>\n",
              "      <td>[[-0.56923324, -0.3954833, -0.06762549, 0.0721...</td>\n",
              "    </tr>\n",
              "    <tr>\n",
              "      <th>2</th>\n",
              "      <td>Нам надо пять поставить.</td>\n",
              "      <td>1</td>\n",
              "      <td>[пять, поставить]</td>\n",
              "      <td>[[0.1683296, -0.4029474, -0.67731494, 0.000809...</td>\n",
              "    </tr>\n",
              "    <tr>\n",
              "      <th>3</th>\n",
              "      <td>Ребят, 2 надо ставить.</td>\n",
              "      <td>1</td>\n",
              "      <td>[ребята, 2, ставить]</td>\n",
              "      <td>[[0.56820583, 0.046246283, -0.28193244, 0.5412...</td>\n",
              "    </tr>\n",
              "    <tr>\n",
              "      <th>4</th>\n",
              "      <td>2 надо ставить, у нас ресурсов нет.</td>\n",
              "      <td>1</td>\n",
              "      <td>[2, ставить, ресурс]</td>\n",
              "      <td>[[0.21431214, 0.37028718, 0.13679631, -0.18653...</td>\n",
              "    </tr>\n",
              "    <tr>\n",
              "      <th>...</th>\n",
              "      <td>...</td>\n",
              "      <td>...</td>\n",
              "      <td>...</td>\n",
              "      <td>...</td>\n",
              "    </tr>\n",
              "    <tr>\n",
              "      <th>261</th>\n",
              "      <td>Смотрим их, да, и наблюдаем за стратегией других.</td>\n",
              "      <td>0</td>\n",
              "      <td>[смотреть, наблюдать, стратегия]</td>\n",
              "      <td>[[0.36390617, -0.5678413, -0.24011786, 0.23606...</td>\n",
              "    </tr>\n",
              "    <tr>\n",
              "      <th>262</th>\n",
              "      <td>Так, а мне, Варвара, мне надо каждый раз отпра...</td>\n",
              "      <td>0</td>\n",
              "      <td>[варвар, каждый, отправить, ещё, ответ, следую...</td>\n",
              "      <td>[[-0.55413014, -0.12571354, 0.102926634, 0.271...</td>\n",
              "    </tr>\n",
              "    <tr>\n",
              "      <th>263</th>\n",
              "      <td>Давай</td>\n",
              "      <td>0</td>\n",
              "      <td>[давать]</td>\n",
              "      <td>[[-0.20394225, -0.5428032, 0.17268088, -0.5472...</td>\n",
              "    </tr>\n",
              "    <tr>\n",
              "      <th>264</th>\n",
              "      <td>Давай, согласна.</td>\n",
              "      <td>0</td>\n",
              "      <td>[давать, согласный]</td>\n",
              "      <td>[[-0.20394225, -0.5428032, 0.17268088, -0.5472...</td>\n",
              "    </tr>\n",
              "    <tr>\n",
              "      <th>265</th>\n",
              "      <td>Прости, я тебя вообще не слышу.</td>\n",
              "      <td>0</td>\n",
              "      <td>[простить, вообще, слышать]</td>\n",
              "      <td>[[-0.027328521, -0.1946206, -0.1695102, -0.384...</td>\n",
              "    </tr>\n",
              "  </tbody>\n",
              "</table>\n",
              "<p>266 rows × 4 columns</p>\n",
              "</div>\n",
              "    <div class=\"colab-df-buttons\">\n",
              "\n",
              "  <div class=\"colab-df-container\">\n",
              "    <button class=\"colab-df-convert\" onclick=\"convertToInteractive('df-24b93ec4-1782-4696-b5fe-a1c5b044ed1a')\"\n",
              "            title=\"Convert this dataframe to an interactive table.\"\n",
              "            style=\"display:none;\">\n",
              "\n",
              "  <svg xmlns=\"http://www.w3.org/2000/svg\" height=\"24px\" viewBox=\"0 -960 960 960\">\n",
              "    <path d=\"M120-120v-720h720v720H120Zm60-500h600v-160H180v160Zm220 220h160v-160H400v160Zm0 220h160v-160H400v160ZM180-400h160v-160H180v160Zm440 0h160v-160H620v160ZM180-180h160v-160H180v160Zm440 0h160v-160H620v160Z\"/>\n",
              "  </svg>\n",
              "    </button>\n",
              "\n",
              "  <style>\n",
              "    .colab-df-container {\n",
              "      display:flex;\n",
              "      gap: 12px;\n",
              "    }\n",
              "\n",
              "    .colab-df-convert {\n",
              "      background-color: #E8F0FE;\n",
              "      border: none;\n",
              "      border-radius: 50%;\n",
              "      cursor: pointer;\n",
              "      display: none;\n",
              "      fill: #1967D2;\n",
              "      height: 32px;\n",
              "      padding: 0 0 0 0;\n",
              "      width: 32px;\n",
              "    }\n",
              "\n",
              "    .colab-df-convert:hover {\n",
              "      background-color: #E2EBFA;\n",
              "      box-shadow: 0px 1px 2px rgba(60, 64, 67, 0.3), 0px 1px 3px 1px rgba(60, 64, 67, 0.15);\n",
              "      fill: #174EA6;\n",
              "    }\n",
              "\n",
              "    .colab-df-buttons div {\n",
              "      margin-bottom: 4px;\n",
              "    }\n",
              "\n",
              "    [theme=dark] .colab-df-convert {\n",
              "      background-color: #3B4455;\n",
              "      fill: #D2E3FC;\n",
              "    }\n",
              "\n",
              "    [theme=dark] .colab-df-convert:hover {\n",
              "      background-color: #434B5C;\n",
              "      box-shadow: 0px 1px 3px 1px rgba(0, 0, 0, 0.15);\n",
              "      filter: drop-shadow(0px 1px 2px rgba(0, 0, 0, 0.3));\n",
              "      fill: #FFFFFF;\n",
              "    }\n",
              "  </style>\n",
              "\n",
              "    <script>\n",
              "      const buttonEl =\n",
              "        document.querySelector('#df-24b93ec4-1782-4696-b5fe-a1c5b044ed1a button.colab-df-convert');\n",
              "      buttonEl.style.display =\n",
              "        google.colab.kernel.accessAllowed ? 'block' : 'none';\n",
              "\n",
              "      async function convertToInteractive(key) {\n",
              "        const element = document.querySelector('#df-24b93ec4-1782-4696-b5fe-a1c5b044ed1a');\n",
              "        const dataTable =\n",
              "          await google.colab.kernel.invokeFunction('convertToInteractive',\n",
              "                                                    [key], {});\n",
              "        if (!dataTable) return;\n",
              "\n",
              "        const docLinkHtml = 'Like what you see? Visit the ' +\n",
              "          '<a target=\"_blank\" href=https://colab.research.google.com/notebooks/data_table.ipynb>data table notebook</a>'\n",
              "          + ' to learn more about interactive tables.';\n",
              "        element.innerHTML = '';\n",
              "        dataTable['output_type'] = 'display_data';\n",
              "        await google.colab.output.renderOutput(dataTable, element);\n",
              "        const docLink = document.createElement('div');\n",
              "        docLink.innerHTML = docLinkHtml;\n",
              "        element.appendChild(docLink);\n",
              "      }\n",
              "    </script>\n",
              "  </div>\n",
              "\n",
              "\n",
              "<div id=\"df-c59309ac-55bc-4f90-8c05-d6b3174621d0\">\n",
              "  <button class=\"colab-df-quickchart\" onclick=\"quickchart('df-c59309ac-55bc-4f90-8c05-d6b3174621d0')\"\n",
              "            title=\"Suggest charts\"\n",
              "            style=\"display:none;\">\n",
              "\n",
              "<svg xmlns=\"http://www.w3.org/2000/svg\" height=\"24px\"viewBox=\"0 0 24 24\"\n",
              "     width=\"24px\">\n",
              "    <g>\n",
              "        <path d=\"M19 3H5c-1.1 0-2 .9-2 2v14c0 1.1.9 2 2 2h14c1.1 0 2-.9 2-2V5c0-1.1-.9-2-2-2zM9 17H7v-7h2v7zm4 0h-2V7h2v10zm4 0h-2v-4h2v4z\"/>\n",
              "    </g>\n",
              "</svg>\n",
              "  </button>\n",
              "\n",
              "<style>\n",
              "  .colab-df-quickchart {\n",
              "      --bg-color: #E8F0FE;\n",
              "      --fill-color: #1967D2;\n",
              "      --hover-bg-color: #E2EBFA;\n",
              "      --hover-fill-color: #174EA6;\n",
              "      --disabled-fill-color: #AAA;\n",
              "      --disabled-bg-color: #DDD;\n",
              "  }\n",
              "\n",
              "  [theme=dark] .colab-df-quickchart {\n",
              "      --bg-color: #3B4455;\n",
              "      --fill-color: #D2E3FC;\n",
              "      --hover-bg-color: #434B5C;\n",
              "      --hover-fill-color: #FFFFFF;\n",
              "      --disabled-bg-color: #3B4455;\n",
              "      --disabled-fill-color: #666;\n",
              "  }\n",
              "\n",
              "  .colab-df-quickchart {\n",
              "    background-color: var(--bg-color);\n",
              "    border: none;\n",
              "    border-radius: 50%;\n",
              "    cursor: pointer;\n",
              "    display: none;\n",
              "    fill: var(--fill-color);\n",
              "    height: 32px;\n",
              "    padding: 0;\n",
              "    width: 32px;\n",
              "  }\n",
              "\n",
              "  .colab-df-quickchart:hover {\n",
              "    background-color: var(--hover-bg-color);\n",
              "    box-shadow: 0 1px 2px rgba(60, 64, 67, 0.3), 0 1px 3px 1px rgba(60, 64, 67, 0.15);\n",
              "    fill: var(--button-hover-fill-color);\n",
              "  }\n",
              "\n",
              "  .colab-df-quickchart-complete:disabled,\n",
              "  .colab-df-quickchart-complete:disabled:hover {\n",
              "    background-color: var(--disabled-bg-color);\n",
              "    fill: var(--disabled-fill-color);\n",
              "    box-shadow: none;\n",
              "  }\n",
              "\n",
              "  .colab-df-spinner {\n",
              "    border: 2px solid var(--fill-color);\n",
              "    border-color: transparent;\n",
              "    border-bottom-color: var(--fill-color);\n",
              "    animation:\n",
              "      spin 1s steps(1) infinite;\n",
              "  }\n",
              "\n",
              "  @keyframes spin {\n",
              "    0% {\n",
              "      border-color: transparent;\n",
              "      border-bottom-color: var(--fill-color);\n",
              "      border-left-color: var(--fill-color);\n",
              "    }\n",
              "    20% {\n",
              "      border-color: transparent;\n",
              "      border-left-color: var(--fill-color);\n",
              "      border-top-color: var(--fill-color);\n",
              "    }\n",
              "    30% {\n",
              "      border-color: transparent;\n",
              "      border-left-color: var(--fill-color);\n",
              "      border-top-color: var(--fill-color);\n",
              "      border-right-color: var(--fill-color);\n",
              "    }\n",
              "    40% {\n",
              "      border-color: transparent;\n",
              "      border-right-color: var(--fill-color);\n",
              "      border-top-color: var(--fill-color);\n",
              "    }\n",
              "    60% {\n",
              "      border-color: transparent;\n",
              "      border-right-color: var(--fill-color);\n",
              "    }\n",
              "    80% {\n",
              "      border-color: transparent;\n",
              "      border-right-color: var(--fill-color);\n",
              "      border-bottom-color: var(--fill-color);\n",
              "    }\n",
              "    90% {\n",
              "      border-color: transparent;\n",
              "      border-bottom-color: var(--fill-color);\n",
              "    }\n",
              "  }\n",
              "</style>\n",
              "\n",
              "  <script>\n",
              "    async function quickchart(key) {\n",
              "      const quickchartButtonEl =\n",
              "        document.querySelector('#' + key + ' button');\n",
              "      quickchartButtonEl.disabled = true;  // To prevent multiple clicks.\n",
              "      quickchartButtonEl.classList.add('colab-df-spinner');\n",
              "      try {\n",
              "        const charts = await google.colab.kernel.invokeFunction(\n",
              "            'suggestCharts', [key], {});\n",
              "      } catch (error) {\n",
              "        console.error('Error during call to suggestCharts:', error);\n",
              "      }\n",
              "      quickchartButtonEl.classList.remove('colab-df-spinner');\n",
              "      quickchartButtonEl.classList.add('colab-df-quickchart-complete');\n",
              "    }\n",
              "    (() => {\n",
              "      let quickchartButtonEl =\n",
              "        document.querySelector('#df-c59309ac-55bc-4f90-8c05-d6b3174621d0 button');\n",
              "      quickchartButtonEl.style.display =\n",
              "        google.colab.kernel.accessAllowed ? 'block' : 'none';\n",
              "    })();\n",
              "  </script>\n",
              "</div>\n",
              "    </div>\n",
              "  </div>\n"
            ],
            "application/vnd.google.colaboratory.intrinsic+json": {
              "type": "dataframe",
              "variable_name": "dataframe",
              "summary": "{\n  \"name\": \"dataframe\",\n  \"rows\": 266,\n  \"fields\": [\n    {\n      \"column\": \"text\",\n      \"properties\": {\n        \"dtype\": \"string\",\n        \"num_unique_values\": 264,\n        \"samples\": [\n          \"\\u041d\\u0438\\u0447\\u0435\\u0433\\u043e, \\u043c\\u043e\\u0436\\u043d\\u043e \\u043d\\u0430 \\u0435\\u0435 \\u043d\\u0430\\u0431\\u043e\\u0440\\u043a\\u0443 \\u0432\\u043e\\u0437\\u0432\\u0440\\u0430\\u0449\\u0430\\u0442\\u044c\\u0441\\u044f.\",\n          \"\\u041d\\u043e \\u043e\\u043d\\u0438 \\u043c\\u043e\\u0433\\u0443\\u0442 \\u0441\\u0435\\u0439\\u0447\\u0430\\u0441 \\u0441\\u0442\\u0440\\u0430\\u0442\\u0435\\u0433\\u0438\\u044e \\u043f\\u043e\\u043c\\u0435\\u043d\\u044f\\u0442\\u044c.\",\n          \"\\u0414\\u0430, \\u0434\\u0430\\u0432\\u0430\\u0439\\u0442\\u0435 \\u043f\\u043e\\u0441\\u0442\\u0430\\u0432\\u0438\\u043c. \\u041d\\u043e \\u043e\\u043d\\u0438 \\u0432\\u044b\\u0438\\u0433\\u0440\\u0430\\u044e\\u0442. \\u041e\\u043d\\u0438 \\u043c\\u043e\\u0433\\u0443\\u0442 \\u0432\\u044b\\u0438\\u0433\\u0440\\u0430\\u0442\\u044c.\"\n        ],\n        \"semantic_type\": \"\",\n        \"description\": \"\"\n      }\n    },\n    {\n      \"column\": \"category\",\n      \"properties\": {\n        \"dtype\": \"number\",\n        \"std\": 0,\n        \"min\": 0,\n        \"max\": 1,\n        \"num_unique_values\": 2,\n        \"samples\": [\n          0,\n          1\n        ],\n        \"semantic_type\": \"\",\n        \"description\": \"\"\n      }\n    },\n    {\n      \"column\": \"preprocessed_text\",\n      \"properties\": {\n        \"dtype\": \"object\",\n        \"semantic_type\": \"\",\n        \"description\": \"\"\n      }\n    },\n    {\n      \"column\": \"embeddings\",\n      \"properties\": {\n        \"dtype\": \"object\",\n        \"semantic_type\": \"\",\n        \"description\": \"\"\n      }\n    }\n  ]\n}"
            }
          },
          "metadata": {},
          "execution_count": 128
        }
      ]
    },
    {
      "cell_type": "markdown",
      "source": [
        "### Разделяем метки классов и данные для обучения"
      ],
      "metadata": {
        "id": "EHAEQnxVkK01"
      }
    },
    {
      "cell_type": "markdown",
      "source": [
        "Данные для обучения"
      ],
      "metadata": {
        "id": "OKanjsQjkM-9"
      }
    },
    {
      "cell_type": "code",
      "source": [
        "x_vectors = np.array(dataframe['embeddings'].tolist()).reshape(len(dataframe), vector_size * max_review_len)\n",
        "y_train = dataframe['category']"
      ],
      "metadata": {
        "id": "Hc2yj2ZJkI1V"
      },
      "execution_count": null,
      "outputs": []
    },
    {
      "cell_type": "code",
      "source": [
        "x_vectors.shape"
      ],
      "metadata": {
        "colab": {
          "base_uri": "https://localhost:8080/"
        },
        "id": "D2T-LV1skUl2",
        "outputId": "25d16732-6f81-41d2-f0fd-d2fc86529591"
      },
      "execution_count": null,
      "outputs": [
        {
          "output_type": "execute_result",
          "data": {
            "text/plain": [
              "(266, 15000)"
            ]
          },
          "metadata": {},
          "execution_count": 130
        }
      ]
    },
    {
      "cell_type": "markdown",
      "source": [
        "Данные для тестирования"
      ],
      "metadata": {
        "id": "C2jGF0VgkaGP"
      }
    },
    {
      "cell_type": "code",
      "source": [
        "from sklearn.linear_model import LogisticRegression\n",
        "from sklearn.model_selection import cross_val_score\n",
        "from sklearn.metrics import f1_score, make_scorer\n",
        "\n",
        "# Инициализация модели логистической регрессии\n",
        "lr = LogisticRegression(random_state = random_state)\n",
        "\n",
        "# Создание скорера для f1-score\n",
        "f1_scorer = make_scorer(f1_score)\n",
        "\n",
        "# Выполнение кросс-валидации с вычислением f1-score\n",
        "f1_scores = cross_val_score(lr, x_vectors, y_train, cv=5, scoring=f1_scorer)\n",
        "\n",
        "# Вывод результатов\n",
        "print(\"Средний F1-счет: %0.2f (+/- %0.2f)\" % (f1_scores.mean(), f1_scores.std() * 2))\n"
      ],
      "metadata": {
        "colab": {
          "base_uri": "https://localhost:8080/"
        },
        "id": "-UUsWNMS2LKX",
        "outputId": "ce1d3847-816a-471a-fb6a-9109d9ce0ce2"
      },
      "execution_count": null,
      "outputs": [
        {
          "output_type": "stream",
          "name": "stdout",
          "text": [
            "Средний F1-счет: 0.63 (+/- 0.19)\n"
          ]
        }
      ]
    },
    {
      "cell_type": "markdown",
      "source": [
        "## Создаем и обучаем модель машинного обучения"
      ],
      "metadata": {
        "id": "dBe0o4MJklxe"
      }
    },
    {
      "cell_type": "code",
      "source": [
        "lr.fit(x_vectors, y_train)"
      ],
      "metadata": {
        "colab": {
          "base_uri": "https://localhost:8080/",
          "height": 74
        },
        "id": "WpONzDRvksPY",
        "outputId": "ced84aa3-a8b7-430e-adeb-c04e053a10ef"
      },
      "execution_count": null,
      "outputs": [
        {
          "output_type": "execute_result",
          "data": {
            "text/plain": [
              "LogisticRegression(random_state=42)"
            ],
            "text/html": [
              "<style>#sk-container-id-2 {color: black;background-color: white;}#sk-container-id-2 pre{padding: 0;}#sk-container-id-2 div.sk-toggleable {background-color: white;}#sk-container-id-2 label.sk-toggleable__label {cursor: pointer;display: block;width: 100%;margin-bottom: 0;padding: 0.3em;box-sizing: border-box;text-align: center;}#sk-container-id-2 label.sk-toggleable__label-arrow:before {content: \"▸\";float: left;margin-right: 0.25em;color: #696969;}#sk-container-id-2 label.sk-toggleable__label-arrow:hover:before {color: black;}#sk-container-id-2 div.sk-estimator:hover label.sk-toggleable__label-arrow:before {color: black;}#sk-container-id-2 div.sk-toggleable__content {max-height: 0;max-width: 0;overflow: hidden;text-align: left;background-color: #f0f8ff;}#sk-container-id-2 div.sk-toggleable__content pre {margin: 0.2em;color: black;border-radius: 0.25em;background-color: #f0f8ff;}#sk-container-id-2 input.sk-toggleable__control:checked~div.sk-toggleable__content {max-height: 200px;max-width: 100%;overflow: auto;}#sk-container-id-2 input.sk-toggleable__control:checked~label.sk-toggleable__label-arrow:before {content: \"▾\";}#sk-container-id-2 div.sk-estimator input.sk-toggleable__control:checked~label.sk-toggleable__label {background-color: #d4ebff;}#sk-container-id-2 div.sk-label input.sk-toggleable__control:checked~label.sk-toggleable__label {background-color: #d4ebff;}#sk-container-id-2 input.sk-hidden--visually {border: 0;clip: rect(1px 1px 1px 1px);clip: rect(1px, 1px, 1px, 1px);height: 1px;margin: -1px;overflow: hidden;padding: 0;position: absolute;width: 1px;}#sk-container-id-2 div.sk-estimator {font-family: monospace;background-color: #f0f8ff;border: 1px dotted black;border-radius: 0.25em;box-sizing: border-box;margin-bottom: 0.5em;}#sk-container-id-2 div.sk-estimator:hover {background-color: #d4ebff;}#sk-container-id-2 div.sk-parallel-item::after {content: \"\";width: 100%;border-bottom: 1px solid gray;flex-grow: 1;}#sk-container-id-2 div.sk-label:hover label.sk-toggleable__label {background-color: #d4ebff;}#sk-container-id-2 div.sk-serial::before {content: \"\";position: absolute;border-left: 1px solid gray;box-sizing: border-box;top: 0;bottom: 0;left: 50%;z-index: 0;}#sk-container-id-2 div.sk-serial {display: flex;flex-direction: column;align-items: center;background-color: white;padding-right: 0.2em;padding-left: 0.2em;position: relative;}#sk-container-id-2 div.sk-item {position: relative;z-index: 1;}#sk-container-id-2 div.sk-parallel {display: flex;align-items: stretch;justify-content: center;background-color: white;position: relative;}#sk-container-id-2 div.sk-item::before, #sk-container-id-2 div.sk-parallel-item::before {content: \"\";position: absolute;border-left: 1px solid gray;box-sizing: border-box;top: 0;bottom: 0;left: 50%;z-index: -1;}#sk-container-id-2 div.sk-parallel-item {display: flex;flex-direction: column;z-index: 1;position: relative;background-color: white;}#sk-container-id-2 div.sk-parallel-item:first-child::after {align-self: flex-end;width: 50%;}#sk-container-id-2 div.sk-parallel-item:last-child::after {align-self: flex-start;width: 50%;}#sk-container-id-2 div.sk-parallel-item:only-child::after {width: 0;}#sk-container-id-2 div.sk-dashed-wrapped {border: 1px dashed gray;margin: 0 0.4em 0.5em 0.4em;box-sizing: border-box;padding-bottom: 0.4em;background-color: white;}#sk-container-id-2 div.sk-label label {font-family: monospace;font-weight: bold;display: inline-block;line-height: 1.2em;}#sk-container-id-2 div.sk-label-container {text-align: center;}#sk-container-id-2 div.sk-container {/* jupyter's `normalize.less` sets `[hidden] { display: none; }` but bootstrap.min.css set `[hidden] { display: none !important; }` so we also need the `!important` here to be able to override the default hidden behavior on the sphinx rendered scikit-learn.org. See: https://github.com/scikit-learn/scikit-learn/issues/21755 */display: inline-block !important;position: relative;}#sk-container-id-2 div.sk-text-repr-fallback {display: none;}</style><div id=\"sk-container-id-2\" class=\"sk-top-container\"><div class=\"sk-text-repr-fallback\"><pre>LogisticRegression(random_state=42)</pre><b>In a Jupyter environment, please rerun this cell to show the HTML representation or trust the notebook. <br />On GitHub, the HTML representation is unable to render, please try loading this page with nbviewer.org.</b></div><div class=\"sk-container\" hidden><div class=\"sk-item\"><div class=\"sk-estimator sk-toggleable\"><input class=\"sk-toggleable__control sk-hidden--visually\" id=\"sk-estimator-id-2\" type=\"checkbox\" checked><label for=\"sk-estimator-id-2\" class=\"sk-toggleable__label sk-toggleable__label-arrow\">LogisticRegression</label><div class=\"sk-toggleable__content\"><pre>LogisticRegression(random_state=42)</pre></div></div></div></div></div>"
            ]
          },
          "metadata": {},
          "execution_count": 133
        }
      ]
    },
    {
      "cell_type": "markdown",
      "source": [
        "## Применяем модель для определения категории высказывания"
      ],
      "metadata": {
        "id": "wDqxopink6pl"
      }
    },
    {
      "cell_type": "code",
      "source": [
        "speakers = dict()"
      ],
      "metadata": {
        "id": "qQNH2DdPk7wF"
      },
      "execution_count": null,
      "outputs": []
    },
    {
      "cell_type": "code",
      "source": [
        "test = open('/content/drive/MyDrive/Colab_Notebooks/models/word2vec_class/transcript.txt', encoding='utf8').read()\n",
        "test = test[:-1].split('n')"
      ],
      "metadata": {
        "id": "g7w5Ddj4lDJm"
      },
      "execution_count": null,
      "outputs": []
    },
    {
      "cell_type": "code",
      "source": [
        "for i in test:\n",
        "    speaker, utterance = str(i).split(': ')\n",
        "    speaker = speaker.strip() # 'Speaker A'\n",
        "    utterance = utterance.strip() # '*text*'\n",
        "\n",
        "    # приводим реплику в нормальный вид и веторизуем\n",
        "\n",
        "    utterance_preprocessed = preprocess(utterance)\n",
        "    utterance_vectorized_text = vectorize_text(utterance_preprocessed, navec, max_review_len)\n",
        "    utterance_vector = np.array(utterance_vectorized_text).reshape(1, vector_size * max_review_len)\n",
        "\n",
        "    # предсказываем категорию высказывания\n",
        "\n",
        "    prediction = lr.predict(utterance_vector)\n",
        "\n",
        "    # добавляем спикера в словарь (если его еще нет)\n",
        "\n",
        "    if speaker not in speakers:\n",
        "      speakers[speaker] = []\n",
        "\n",
        "    # если классификатор распознал реплику как предложение, присваиваем ее спикеру\n",
        "\n",
        "    if prediction:\n",
        "      speakers[speaker].append(utterance)\n"
      ],
      "metadata": {
        "id": "KSXJJRkGlH2-"
      },
      "execution_count": null,
      "outputs": []
    },
    {
      "cell_type": "code",
      "source": [
        "speakers"
      ],
      "metadata": {
        "colab": {
          "base_uri": "https://localhost:8080/"
        },
        "id": "X37X_yErlKd3",
        "outputId": "72ab3aa5-8d25-4691-e15e-5dd940cc531d"
      },
      "execution_count": null,
      "outputs": [
        {
          "output_type": "execute_result",
          "data": {
            "text/plain": [
              "{'Speaker A': ['А вот тоже я отправила сообщение тут же. А, ну вы пишете 13, предлагаете, а что насчёт 1, 2, что вы думаете по этому поводу?',\n",
              "  'Что, мы тогда ставим 21 или другие варианты есть? Так, ну 2... Юля и Анна пишут 21. Галина? 29? Нет, подождите, у них максимум 20 ставка.',\n",
              "  'У меня предложение поставить 10. Потому что чуть больше, чем половина от их суммы. Потому что если они потратят больше, то у них будет меньше 100% чем у.',\n",
              "  'Так мы можем всё поставить, мы уже.',\n",
              "  'Так что ставим 18 и всё.',\n",
              "  'Что команда 2 всегда ставит 20, 22, такие. Мне кажется, надо меньше 10 тоже, я согласна. Это хорошо работает, когда они жгут ресурсы, и потом мы с ними работаем. Мне кажется, или 2, или... Я, конечно, за 2, чтобы они осторожны. Но вторая в начале у них была 23 ставка.',\n",
              "  'Так, 5-ая, 1, потом 11. Напишем.',\n",
              "  'Давайте сорок пять тогда, да?',\n",
              "  'Ну тогда давайте единицу.'],\n",
              " 'Speaker B': ['Нас сама отправят.',\n",
              "  'Точно их выиграем, если поставим 18. У них меньше.'],\n",
              " 'Speaker C': ['Давайте, все, отправляю единицу. Ставку сделали.',\n",
              "  'Нужно выйти, да, теперь?',\n",
              "  'Галина, поставите?',\n",
              "  'Так. Ну что, как и так, я предлагаю поставить Либо 13, либо 17, потому.',\n",
              "  'У меня 45 и только ссылочка, пришлите ещё раз у кого-то.',\n",
              "  'Я предлагаю ставить единицу и как бы оставить... Ну то есть ставьте единицу уже.'],\n",
              " 'Speaker D': [],\n",
              " 'Speaker E': ['Нам же не нужно 29.',\n",
              "  'Предлагаю поставить полностью ставку. Сколько у нас осталось. И мы их выиграем. Они не поставят полностью.']}"
            ]
          },
          "metadata": {},
          "execution_count": 139
        }
      ]
    },
    {
      "cell_type": "markdown",
      "source": [
        "# Обучение Word2Vec"
      ],
      "metadata": {
        "id": "qG4O-8Ac3k6F"
      }
    },
    {
      "cell_type": "markdown",
      "source": [
        "### Загружаем данные и предобрабатываем их"
      ],
      "metadata": {
        "id": "tSeATgY43wh1"
      }
    },
    {
      "cell_type": "code",
      "source": [
        "mapping = {'предложение': 1, 'другое': 0}"
      ],
      "metadata": {
        "id": "Y3oSVtVgGLU9"
      },
      "execution_count": null,
      "outputs": []
    },
    {
      "cell_type": "code",
      "source": [
        "daf = pd.read_csv(\"/content/drive/MyDrive/Colab_Notebooks/Classes/file_upd.csv\")\n",
        "daf.drop('Unnamed: 0', inplace=True, axis=1)\n",
        "daf['preprocessed_text'] = daf.apply(lambda row: preprocess(row['text']), axis=1)\n",
        "daf.replace({'category': mapping}, inplace=True)\n",
        "\n",
        "daf"
      ],
      "metadata": {
        "id": "m6M0ux6M3zo0",
        "colab": {
          "base_uri": "https://localhost:8080/",
          "height": 423
        },
        "outputId": "904e19ef-3f9c-4909-9652-eef418ea86fa"
      },
      "execution_count": null,
      "outputs": [
        {
          "output_type": "execute_result",
          "data": {
            "text/plain": [
              "                                                  text  category  \\\n",
              "0                                      Давайте двойку.         1   \n",
              "1                                              Ставлю.         1   \n",
              "2                             Нам надо пять поставить.         1   \n",
              "3                               Ребят, 2 надо ставить.         1   \n",
              "4                  2 надо ставить, у нас ресурсов нет.         1   \n",
              "..                                                 ...       ...   \n",
              "261  Смотрим их, да, и наблюдаем за стратегией других.         0   \n",
              "262  Так, а мне, Варвара, мне надо каждый раз отпра...         0   \n",
              "263                                              Давай         0   \n",
              "264                                   Давай, согласна.         0   \n",
              "265                    Прости, я тебя вообще не слышу.         0   \n",
              "\n",
              "                                     preprocessed_text  \n",
              "0                                     [давать, двойка]  \n",
              "1                                            [ставить]  \n",
              "2                                    [пять, поставить]  \n",
              "3                                 [ребята, 2, ставить]  \n",
              "4                                 [2, ставить, ресурс]  \n",
              "..                                                 ...  \n",
              "261                   [смотреть, наблюдать, стратегия]  \n",
              "262  [варвар, каждый, отправить, ещё, ответ, следую...  \n",
              "263                                           [давать]  \n",
              "264                                [давать, согласный]  \n",
              "265                        [простить, вообще, слышать]  \n",
              "\n",
              "[266 rows x 3 columns]"
            ],
            "text/html": [
              "\n",
              "  <div id=\"df-bd3aa3e1-ad37-4c1f-be61-00464aa73858\" class=\"colab-df-container\">\n",
              "    <div>\n",
              "<style scoped>\n",
              "    .dataframe tbody tr th:only-of-type {\n",
              "        vertical-align: middle;\n",
              "    }\n",
              "\n",
              "    .dataframe tbody tr th {\n",
              "        vertical-align: top;\n",
              "    }\n",
              "\n",
              "    .dataframe thead th {\n",
              "        text-align: right;\n",
              "    }\n",
              "</style>\n",
              "<table border=\"1\" class=\"dataframe\">\n",
              "  <thead>\n",
              "    <tr style=\"text-align: right;\">\n",
              "      <th></th>\n",
              "      <th>text</th>\n",
              "      <th>category</th>\n",
              "      <th>preprocessed_text</th>\n",
              "    </tr>\n",
              "  </thead>\n",
              "  <tbody>\n",
              "    <tr>\n",
              "      <th>0</th>\n",
              "      <td>Давайте двойку.</td>\n",
              "      <td>1</td>\n",
              "      <td>[давать, двойка]</td>\n",
              "    </tr>\n",
              "    <tr>\n",
              "      <th>1</th>\n",
              "      <td>Ставлю.</td>\n",
              "      <td>1</td>\n",
              "      <td>[ставить]</td>\n",
              "    </tr>\n",
              "    <tr>\n",
              "      <th>2</th>\n",
              "      <td>Нам надо пять поставить.</td>\n",
              "      <td>1</td>\n",
              "      <td>[пять, поставить]</td>\n",
              "    </tr>\n",
              "    <tr>\n",
              "      <th>3</th>\n",
              "      <td>Ребят, 2 надо ставить.</td>\n",
              "      <td>1</td>\n",
              "      <td>[ребята, 2, ставить]</td>\n",
              "    </tr>\n",
              "    <tr>\n",
              "      <th>4</th>\n",
              "      <td>2 надо ставить, у нас ресурсов нет.</td>\n",
              "      <td>1</td>\n",
              "      <td>[2, ставить, ресурс]</td>\n",
              "    </tr>\n",
              "    <tr>\n",
              "      <th>...</th>\n",
              "      <td>...</td>\n",
              "      <td>...</td>\n",
              "      <td>...</td>\n",
              "    </tr>\n",
              "    <tr>\n",
              "      <th>261</th>\n",
              "      <td>Смотрим их, да, и наблюдаем за стратегией других.</td>\n",
              "      <td>0</td>\n",
              "      <td>[смотреть, наблюдать, стратегия]</td>\n",
              "    </tr>\n",
              "    <tr>\n",
              "      <th>262</th>\n",
              "      <td>Так, а мне, Варвара, мне надо каждый раз отпра...</td>\n",
              "      <td>0</td>\n",
              "      <td>[варвар, каждый, отправить, ещё, ответ, следую...</td>\n",
              "    </tr>\n",
              "    <tr>\n",
              "      <th>263</th>\n",
              "      <td>Давай</td>\n",
              "      <td>0</td>\n",
              "      <td>[давать]</td>\n",
              "    </tr>\n",
              "    <tr>\n",
              "      <th>264</th>\n",
              "      <td>Давай, согласна.</td>\n",
              "      <td>0</td>\n",
              "      <td>[давать, согласный]</td>\n",
              "    </tr>\n",
              "    <tr>\n",
              "      <th>265</th>\n",
              "      <td>Прости, я тебя вообще не слышу.</td>\n",
              "      <td>0</td>\n",
              "      <td>[простить, вообще, слышать]</td>\n",
              "    </tr>\n",
              "  </tbody>\n",
              "</table>\n",
              "<p>266 rows × 3 columns</p>\n",
              "</div>\n",
              "    <div class=\"colab-df-buttons\">\n",
              "\n",
              "  <div class=\"colab-df-container\">\n",
              "    <button class=\"colab-df-convert\" onclick=\"convertToInteractive('df-bd3aa3e1-ad37-4c1f-be61-00464aa73858')\"\n",
              "            title=\"Convert this dataframe to an interactive table.\"\n",
              "            style=\"display:none;\">\n",
              "\n",
              "  <svg xmlns=\"http://www.w3.org/2000/svg\" height=\"24px\" viewBox=\"0 -960 960 960\">\n",
              "    <path d=\"M120-120v-720h720v720H120Zm60-500h600v-160H180v160Zm220 220h160v-160H400v160Zm0 220h160v-160H400v160ZM180-400h160v-160H180v160Zm440 0h160v-160H620v160ZM180-180h160v-160H180v160Zm440 0h160v-160H620v160Z\"/>\n",
              "  </svg>\n",
              "    </button>\n",
              "\n",
              "  <style>\n",
              "    .colab-df-container {\n",
              "      display:flex;\n",
              "      gap: 12px;\n",
              "    }\n",
              "\n",
              "    .colab-df-convert {\n",
              "      background-color: #E8F0FE;\n",
              "      border: none;\n",
              "      border-radius: 50%;\n",
              "      cursor: pointer;\n",
              "      display: none;\n",
              "      fill: #1967D2;\n",
              "      height: 32px;\n",
              "      padding: 0 0 0 0;\n",
              "      width: 32px;\n",
              "    }\n",
              "\n",
              "    .colab-df-convert:hover {\n",
              "      background-color: #E2EBFA;\n",
              "      box-shadow: 0px 1px 2px rgba(60, 64, 67, 0.3), 0px 1px 3px 1px rgba(60, 64, 67, 0.15);\n",
              "      fill: #174EA6;\n",
              "    }\n",
              "\n",
              "    .colab-df-buttons div {\n",
              "      margin-bottom: 4px;\n",
              "    }\n",
              "\n",
              "    [theme=dark] .colab-df-convert {\n",
              "      background-color: #3B4455;\n",
              "      fill: #D2E3FC;\n",
              "    }\n",
              "\n",
              "    [theme=dark] .colab-df-convert:hover {\n",
              "      background-color: #434B5C;\n",
              "      box-shadow: 0px 1px 3px 1px rgba(0, 0, 0, 0.15);\n",
              "      filter: drop-shadow(0px 1px 2px rgba(0, 0, 0, 0.3));\n",
              "      fill: #FFFFFF;\n",
              "    }\n",
              "  </style>\n",
              "\n",
              "    <script>\n",
              "      const buttonEl =\n",
              "        document.querySelector('#df-bd3aa3e1-ad37-4c1f-be61-00464aa73858 button.colab-df-convert');\n",
              "      buttonEl.style.display =\n",
              "        google.colab.kernel.accessAllowed ? 'block' : 'none';\n",
              "\n",
              "      async function convertToInteractive(key) {\n",
              "        const element = document.querySelector('#df-bd3aa3e1-ad37-4c1f-be61-00464aa73858');\n",
              "        const dataTable =\n",
              "          await google.colab.kernel.invokeFunction('convertToInteractive',\n",
              "                                                    [key], {});\n",
              "        if (!dataTable) return;\n",
              "\n",
              "        const docLinkHtml = 'Like what you see? Visit the ' +\n",
              "          '<a target=\"_blank\" href=https://colab.research.google.com/notebooks/data_table.ipynb>data table notebook</a>'\n",
              "          + ' to learn more about interactive tables.';\n",
              "        element.innerHTML = '';\n",
              "        dataTable['output_type'] = 'display_data';\n",
              "        await google.colab.output.renderOutput(dataTable, element);\n",
              "        const docLink = document.createElement('div');\n",
              "        docLink.innerHTML = docLinkHtml;\n",
              "        element.appendChild(docLink);\n",
              "      }\n",
              "    </script>\n",
              "  </div>\n",
              "\n",
              "\n",
              "<div id=\"df-58517cce-7fe0-4d47-928b-306a3c20e393\">\n",
              "  <button class=\"colab-df-quickchart\" onclick=\"quickchart('df-58517cce-7fe0-4d47-928b-306a3c20e393')\"\n",
              "            title=\"Suggest charts\"\n",
              "            style=\"display:none;\">\n",
              "\n",
              "<svg xmlns=\"http://www.w3.org/2000/svg\" height=\"24px\"viewBox=\"0 0 24 24\"\n",
              "     width=\"24px\">\n",
              "    <g>\n",
              "        <path d=\"M19 3H5c-1.1 0-2 .9-2 2v14c0 1.1.9 2 2 2h14c1.1 0 2-.9 2-2V5c0-1.1-.9-2-2-2zM9 17H7v-7h2v7zm4 0h-2V7h2v10zm4 0h-2v-4h2v4z\"/>\n",
              "    </g>\n",
              "</svg>\n",
              "  </button>\n",
              "\n",
              "<style>\n",
              "  .colab-df-quickchart {\n",
              "      --bg-color: #E8F0FE;\n",
              "      --fill-color: #1967D2;\n",
              "      --hover-bg-color: #E2EBFA;\n",
              "      --hover-fill-color: #174EA6;\n",
              "      --disabled-fill-color: #AAA;\n",
              "      --disabled-bg-color: #DDD;\n",
              "  }\n",
              "\n",
              "  [theme=dark] .colab-df-quickchart {\n",
              "      --bg-color: #3B4455;\n",
              "      --fill-color: #D2E3FC;\n",
              "      --hover-bg-color: #434B5C;\n",
              "      --hover-fill-color: #FFFFFF;\n",
              "      --disabled-bg-color: #3B4455;\n",
              "      --disabled-fill-color: #666;\n",
              "  }\n",
              "\n",
              "  .colab-df-quickchart {\n",
              "    background-color: var(--bg-color);\n",
              "    border: none;\n",
              "    border-radius: 50%;\n",
              "    cursor: pointer;\n",
              "    display: none;\n",
              "    fill: var(--fill-color);\n",
              "    height: 32px;\n",
              "    padding: 0;\n",
              "    width: 32px;\n",
              "  }\n",
              "\n",
              "  .colab-df-quickchart:hover {\n",
              "    background-color: var(--hover-bg-color);\n",
              "    box-shadow: 0 1px 2px rgba(60, 64, 67, 0.3), 0 1px 3px 1px rgba(60, 64, 67, 0.15);\n",
              "    fill: var(--button-hover-fill-color);\n",
              "  }\n",
              "\n",
              "  .colab-df-quickchart-complete:disabled,\n",
              "  .colab-df-quickchart-complete:disabled:hover {\n",
              "    background-color: var(--disabled-bg-color);\n",
              "    fill: var(--disabled-fill-color);\n",
              "    box-shadow: none;\n",
              "  }\n",
              "\n",
              "  .colab-df-spinner {\n",
              "    border: 2px solid var(--fill-color);\n",
              "    border-color: transparent;\n",
              "    border-bottom-color: var(--fill-color);\n",
              "    animation:\n",
              "      spin 1s steps(1) infinite;\n",
              "  }\n",
              "\n",
              "  @keyframes spin {\n",
              "    0% {\n",
              "      border-color: transparent;\n",
              "      border-bottom-color: var(--fill-color);\n",
              "      border-left-color: var(--fill-color);\n",
              "    }\n",
              "    20% {\n",
              "      border-color: transparent;\n",
              "      border-left-color: var(--fill-color);\n",
              "      border-top-color: var(--fill-color);\n",
              "    }\n",
              "    30% {\n",
              "      border-color: transparent;\n",
              "      border-left-color: var(--fill-color);\n",
              "      border-top-color: var(--fill-color);\n",
              "      border-right-color: var(--fill-color);\n",
              "    }\n",
              "    40% {\n",
              "      border-color: transparent;\n",
              "      border-right-color: var(--fill-color);\n",
              "      border-top-color: var(--fill-color);\n",
              "    }\n",
              "    60% {\n",
              "      border-color: transparent;\n",
              "      border-right-color: var(--fill-color);\n",
              "    }\n",
              "    80% {\n",
              "      border-color: transparent;\n",
              "      border-right-color: var(--fill-color);\n",
              "      border-bottom-color: var(--fill-color);\n",
              "    }\n",
              "    90% {\n",
              "      border-color: transparent;\n",
              "      border-bottom-color: var(--fill-color);\n",
              "    }\n",
              "  }\n",
              "</style>\n",
              "\n",
              "  <script>\n",
              "    async function quickchart(key) {\n",
              "      const quickchartButtonEl =\n",
              "        document.querySelector('#' + key + ' button');\n",
              "      quickchartButtonEl.disabled = true;  // To prevent multiple clicks.\n",
              "      quickchartButtonEl.classList.add('colab-df-spinner');\n",
              "      try {\n",
              "        const charts = await google.colab.kernel.invokeFunction(\n",
              "            'suggestCharts', [key], {});\n",
              "      } catch (error) {\n",
              "        console.error('Error during call to suggestCharts:', error);\n",
              "      }\n",
              "      quickchartButtonEl.classList.remove('colab-df-spinner');\n",
              "      quickchartButtonEl.classList.add('colab-df-quickchart-complete');\n",
              "    }\n",
              "    (() => {\n",
              "      let quickchartButtonEl =\n",
              "        document.querySelector('#df-58517cce-7fe0-4d47-928b-306a3c20e393 button');\n",
              "      quickchartButtonEl.style.display =\n",
              "        google.colab.kernel.accessAllowed ? 'block' : 'none';\n",
              "    })();\n",
              "  </script>\n",
              "</div>\n",
              "    </div>\n",
              "  </div>\n"
            ],
            "application/vnd.google.colaboratory.intrinsic+json": {
              "type": "dataframe",
              "variable_name": "daf",
              "summary": "{\n  \"name\": \"daf\",\n  \"rows\": 266,\n  \"fields\": [\n    {\n      \"column\": \"text\",\n      \"properties\": {\n        \"dtype\": \"string\",\n        \"num_unique_values\": 264,\n        \"samples\": [\n          \"\\u041d\\u0438\\u0447\\u0435\\u0433\\u043e, \\u043c\\u043e\\u0436\\u043d\\u043e \\u043d\\u0430 \\u0435\\u0435 \\u043d\\u0430\\u0431\\u043e\\u0440\\u043a\\u0443 \\u0432\\u043e\\u0437\\u0432\\u0440\\u0430\\u0449\\u0430\\u0442\\u044c\\u0441\\u044f.\",\n          \"\\u041d\\u043e \\u043e\\u043d\\u0438 \\u043c\\u043e\\u0433\\u0443\\u0442 \\u0441\\u0435\\u0439\\u0447\\u0430\\u0441 \\u0441\\u0442\\u0440\\u0430\\u0442\\u0435\\u0433\\u0438\\u044e \\u043f\\u043e\\u043c\\u0435\\u043d\\u044f\\u0442\\u044c.\",\n          \"\\u0414\\u0430, \\u0434\\u0430\\u0432\\u0430\\u0439\\u0442\\u0435 \\u043f\\u043e\\u0441\\u0442\\u0430\\u0432\\u0438\\u043c. \\u041d\\u043e \\u043e\\u043d\\u0438 \\u0432\\u044b\\u0438\\u0433\\u0440\\u0430\\u044e\\u0442. \\u041e\\u043d\\u0438 \\u043c\\u043e\\u0433\\u0443\\u0442 \\u0432\\u044b\\u0438\\u0433\\u0440\\u0430\\u0442\\u044c.\"\n        ],\n        \"semantic_type\": \"\",\n        \"description\": \"\"\n      }\n    },\n    {\n      \"column\": \"category\",\n      \"properties\": {\n        \"dtype\": \"number\",\n        \"std\": 0,\n        \"min\": 0,\n        \"max\": 1,\n        \"num_unique_values\": 2,\n        \"samples\": [\n          0,\n          1\n        ],\n        \"semantic_type\": \"\",\n        \"description\": \"\"\n      }\n    },\n    {\n      \"column\": \"preprocessed_text\",\n      \"properties\": {\n        \"dtype\": \"object\",\n        \"semantic_type\": \"\",\n        \"description\": \"\"\n      }\n    }\n  ]\n}"
            }
          },
          "metadata": {},
          "execution_count": 67
        }
      ]
    },
    {
      "cell_type": "code",
      "source": [
        "import gensim.models"
      ],
      "metadata": {
        "id": "2FF2lXOzD81V"
      },
      "execution_count": null,
      "outputs": []
    },
    {
      "cell_type": "code",
      "source": [
        "model = gensim.models.Word2Vec(sentences=daf['preprocessed_text'],\n",
        "                               min_count=5,\n",
        "                               vector_size=50)"
      ],
      "metadata": {
        "id": "exy8ziEPEALN"
      },
      "execution_count": null,
      "outputs": []
    },
    {
      "cell_type": "code",
      "source": [
        "model.wv['смотреть']"
      ],
      "metadata": {
        "colab": {
          "base_uri": "https://localhost:8080/"
        },
        "id": "vgWp1wfJENhG",
        "outputId": "9605f717-1214-4ed0-cd6f-747a842d9e98"
      },
      "execution_count": null,
      "outputs": [
        {
          "output_type": "execute_result",
          "data": {
            "text/plain": [
              "array([ 0.00551305, -0.01678892,  0.01577482,  0.01709652, -0.0192698 ,\n",
              "        0.00486491,  0.01978836, -0.01513808, -0.01406692, -0.01555239,\n",
              "        0.01661968, -0.00151052,  0.01839333, -0.01615649,  0.007569  ,\n",
              "        0.00537288,  0.00163838,  0.00483303, -0.01499473, -0.01884145,\n",
              "        0.00475364,  0.01234927,  0.01615155,  0.01138769, -0.00159783,\n",
              "        0.0167132 , -0.0187832 ,  0.00694932,  0.00055218,  0.00773297,\n",
              "        0.01479465, -0.01358148,  0.01114177, -0.01917262, -0.0017002 ,\n",
              "       -0.01740555, -0.01005168,  0.01856901, -0.00379332,  0.00586708,\n",
              "        0.01832627,  0.01779688, -0.0164775 , -0.00593986,  0.01988948,\n",
              "        0.01016719, -0.00315877, -0.01751079,  0.00591609, -0.01326438],\n",
              "      dtype=float32)"
            ]
          },
          "metadata": {},
          "execution_count": 16
        }
      ]
    },
    {
      "cell_type": "code",
      "source": [
        "model.wv.most_similar('ставить')"
      ],
      "metadata": {
        "colab": {
          "base_uri": "https://localhost:8080/"
        },
        "id": "hG_-Ups_ESlF",
        "outputId": "ed4bb6d2-b757-4112-dcfa-2423e45da08b"
      },
      "execution_count": null,
      "outputs": [
        {
          "output_type": "execute_result",
          "data": {
            "text/plain": [
              "[('секунда', 0.251559853553772),\n",
              " ('думать', 0.2490353286266327),\n",
              " ('решить', 0.20444653928279877),\n",
              " ('играть', 0.1975618302822113),\n",
              " ('автоматически', 0.1811855286359787),\n",
              " ('остаться', 0.17062930762767792),\n",
              " ('смотреть', 0.15976767241954803),\n",
              " ('маленький', 0.1548241376876831),\n",
              " ('25', 0.1471744030714035),\n",
              " ('большой', 0.14600369334220886)]"
            ]
          },
          "metadata": {},
          "execution_count": 183
        }
      ]
    },
    {
      "cell_type": "code",
      "source": [
        "model.save('word2vec-classification-50')"
      ],
      "metadata": {
        "id": "i-_grn7lFU4g"
      },
      "execution_count": null,
      "outputs": []
    },
    {
      "cell_type": "markdown",
      "source": [
        "### Загрузка модели и ее применение"
      ],
      "metadata": {
        "id": "YyVjZZXiFe9E"
      }
    },
    {
      "cell_type": "code",
      "source": [
        "speakers = dict()\n",
        "\n",
        "text = open('/content/drive/MyDrive/Colab_Notebooks/models/word2vec_class/transcript.txt', encoding='utf8').read()\n",
        "text = text[:-1].split('n')"
      ],
      "metadata": {
        "id": "AbbJ79ABhDWS"
      },
      "execution_count": null,
      "outputs": []
    },
    {
      "cell_type": "code",
      "source": [
        "import numpy as np\n",
        "import pandas as pd\n",
        "from gensim.models import Word2Vec\n",
        "\n",
        "# Загрузка предобученной модели Word2Vec\n",
        "model = Word2Vec.load('/content/drive/MyDrive/Colab_Notebooks/models/word2vec_class/word2vec-classification-50')\n",
        "\n",
        "# Функция для получения среднего вектора для документа\n",
        "def document_vector(word2vec_model, doc):\n",
        "    # Отфильтровываем слова, которых нет в модели\n",
        "    doc = [word for word in doc if word in word2vec_model.wv]\n",
        "    if len(doc) == 0:\n",
        "        return np.zeros(word2vec_model.vector_size, dtype=np.float32)\n",
        "\n",
        "    # Считаем среднее всех векторов слов документа\n",
        "    return np.mean(word2vec_model.wv[doc], axis=0)\n",
        "\n",
        "# Преобразование каждого текста в усредненный вектор\n",
        "daf['doc_vector'] = daf['preprocessed_text'].apply(lambda doc: document_vector(model, doc))\n",
        "\n",
        "# Получение массива векторов и меток\n",
        "\n",
        "x_vectors = np.array(daf['doc_vector'].tolist())\n",
        "y_labels = daf['category'].values"
      ],
      "metadata": {
        "id": "-O5g7bjrPAdJ"
      },
      "execution_count": null,
      "outputs": []
    },
    {
      "cell_type": "code",
      "source": [
        "import pickle\n",
        "import numpy as np\n",
        "from gensim.models import Word2Vec\n",
        "\n",
        "model = Word2Vec.load('/content/drive/MyDrive/Colab_Notebooks/models/word2vec_class/word2vec-classification-50')\n",
        "\n",
        "with open('/content/drive/MyDrive/Colab_Notebooks/models/word2vec_class/classifier.pkl', 'rb') as file:\n",
        "    classifier = pickle.load(file)"
      ],
      "metadata": {
        "id": "t5bhJxfEbpMB"
      },
      "execution_count": null,
      "outputs": []
    },
    {
      "cell_type": "code",
      "source": [
        "from sklearn.model_selection import cross_val_score\n",
        "from sklearn.metrics import f1_score, make_scorer\n",
        "from sklearn.svm import SVC\n",
        "\n",
        "# Инициализация классификатора SVC\n",
        "classifier = SVC(probability=True)\n",
        "\n",
        "# Создание скорера для f1-score\n",
        "f1_scorer = make_scorer(f1_score)\n",
        "\n",
        "# Выполнение кросс-валидации с вычислением f1-score\n",
        "f1_scores = cross_val_score(classifier, x_vectors, y_labels, cv=5, scoring=f1_scorer)\n",
        "\n",
        "# Вывод результатов\n",
        "print(\"Средний F1-счет: %0.2f (+/- %0.2f)\" % (f1_scores.mean(), f1_scores.std() * 2))\n"
      ],
      "metadata": {
        "colab": {
          "base_uri": "https://localhost:8080/"
        },
        "id": "ff2to08d4co9",
        "outputId": "40a4b7a8-2a95-412f-e00b-08b615590e08"
      },
      "execution_count": null,
      "outputs": [
        {
          "output_type": "stream",
          "name": "stdout",
          "text": [
            "Средний F1-счет: 0.62 (+/- 0.24)\n"
          ]
        }
      ]
    },
    {
      "cell_type": "code",
      "source": [
        "import matplotlib.pyplot as plt\n",
        "\n",
        "# Создание графика достижений\n",
        "plt.figure(figsize=(10, 6))\n",
        "plt.plot(f1_scores, marker='o', linestyle='-', color='b')\n",
        "plt.title('Результаты f1-score при 5-fold кросс-валидации')\n",
        "plt.xlabel('Кросс-валидация № 1')\n",
        "plt.ylabel('f1-score')\n",
        "plt.xticks(range(len(f1_scores)))\n",
        "plt.grid(True)\n",
        "\n",
        "# Отображение графика\n",
        "plt.show()"
      ],
      "metadata": {
        "colab": {
          "base_uri": "https://localhost:8080/",
          "height": 564
        },
        "id": "aLlcLS_nbrXA",
        "outputId": "368879de-2dc0-4615-ec3f-5086099b3380"
      },
      "execution_count": null,
      "outputs": [
        {
          "output_type": "display_data",
          "data": {
            "text/plain": [
              "<Figure size 1000x600 with 1 Axes>"
            ],
            "image/png": "[encoded data removed]"
          },
          "metadata": {}
        }
      ]
    },
    {
      "cell_type": "code",
      "source": [
        "from sklearn.metrics import roc_curve, auc\n",
        "from sklearn.model_selection import train_test_split\n",
        "import matplotlib.pyplot as plt\n",
        "\n",
        "# Разбиение данных на обучающие и тестовые наборы\n",
        "X_train, X_test, y_train, y_test = train_test_split(x_vectors, y_labels, test_size=0.3, random_state=42)\n",
        "\n",
        "# Обучение классификатора\n",
        "classifier.fit(X_train, y_train)\n",
        "\n",
        "# Вычисление вероятностей\n",
        "y_scores = classifier.predict_proba(X_test)[:,1]\n",
        "\n",
        "# Вычисление TPR и FPR\n",
        "fpr, tpr, threshold = roc_curve(y_test, y_scores)\n",
        "\n",
        "# Вычисление площади под кривой\n",
        "roc_auc = auc(fpr, tpr)\n",
        "\n",
        "# Построение графика\n",
        "plt.figure(figsize=(10, 6))\n",
        "plt.plot(fpr, tpr, color='darkorange', lw=2, label='ROC-кривая (площадь = %0.2f)' % roc_auc)\n",
        "plt.plot([0, 1], [0, 1], color='navy', lw=2, linestyle='--')\n",
        "plt.xlim([0.0, 1.0])\n",
        "plt.ylim([0.0, 1.05])\n",
        "plt.xlabel('Ложно позитивные показатели')\n",
        "plt.ylabel('Истинно положительные показатели')\n",
        "plt.title('ROC-кривая')\n",
        "plt.legend(loc=\"lower right\")\n",
        "plt.show()\n"
      ],
      "metadata": {
        "colab": {
          "base_uri": "https://localhost:8080/",
          "height": 564
        },
        "id": "4RX3pYKb1FEp",
        "outputId": "e0bf7a2b-549a-4abe-fd00-3b88f712ce7a"
      },
      "execution_count": null,
      "outputs": [
        {
          "output_type": "display_data",
          "data": {
            "text/plain": [
              "<Figure size 1000x600 with 1 Axes>"
            ],
            "image/png": "[encoded data removed]"
          },
          "metadata": {}
        }
      ]
    },
    {
      "cell_type": "code",
      "source": [
        "classifier.fit(x_vectors, y_labels)\n",
        "\n",
        "import pickle\n",
        "\n",
        "with open('classifier.pkl', 'wb') as file:\n",
        "    pickle.dump(classifier, file)"
      ],
      "metadata": {
        "id": "Mf3QacAoXDvq"
      },
      "execution_count": null,
      "outputs": []
    },
    {
      "cell_type": "code",
      "source": [
        "from sklearn.metrics import precision_recall_curve\n",
        "import matplotlib.pyplot as plt\n",
        "\n",
        "# Предполагается, что X_test - это ваши тестовые данные, а y_test - истинные метки классов\n",
        "# Предсказываем вероятности классов\n",
        "y_scores = classifier.decision_function(X_test)\n",
        "\n",
        "# Вычисляем precision и recall для всех возможных порогов\n",
        "precision, recall, threshold = precision_recall_curve(y_test, y_scores)\n",
        "\n",
        "# Рисуем PR кривую\n",
        "plt.figure()\n",
        "plt.plot(recall, precision, label='Кривая Precision-Recall')\n",
        "plt.xlabel('Полнота')\n",
        "plt.ylabel('Точность (precision)')\n",
        "plt.title('Кривая Precision-Recall')\n",
        "plt.legend(loc=\"lower left\")\n",
        "plt.show()\n"
      ],
      "metadata": {
        "colab": {
          "base_uri": "https://localhost:8080/",
          "height": 472
        },
        "id": "Hj-TltX_8Mpf",
        "outputId": "3ae9112b-661d-4d5f-ab42-47a01b592a56"
      },
      "execution_count": null,
      "outputs": [
        {
          "output_type": "display_data",
          "data": {
            "text/plain": [
              "<Figure size 640x480 with 1 Axes>"
            ],
            "image/png": "[encoded data removed]"
          },
          "metadata": {}
        }
      ]
    },
    {
      "cell_type": "code",
      "source": [
        "from gensim.models import Word2Vec\n",
        "from sklearn.manifold import TSNE\n",
        "import matplotlib.pyplot as plt\n",
        "import numpy as np\n",
        "\n",
        "vectors = [model.wv[word] for word in list(model.wv.key_to_index)[:100]]  # Берем первые 100 слов\n",
        "words = list(model.wv.key_to_index)[:100]\n",
        "vectors_array = np.array(vectors)\n",
        "\n",
        "# Применяем t-SNE\n",
        "tsne = TSNE(n_components=2, random_state=0)\n",
        "vectors_2d = tsne.fit_transform(vectors_array)\n",
        "\n",
        "# Визуализация\n",
        "plt.figure(figsize=(10, 10))\n",
        "for i, word in enumerate(words):\n",
        "    plt.scatter(vectors_2d[i, 0], vectors_2d[i, 1])\n",
        "    plt.text(vectors_2d[i, 0]+0.03, vectors_2d[i, 1]+0.03, word, fontsize=9)\n",
        "plt.show()\n"
      ],
      "metadata": {
        "colab": {
          "base_uri": "https://localhost:8080/",
          "height": 830
        },
        "id": "jyNwhXGwol4i",
        "outputId": "2c75ad7c-e813-430b-e0b8-9278e34417b2"
      },
      "execution_count": null,
      "outputs": [
        {
          "output_type": "display_data",
          "data": {
            "text/plain": [
              "<Figure size 1000x1000 with 1 Axes>"
            ],
            "image/png": "[encoded data removed]"
          },
          "metadata": {}
        }
      ]
    },
    {
      "cell_type": "code",
      "source": [
        "words = []\n",
        "\n",
        "def get_vector(model, tokenized_text):\n",
        "    return document_vector(model, tokenized_text)\n",
        "\n",
        "# берем поступаемый текст и разделяем его на части: Speaker N, *реплика этого спикера*\n",
        "\n",
        "for i in text:\n",
        "    speaker, utterance = str(i).split(': ')\n",
        "    utterance = utterance.strip() # '*text*'\n",
        "    words.append(utterance)\n",
        "\n",
        "dictionary = {'text': words}\n",
        "test = pd.DataFrame(dictionary)\n",
        "\n",
        "test['preprocesed_text'] = test.apply(lambda row: preprocess(row['text']), axis=1)\n",
        "\n",
        "for i in range(len(text)):\n",
        "    speaker, utterance = text[i].split(': ')\n",
        "    speaker = speaker.strip() # 'Speaker A'\n",
        "    utterance = utterance.strip() # '*text*'\n",
        "\n",
        "    new_vector = get_vector(model, test['preprocesed_text'][i])\n",
        "    new_vector = np.array([new_vector])\n",
        "\n",
        "    prediction = classifier.predict(new_vector)\n",
        "\n",
        "    if speaker not in speakers:\n",
        "      speakers[speaker] = []\n",
        "\n",
        "    if prediction:\n",
        "      speakers[speaker].append(utterance)"
      ],
      "metadata": {
        "id": "qr9d1hzinoHa"
      },
      "execution_count": null,
      "outputs": []
    },
    {
      "cell_type": "code",
      "source": [
        "speakers"
      ],
      "metadata": {
        "colab": {
          "base_uri": "https://localhost:8080/"
        },
        "id": "uZ57tDO1oK8A",
        "outputId": "77a4eea5-eeaa-4f14-b50d-6c9db44ae9e1"
      },
      "execution_count": null,
      "outputs": [
        {
          "output_type": "execute_result",
          "data": {
            "text/plain": [
              "{'Speaker A': ['А вот тоже я отправила сообщение тут же. А, ну вы пишете 13, предлагаете, а что насчёт 1, 2, что вы думаете по этому поводу?',\n",
              "  'Что, мы тогда ставим 21 или другие варианты есть? Так, ну 2... Юля и Анна пишут 21. Галина? 29? Нет, подождите, у них максимум 20 ставка.',\n",
              "  'Но если они пойдут во банку, у них 20, а мы 21 поставим Ну.',\n",
              "  'Что команда 2 всегда ставит 20, 22, такие. Мне кажется, надо меньше 10 тоже, я согласна. Это хорошо работает, когда они жгут ресурсы, и потом мы с ними работаем. Мне кажется, или 2, или... Я, конечно, за 2, чтобы они осторожны. Но вторая в начале у них была 23 ставка.',\n",
              "  'Мне кажется, они пойдут в лобанк, а нужно столько, чтобы перекрыть их.',\n",
              "  'Давайте сорок пять тогда, да?',\n",
              "  'Ну тогда давайте единицу.'],\n",
              " 'Speaker B': ['Мы... Поздравляю в одном шаге от победы. Так, я предлагаю поставить семь.',\n",
              "  'Да, мы таким же составом. Что, мы снова ставим один?'],\n",
              " 'Speaker C': ['Я предлагаю начать с минимальных ставок для того, чтобы раскрутить своих оппонентов на более высокие ставки. Предлагаю сделать синие яички, чтобы у нас осталось больше денег, у нас будет больше потом ставок перейти.',\n",
              "  'Галина, поставите?',\n",
              "  'Нет, ну тут меньше семи-то они точно не поставят?',\n",
              "  'Так. Ну что, как и так, я предлагаю поставить Либо 13, либо 17, потому.',\n",
              "  'В прошлый раз вообще... Я заметила, что вот если начинать примерно там... Либо с мерянки вставки, либо начинать с тринадцати и потом ставить поменьше. Ну, то есть как бы... Либо начинать вот надо с какой-то там с пяти или с трёх. А потом десятые прибавляется. Либо вот наоборот. Сначала с десятых больше десяти ставить. Например, одиннадцать или тринадцать. А потом уменьшать инициум. То есть вот тут надо практику.',\n",
              "  'Я предлагаю ставить единицу и как бы оставить... Ну то есть ставьте единицу уже.'],\n",
              " 'Speaker D': [],\n",
              " 'Speaker E': ['Нам же не нужно 29.',\n",
              "  'Да, давайте три, чтобы больше ресурсов осталось.']}"
            ]
          },
          "metadata": {},
          "execution_count": 75
        }
      ]
    },
    {
      "cell_type": "markdown",
      "source": [
        "### Загрузка модели и классификатора для предсказаний"
      ],
      "metadata": {
        "id": "J7HubnyEV2Uz"
      }
    },
    {
      "cell_type": "code",
      "source": [
        "import pickle\n",
        "import numpy as np\n",
        "from gensim.models import Word2Vec\n",
        "\n",
        "model = Word2Vec.load('/content/drive/MyDrive/Colab_Notebooks/models/word2vec_class/word2vec-classification-50')\n",
        "\n",
        "with open('/content/drive/MyDrive/Colab_Notebooks/models/word2vec_class/classifier.pkl', 'rb') as file:\n",
        "    classifier = pickle.load(file)"
      ],
      "metadata": {
        "id": "BzMJFov7Rjk1"
      },
      "execution_count": null,
      "outputs": []
    },
    {
      "cell_type": "code",
      "source": [
        "def preprocess(text):\n",
        "    tokens = word_tokenize(text.lower())\n",
        "    preprocessed_text = []\n",
        "    for token in tokens:\n",
        "        if token not in punctuation_marks:\n",
        "            lemma = morph.parse(token)[0].normal_form\n",
        "            if lemma not in stop_words:\n",
        "                preprocessed_text.append(lemma)\n",
        "    return preprocessed_text\n",
        "\n",
        "morph = pymorphy3.MorphAnalyzer()\n",
        "stop_words = stopwords.words('russian')\n",
        "punctuation_marks = ['!', ',', '(', ')', ':', '-', '?', '.', '..', '...', '«', '»']\n",
        "\n",
        "def get_vector(model, tokenized_text):\n",
        "    return document_vector(model, tokenized_text)\n",
        "\n",
        "def process_text(text):\n",
        "    speakers = {}\n",
        "    if type(text) != list:\n",
        "      lines = text.split('\\n')  # каждая новая строка считается репликой\n",
        "    else:\n",
        "      lines = text\n",
        "\n",
        "    for line in lines:\n",
        "        if not line.strip():\n",
        "            continue  # Пропускаем пустые строки\n",
        "\n",
        "        try:\n",
        "            speaker, utterance = line.split(': ', 1)\n",
        "        except ValueError:  # если строка не содержит спикера\n",
        "            continue\n",
        "\n",
        "        speaker = speaker.strip()\n",
        "        utterance = utterance.strip()\n",
        "\n",
        "        if speaker not in speakers:\n",
        "            speakers[speaker] = []\n",
        "\n",
        "        # Предобработка реплики перед подачей в модель\n",
        "        preprocessed_utterance = preprocess(utterance)\n",
        "\n",
        "        # Получение вектора для отдельно взятой реплики\n",
        "        new_vector = get_vector(model, preprocessed_utterance)\n",
        "        new_vector = np.array([new_vector])\n",
        "\n",
        "        # Получение предсказания модели\n",
        "        prediction = classifier.predict(new_vector)\n",
        "\n",
        "        if prediction:\n",
        "            # Принадлежность реплики данному спикеру уже гарантирована, добавляем ее в список\n",
        "            speakers[speaker].append(utterance)\n",
        "\n",
        "    return speakers"
      ],
      "metadata": {
        "id": "dVf7UFkQzkhS"
      },
      "execution_count": null,
      "outputs": []
    },
    {
      "cell_type": "code",
      "source": [
        "lines = open('/content/drive/MyDrive/Colab_Notebooks/models/word2vec_class/transcript.txt', encoding='utf8').read()\n",
        "lines = lines[:-1].split('n')"
      ],
      "metadata": {
        "id": "_oMDKQwhQzVQ"
      },
      "execution_count": null,
      "outputs": []
    },
    {
      "cell_type": "code",
      "source": [
        "process_text(lines)"
      ],
      "metadata": {
        "colab": {
          "base_uri": "https://localhost:8080/"
        },
        "id": "p_qVmM6UuPW0",
        "outputId": "296482c5-ab61-499a-fd92-00f8c6eb55b3"
      },
      "execution_count": null,
      "outputs": [
        {
          "output_type": "execute_result",
          "data": {
            "text/plain": [
              "{'Speaker A': ['А вот тоже я отправила сообщение тут же. А, ну вы пишете 13, предлагаете, а что насчёт 1, 2, что вы думаете по этому поводу?',\n",
              "  'Что, мы тогда ставим 21 или другие варианты есть? Так, ну 2... Юля и Анна пишут 21. Галина? 29? Нет, подождите, у них максимум 20 ставка.',\n",
              "  'Но если они пойдут во банку, у них 20, а мы 21 поставим Ну.',\n",
              "  'Что команда 2 всегда ставит 20, 22, такие. Мне кажется, надо меньше 10 тоже, я согласна. Это хорошо работает, когда они жгут ресурсы, и потом мы с ними работаем. Мне кажется, или 2, или... Я, конечно, за 2, чтобы они осторожны. Но вторая в начале у них была 23 ставка.',\n",
              "  'Мне кажется, они пойдут в лобанк, а нужно столько, чтобы перекрыть их.',\n",
              "  'Давайте сорок пять тогда, да?',\n",
              "  'Ну тогда давайте единицу.'],\n",
              " 'Speaker B': ['Мы... Поздравляю в одном шаге от победы. Так, я предлагаю поставить семь.',\n",
              "  'Да, мы таким же составом. Что, мы снова ставим один?'],\n",
              " 'Speaker C': ['Я предлагаю начать с минимальных ставок для того, чтобы раскрутить своих оппонентов на более высокие ставки. Предлагаю сделать синие яички, чтобы у нас осталось больше денег, у нас будет больше потом ставок перейти.',\n",
              "  'Галина, поставите?',\n",
              "  'Нет, ну тут меньше семи-то они точно не поставят?',\n",
              "  'Так. Ну что, как и так, я предлагаю поставить Либо 13, либо 17, потому.',\n",
              "  'В прошлый раз вообще... Я заметила, что вот если начинать примерно там... Либо с мерянки вставки, либо начинать с тринадцати и потом ставить поменьше. Ну, то есть как бы... Либо начинать вот надо с какой-то там с пяти или с трёх. А потом десятые прибавляется. Либо вот наоборот. Сначала с десятых больше десяти ставить. Например, одиннадцать или тринадцать. А потом уменьшать инициум. То есть вот тут надо практику.',\n",
              "  'Я предлагаю ставить единицу и как бы оставить... Ну то есть ставьте единицу уже.'],\n",
              " 'Speaker D': [],\n",
              " 'Speaker E': ['Нам же не нужно 29.',\n",
              "  'Да, давайте три, чтобы больше ресурсов осталось.']}"
            ]
          },
          "metadata": {},
          "execution_count": 174
        }
      ]
    }
  ]
}